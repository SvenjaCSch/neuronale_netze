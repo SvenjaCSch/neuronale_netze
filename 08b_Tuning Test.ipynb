{
 "cells": [
  {
   "cell_type": "markdown",
   "id": "6b0fd06a-f3cb-4732-bc7d-1c7ad2d39c0f",
   "metadata": {},
   "source": [
    "# Comparison Loss Function and Validation Score"
   ]
  },
  {
   "cell_type": "markdown",
   "id": "5bce52fe-8793-4ee5-8b75-1932fd4aa55d",
   "metadata": {},
   "source": [
    "1) Import der einzelnen Libraries. Sortieren der Daten nach der Zielkategorie für den ersten Überblick.\n",
    "2) Aufteilen der Trainings- und Testdaten. Erstellen von notwendigen Listen\n",
    "3) Erstellen von Funktionen \n",
    "4) initialisieren der einzelnen MLPClassifier Netze \n",
    "5) Ergebnisse: Textuelle Daten, geplottete Vergleiche, prozentuale Heatmaps und Reports"
   ]
  },
  {
   "cell_type": "markdown",
   "id": "e3990afb-733a-40a5-957e-451abceb2d5e",
   "metadata": {
    "tags": []
   },
   "source": [
    "## imports and data"
   ]
  },
  {
   "cell_type": "code",
   "execution_count": 1,
   "id": "e9ce620e-67af-4fcb-8736-ead8893c3523",
   "metadata": {},
   "outputs": [
    {
     "data": {
      "text/plain": [
       "dict_keys(['data', 'target', 'frame', 'target_names', 'feature_names', 'DESCR'])"
      ]
     },
     "execution_count": 1,
     "metadata": {},
     "output_type": "execute_result"
    }
   ],
   "source": [
    "from sklearn.datasets import fetch_covtype\n",
    "from sklearn.preprocessing import StandardScaler\n",
    "from sklearn.neural_network import MLPClassifier\n",
    "from sklearn.model_selection import train_test_split\n",
    "from sklearn.metrics import classification_report,confusion_matrix, balanced_accuracy_score, roc_auc_score, top_k_accuracy_score, cohen_kappa_score, matthews_corrcoef, hinge_loss\n",
    "from sklearn.metrics import plot_confusion_matrix, multilabel_confusion_matrix\n",
    "from sklearn.metrics import RocCurveDisplay, accuracy_score, recall_score, precision_score, precision_recall_fscore_support\n",
    "import matplotlib.pyplot as plt\n",
    "import matplotlib.figure as fig\n",
    "from matplotlib.colors import ListedColormap\n",
    "from mpl_toolkits import mplot3d\n",
    "import seaborn as sns\n",
    "import numpy as np\n",
    "import pandas as pd\n",
    "import time\n",
    "covertype = fetch_covtype()\n",
    "forest = fetch_covtype(as_frame=True)\n",
    "covertype.keys()"
   ]
  },
  {
   "cell_type": "code",
   "execution_count": 2,
   "id": "a574498c-78cc-4eb5-9626-ea65dab5307e",
   "metadata": {
    "tags": []
   },
   "outputs": [
    {
     "data": {
      "text/plain": [
       "0         5\n",
       "1         5\n",
       "2         2\n",
       "3         2\n",
       "4         5\n",
       "         ..\n",
       "581007    3\n",
       "581008    3\n",
       "581009    3\n",
       "581010    3\n",
       "581011    3\n",
       "Name: Cover_Type, Length: 581012, dtype: int32"
      ]
     },
     "execution_count": 2,
     "metadata": {},
     "output_type": "execute_result"
    }
   ],
   "source": [
    "forest.target"
   ]
  },
  {
   "cell_type": "code",
   "execution_count": 3,
   "id": "3a19f2f3-1f0e-43f7-88fd-f3a9b3b7bdf9",
   "metadata": {},
   "outputs": [],
   "source": [
    "forestlist = forest.frame\n",
    "forestlistFiltered = forestlist.filter(items=['Elevation', 'Aspect', 'Slope', 'Horizontal_Distance_To_Hydrology', 'Vertical_Distance_To_Hydrology', 'Horizontal_Distance_To_Roadways', 'Hillshade_9am', 'Hillshade_Noon', 'Hillshade_3pm', 'Horizontal_Distance_To_Fire_Points', 'Wilderness_Area_0', 'Wilderness_Area_1', 'Wilderness_Area_2', 'Wilderness_Area_3', 'Cover_Type'])"
   ]
  },
  {
   "cell_type": "code",
   "execution_count": 4,
   "id": "4ec34c71-e117-44eb-a8bb-1d7acdd756f5",
   "metadata": {
    "tags": []
   },
   "outputs": [
    {
     "data": {
      "text/html": [
       "<div>\n",
       "<style scoped>\n",
       "    .dataframe tbody tr th:only-of-type {\n",
       "        vertical-align: middle;\n",
       "    }\n",
       "\n",
       "    .dataframe tbody tr th {\n",
       "        vertical-align: top;\n",
       "    }\n",
       "\n",
       "    .dataframe thead th {\n",
       "        text-align: right;\n",
       "    }\n",
       "</style>\n",
       "<table border=\"1\" class=\"dataframe\">\n",
       "  <thead>\n",
       "    <tr style=\"text-align: right;\">\n",
       "      <th></th>\n",
       "      <th>Elevation</th>\n",
       "      <th>Aspect</th>\n",
       "      <th>Slope</th>\n",
       "      <th>Horizontal_Distance_To_Hydrology</th>\n",
       "      <th>Vertical_Distance_To_Hydrology</th>\n",
       "      <th>Horizontal_Distance_To_Roadways</th>\n",
       "      <th>Hillshade_9am</th>\n",
       "      <th>Hillshade_Noon</th>\n",
       "      <th>Hillshade_3pm</th>\n",
       "      <th>Horizontal_Distance_To_Fire_Points</th>\n",
       "      <th>...</th>\n",
       "      <th>Soil_Type_31</th>\n",
       "      <th>Soil_Type_32</th>\n",
       "      <th>Soil_Type_33</th>\n",
       "      <th>Soil_Type_34</th>\n",
       "      <th>Soil_Type_35</th>\n",
       "      <th>Soil_Type_36</th>\n",
       "      <th>Soil_Type_37</th>\n",
       "      <th>Soil_Type_38</th>\n",
       "      <th>Soil_Type_39</th>\n",
       "      <th>Cover_Type</th>\n",
       "    </tr>\n",
       "  </thead>\n",
       "  <tbody>\n",
       "    <tr>\n",
       "      <th>290505</th>\n",
       "      <td>2928.0</td>\n",
       "      <td>58.0</td>\n",
       "      <td>7.0</td>\n",
       "      <td>150.0</td>\n",
       "      <td>-7.0</td>\n",
       "      <td>1836.0</td>\n",
       "      <td>226.0</td>\n",
       "      <td>225.0</td>\n",
       "      <td>133.0</td>\n",
       "      <td>190.0</td>\n",
       "      <td>...</td>\n",
       "      <td>1.0</td>\n",
       "      <td>0.0</td>\n",
       "      <td>0.0</td>\n",
       "      <td>0.0</td>\n",
       "      <td>0.0</td>\n",
       "      <td>0.0</td>\n",
       "      <td>0.0</td>\n",
       "      <td>0.0</td>\n",
       "      <td>0.0</td>\n",
       "      <td>1</td>\n",
       "    </tr>\n",
       "    <tr>\n",
       "      <th>532739</th>\n",
       "      <td>3015.0</td>\n",
       "      <td>343.0</td>\n",
       "      <td>18.0</td>\n",
       "      <td>376.0</td>\n",
       "      <td>50.0</td>\n",
       "      <td>3378.0</td>\n",
       "      <td>181.0</td>\n",
       "      <td>211.0</td>\n",
       "      <td>166.0</td>\n",
       "      <td>1982.0</td>\n",
       "      <td>...</td>\n",
       "      <td>0.0</td>\n",
       "      <td>0.0</td>\n",
       "      <td>0.0</td>\n",
       "      <td>0.0</td>\n",
       "      <td>0.0</td>\n",
       "      <td>0.0</td>\n",
       "      <td>0.0</td>\n",
       "      <td>0.0</td>\n",
       "      <td>0.0</td>\n",
       "      <td>1</td>\n",
       "    </tr>\n",
       "    <tr>\n",
       "      <th>532740</th>\n",
       "      <td>3018.0</td>\n",
       "      <td>341.0</td>\n",
       "      <td>18.0</td>\n",
       "      <td>350.0</td>\n",
       "      <td>53.0</td>\n",
       "      <td>3398.0</td>\n",
       "      <td>180.0</td>\n",
       "      <td>211.0</td>\n",
       "      <td>168.0</td>\n",
       "      <td>2005.0</td>\n",
       "      <td>...</td>\n",
       "      <td>0.0</td>\n",
       "      <td>0.0</td>\n",
       "      <td>0.0</td>\n",
       "      <td>0.0</td>\n",
       "      <td>0.0</td>\n",
       "      <td>0.0</td>\n",
       "      <td>0.0</td>\n",
       "      <td>0.0</td>\n",
       "      <td>0.0</td>\n",
       "      <td>1</td>\n",
       "    </tr>\n",
       "    <tr>\n",
       "      <th>532741</th>\n",
       "      <td>3021.0</td>\n",
       "      <td>345.0</td>\n",
       "      <td>18.0</td>\n",
       "      <td>324.0</td>\n",
       "      <td>45.0</td>\n",
       "      <td>3419.0</td>\n",
       "      <td>182.0</td>\n",
       "      <td>209.0</td>\n",
       "      <td>164.0</td>\n",
       "      <td>2029.0</td>\n",
       "      <td>...</td>\n",
       "      <td>0.0</td>\n",
       "      <td>0.0</td>\n",
       "      <td>0.0</td>\n",
       "      <td>0.0</td>\n",
       "      <td>0.0</td>\n",
       "      <td>0.0</td>\n",
       "      <td>0.0</td>\n",
       "      <td>0.0</td>\n",
       "      <td>0.0</td>\n",
       "      <td>1</td>\n",
       "    </tr>\n",
       "    <tr>\n",
       "      <th>532742</th>\n",
       "      <td>3023.0</td>\n",
       "      <td>349.0</td>\n",
       "      <td>19.0</td>\n",
       "      <td>300.0</td>\n",
       "      <td>47.0</td>\n",
       "      <td>3439.0</td>\n",
       "      <td>182.0</td>\n",
       "      <td>206.0</td>\n",
       "      <td>160.0</td>\n",
       "      <td>2052.0</td>\n",
       "      <td>...</td>\n",
       "      <td>0.0</td>\n",
       "      <td>0.0</td>\n",
       "      <td>0.0</td>\n",
       "      <td>0.0</td>\n",
       "      <td>0.0</td>\n",
       "      <td>0.0</td>\n",
       "      <td>0.0</td>\n",
       "      <td>0.0</td>\n",
       "      <td>0.0</td>\n",
       "      <td>1</td>\n",
       "    </tr>\n",
       "    <tr>\n",
       "      <th>...</th>\n",
       "      <td>...</td>\n",
       "      <td>...</td>\n",
       "      <td>...</td>\n",
       "      <td>...</td>\n",
       "      <td>...</td>\n",
       "      <td>...</td>\n",
       "      <td>...</td>\n",
       "      <td>...</td>\n",
       "      <td>...</td>\n",
       "      <td>...</td>\n",
       "      <td>...</td>\n",
       "      <td>...</td>\n",
       "      <td>...</td>\n",
       "      <td>...</td>\n",
       "      <td>...</td>\n",
       "      <td>...</td>\n",
       "      <td>...</td>\n",
       "      <td>...</td>\n",
       "      <td>...</td>\n",
       "      <td>...</td>\n",
       "      <td>...</td>\n",
       "    </tr>\n",
       "    <tr>\n",
       "      <th>399826</th>\n",
       "      <td>3334.0</td>\n",
       "      <td>356.0</td>\n",
       "      <td>10.0</td>\n",
       "      <td>558.0</td>\n",
       "      <td>100.0</td>\n",
       "      <td>765.0</td>\n",
       "      <td>204.0</td>\n",
       "      <td>223.0</td>\n",
       "      <td>156.0</td>\n",
       "      <td>1642.0</td>\n",
       "      <td>...</td>\n",
       "      <td>0.0</td>\n",
       "      <td>0.0</td>\n",
       "      <td>0.0</td>\n",
       "      <td>0.0</td>\n",
       "      <td>0.0</td>\n",
       "      <td>0.0</td>\n",
       "      <td>0.0</td>\n",
       "      <td>0.0</td>\n",
       "      <td>0.0</td>\n",
       "      <td>7</td>\n",
       "    </tr>\n",
       "    <tr>\n",
       "      <th>399825</th>\n",
       "      <td>3333.0</td>\n",
       "      <td>6.0</td>\n",
       "      <td>7.0</td>\n",
       "      <td>601.0</td>\n",
       "      <td>99.0</td>\n",
       "      <td>806.0</td>\n",
       "      <td>212.0</td>\n",
       "      <td>226.0</td>\n",
       "      <td>152.0</td>\n",
       "      <td>1583.0</td>\n",
       "      <td>...</td>\n",
       "      <td>1.0</td>\n",
       "      <td>0.0</td>\n",
       "      <td>0.0</td>\n",
       "      <td>0.0</td>\n",
       "      <td>0.0</td>\n",
       "      <td>0.0</td>\n",
       "      <td>0.0</td>\n",
       "      <td>0.0</td>\n",
       "      <td>0.0</td>\n",
       "      <td>7</td>\n",
       "    </tr>\n",
       "    <tr>\n",
       "      <th>399824</th>\n",
       "      <td>3334.0</td>\n",
       "      <td>3.0</td>\n",
       "      <td>5.0</td>\n",
       "      <td>601.0</td>\n",
       "      <td>39.0</td>\n",
       "      <td>845.0</td>\n",
       "      <td>214.0</td>\n",
       "      <td>231.0</td>\n",
       "      <td>155.0</td>\n",
       "      <td>1524.0</td>\n",
       "      <td>...</td>\n",
       "      <td>1.0</td>\n",
       "      <td>0.0</td>\n",
       "      <td>0.0</td>\n",
       "      <td>0.0</td>\n",
       "      <td>0.0</td>\n",
       "      <td>0.0</td>\n",
       "      <td>0.0</td>\n",
       "      <td>0.0</td>\n",
       "      <td>0.0</td>\n",
       "      <td>7</td>\n",
       "    </tr>\n",
       "    <tr>\n",
       "      <th>399812</th>\n",
       "      <td>3331.0</td>\n",
       "      <td>246.0</td>\n",
       "      <td>3.0</td>\n",
       "      <td>660.0</td>\n",
       "      <td>117.0</td>\n",
       "      <td>859.0</td>\n",
       "      <td>213.0</td>\n",
       "      <td>241.0</td>\n",
       "      <td>166.0</td>\n",
       "      <td>1113.0</td>\n",
       "      <td>...</td>\n",
       "      <td>1.0</td>\n",
       "      <td>0.0</td>\n",
       "      <td>0.0</td>\n",
       "      <td>0.0</td>\n",
       "      <td>0.0</td>\n",
       "      <td>0.0</td>\n",
       "      <td>0.0</td>\n",
       "      <td>0.0</td>\n",
       "      <td>0.0</td>\n",
       "      <td>7</td>\n",
       "    </tr>\n",
       "    <tr>\n",
       "      <th>293238</th>\n",
       "      <td>3284.0</td>\n",
       "      <td>307.0</td>\n",
       "      <td>18.0</td>\n",
       "      <td>60.0</td>\n",
       "      <td>22.0</td>\n",
       "      <td>3922.0</td>\n",
       "      <td>167.0</td>\n",
       "      <td>226.0</td>\n",
       "      <td>198.0</td>\n",
       "      <td>3999.0</td>\n",
       "      <td>...</td>\n",
       "      <td>0.0</td>\n",
       "      <td>0.0</td>\n",
       "      <td>0.0</td>\n",
       "      <td>0.0</td>\n",
       "      <td>0.0</td>\n",
       "      <td>0.0</td>\n",
       "      <td>1.0</td>\n",
       "      <td>0.0</td>\n",
       "      <td>0.0</td>\n",
       "      <td>7</td>\n",
       "    </tr>\n",
       "  </tbody>\n",
       "</table>\n",
       "<p>581012 rows × 55 columns</p>\n",
       "</div>"
      ],
      "text/plain": [
       "        Elevation  Aspect  Slope  Horizontal_Distance_To_Hydrology  \\\n",
       "290505     2928.0    58.0    7.0                             150.0   \n",
       "532739     3015.0   343.0   18.0                             376.0   \n",
       "532740     3018.0   341.0   18.0                             350.0   \n",
       "532741     3021.0   345.0   18.0                             324.0   \n",
       "532742     3023.0   349.0   19.0                             300.0   \n",
       "...           ...     ...    ...                               ...   \n",
       "399826     3334.0   356.0   10.0                             558.0   \n",
       "399825     3333.0     6.0    7.0                             601.0   \n",
       "399824     3334.0     3.0    5.0                             601.0   \n",
       "399812     3331.0   246.0    3.0                             660.0   \n",
       "293238     3284.0   307.0   18.0                              60.0   \n",
       "\n",
       "        Vertical_Distance_To_Hydrology  Horizontal_Distance_To_Roadways  \\\n",
       "290505                            -7.0                           1836.0   \n",
       "532739                            50.0                           3378.0   \n",
       "532740                            53.0                           3398.0   \n",
       "532741                            45.0                           3419.0   \n",
       "532742                            47.0                           3439.0   \n",
       "...                                ...                              ...   \n",
       "399826                           100.0                            765.0   \n",
       "399825                            99.0                            806.0   \n",
       "399824                            39.0                            845.0   \n",
       "399812                           117.0                            859.0   \n",
       "293238                            22.0                           3922.0   \n",
       "\n",
       "        Hillshade_9am  Hillshade_Noon  Hillshade_3pm  \\\n",
       "290505          226.0           225.0          133.0   \n",
       "532739          181.0           211.0          166.0   \n",
       "532740          180.0           211.0          168.0   \n",
       "532741          182.0           209.0          164.0   \n",
       "532742          182.0           206.0          160.0   \n",
       "...               ...             ...            ...   \n",
       "399826          204.0           223.0          156.0   \n",
       "399825          212.0           226.0          152.0   \n",
       "399824          214.0           231.0          155.0   \n",
       "399812          213.0           241.0          166.0   \n",
       "293238          167.0           226.0          198.0   \n",
       "\n",
       "        Horizontal_Distance_To_Fire_Points  ...  Soil_Type_31  Soil_Type_32  \\\n",
       "290505                               190.0  ...           1.0           0.0   \n",
       "532739                              1982.0  ...           0.0           0.0   \n",
       "532740                              2005.0  ...           0.0           0.0   \n",
       "532741                              2029.0  ...           0.0           0.0   \n",
       "532742                              2052.0  ...           0.0           0.0   \n",
       "...                                    ...  ...           ...           ...   \n",
       "399826                              1642.0  ...           0.0           0.0   \n",
       "399825                              1583.0  ...           1.0           0.0   \n",
       "399824                              1524.0  ...           1.0           0.0   \n",
       "399812                              1113.0  ...           1.0           0.0   \n",
       "293238                              3999.0  ...           0.0           0.0   \n",
       "\n",
       "        Soil_Type_33  Soil_Type_34  Soil_Type_35  Soil_Type_36  Soil_Type_37  \\\n",
       "290505           0.0           0.0           0.0           0.0           0.0   \n",
       "532739           0.0           0.0           0.0           0.0           0.0   \n",
       "532740           0.0           0.0           0.0           0.0           0.0   \n",
       "532741           0.0           0.0           0.0           0.0           0.0   \n",
       "532742           0.0           0.0           0.0           0.0           0.0   \n",
       "...              ...           ...           ...           ...           ...   \n",
       "399826           0.0           0.0           0.0           0.0           0.0   \n",
       "399825           0.0           0.0           0.0           0.0           0.0   \n",
       "399824           0.0           0.0           0.0           0.0           0.0   \n",
       "399812           0.0           0.0           0.0           0.0           0.0   \n",
       "293238           0.0           0.0           0.0           0.0           1.0   \n",
       "\n",
       "        Soil_Type_38  Soil_Type_39  Cover_Type  \n",
       "290505           0.0           0.0           1  \n",
       "532739           0.0           0.0           1  \n",
       "532740           0.0           0.0           1  \n",
       "532741           0.0           0.0           1  \n",
       "532742           0.0           0.0           1  \n",
       "...              ...           ...         ...  \n",
       "399826           0.0           0.0           7  \n",
       "399825           0.0           0.0           7  \n",
       "399824           0.0           0.0           7  \n",
       "399812           0.0           0.0           7  \n",
       "293238           0.0           0.0           7  \n",
       "\n",
       "[581012 rows x 55 columns]"
      ]
     },
     "execution_count": 4,
     "metadata": {},
     "output_type": "execute_result"
    }
   ],
   "source": [
    "forestlist = forest.frame\n",
    "forestlistSorted = forestlist.sort_values(by='Cover_Type')\n",
    "forestlistSorted"
   ]
  },
  {
   "cell_type": "markdown",
   "id": "ad685848-0852-40ec-9224-6479edcfbadf",
   "metadata": {
    "tags": []
   },
   "source": [
    "## training and test data"
   ]
  },
  {
   "cell_type": "code",
   "execution_count": 5,
   "id": "d7374455-6ab6-482b-914d-7d25c028307e",
   "metadata": {},
   "outputs": [
    {
     "data": {
      "text/plain": [
       "(581012, 54)"
      ]
     },
     "execution_count": 5,
     "metadata": {},
     "output_type": "execute_result"
    }
   ],
   "source": [
    "covertype['data'].shape"
   ]
  },
  {
   "cell_type": "code",
   "execution_count": 6,
   "id": "aa2226cd-ac5d-44b9-81d3-86e117c60d97",
   "metadata": {},
   "outputs": [],
   "source": [
    "X_c = covertype['data']\n",
    "y_c = covertype['target']"
   ]
  },
  {
   "cell_type": "code",
   "execution_count": 7,
   "id": "e95d3764-9b2c-4c58-a730-8b7167b298a5",
   "metadata": {},
   "outputs": [
    {
     "name": "stdout",
     "output_type": "stream",
     "text": [
      "(435759, 54)\n",
      "(145253, 54)\n"
     ]
    }
   ],
   "source": [
    "X_train_c, X_test_c, y_train_c, y_test_c = train_test_split(X_c, y_c)\n",
    "print(X_train_c.shape) \n",
    "print(X_test_c.shape)"
   ]
  },
  {
   "cell_type": "code",
   "execution_count": 8,
   "id": "1e55d24c-b370-4bec-95d4-52c00074d70c",
   "metadata": {},
   "outputs": [
    {
     "data": {
      "text/plain": [
       "StandardScaler()"
      ]
     },
     "execution_count": 8,
     "metadata": {},
     "output_type": "execute_result"
    }
   ],
   "source": [
    "scaler_c = StandardScaler()\n",
    "# Fit only to the training data\n",
    "scaler_c.fit(X_train_c)"
   ]
  },
  {
   "cell_type": "code",
   "execution_count": 9,
   "id": "2892e8de-0ce9-4e7a-aab7-6b188f2a8c0d",
   "metadata": {},
   "outputs": [],
   "source": [
    "X_train_c = scaler_c.transform(X_train_c)\n",
    "X_test_c = scaler_c.transform(X_test_c)"
   ]
  },
  {
   "cell_type": "code",
   "execution_count": 10,
   "id": "fbdcb1ab-db1f-4585-9d11-b7c56775370d",
   "metadata": {},
   "outputs": [],
   "source": [
    "classificationList = []\n",
    "curve = []\n",
    "validation = []\n",
    "iteration = []\n",
    "\n",
    "accuracyList = []\n",
    "recallList = []\n",
    "precisionList = []\n",
    "timeList = []"
   ]
  },
  {
   "cell_type": "markdown",
   "id": "1ad8a3ff-1ec6-4b47-b833-497c31f505d7",
   "metadata": {
    "tags": []
   },
   "source": [
    "## functions"
   ]
  },
  {
   "cell_type": "code",
   "execution_count": 11,
   "id": "00451c60-04e7-4cb1-85f2-cc748c4d0ba4",
   "metadata": {},
   "outputs": [],
   "source": [
    "def plotData():\n",
    "    fig, axes = plt.subplots(3,2)\n",
    "    sns.histplot(data=forestlistSorted, x=\"Elevation\", color=\"skyblue\", label=\"Elevation\", kde=True, ax=axes[0,0])\n",
    "    sns.histplot(data=forestlistSorted, x=\"Aspect\", color=\"red\", label=\"Aspect\", kde=True, ax=axes[0,0])\n",
    "    sns.histplot(data=forestlistSorted, x=\"Slope\", color=\"orange\", label=\"Slope\", kde=True, ax=axes[0,0])\n",
    "    plt.legend() \n",
    "\n",
    "    sns.histplot(data=forestlistSorted, x=\"Horizontal_Distance_To_Hydrology\", color=\"skyblue\", label=\"Horizontal_Distance_To_Hydrology\", kde=True, ax=axes[0,1])\n",
    "    sns.histplot(data=forestlistSorted, x=\"Vertical_Distance_To_Hydrology\", color=\"red\", label=\"Vertical_Distance_To_Hydrology\", kde=True, ax=axes[0,1])\n",
    "    sns.histplot(data=forestlistSorted, x=\"Horizontal_Distance_To_Roadways\", color=\"orange\", label=\"Horizontal_Distance_To_Roadways\", kde=True, ax=axes[0,1])\n",
    "    sns.histplot(data=forestlistSorted, x=\"Horizontal_Distance_To_Fire_Points\", color=\"green\", label=\"Horizontal_Distance_To_Fire_Points\", kde=True, ax=axes[0,1])\n",
    "    plt.legend() \n",
    "\n",
    "    sns.histplot(data=forestlistSorted, x=\"Hillshade_9am\", color=\"skyblue\", label=\"Hillshade_9am\", kde=True, ax=axes[1,0])\n",
    "    sns.histplot(data=forestlistSorted, x=\"Hillshade_Noon\", color=\"red\", label=\"Hillshade_Noon\", kde=True, ax=axes[1,0])\n",
    "    sns.histplot(data=forestlistSorted, x=\"Hillshade_3pm\", color=\"orange\", label=\"Hillshade_3pm\", kde=True, ax=axes[1,0])\n",
    "    plt.legend() \n",
    "\n",
    "    sns.histplot(data=forestlistSorted, x=\"Soil_Type_31\", color=\"skyblue\", label=\"Soil_Type_31\", kde=True, ax=axes[1,1])\n",
    "    sns.histplot(data=forestlistSorted, x=\"Soil_Type_32\", color=\"red\", label=\"Soil_Type_32\", kde=True, ax=axes[1,1])\n",
    "    sns.histplot(data=forestlistSorted, x=\"Soil_Type_33\", color=\"orange\", label=\"Soil_Type_33\", kde=True, ax=axes[1,1])\n",
    "    sns.histplot(data=forestlistSorted, x=\"Soil_Type_34\", color=\"cyan\", label=\"Soil_Type_34\", kde=True, ax=axes[1,1])\n",
    "    sns.histplot(data=forestlistSorted, x=\"Soil_Type_35\", color=\"darkgreen\", label=\"Soil_Type_35\", kde=True, ax=axes[1,1])\n",
    "    sns.histplot(data=forestlistSorted, x=\"Soil_Type_36\", color=\"gold\", label=\"Soil_Type_36\", kde=True, ax=axes[1,1])\n",
    "    sns.histplot(data=forestlistSorted, x=\"Soil_Type_37\", color=\"purple\", label=\"Soil_Type_37\", kde=True, ax=axes[1,1])\n",
    "    sns.histplot(data=forestlistSorted, x=\"Soil_Type_38\", color=\"silver\", label=\"Soil_Type_38\", kde=True, ax=axes[1,1])\n",
    "    sns.histplot(data=forestlistSorted, x=\"Soil_Type_39\", color=\"navy\", label=\"Soil_Type_39\", kde=True, ax=axes[1,1])\n",
    "    plt.legend() \n",
    "\n",
    "    sns.histplot(data=forestlistSorted, x=\"Cover_Type\", color=\"orange\", label=\"Cover_Type\",  ax=axes[2,1], discrete=True, kde=False)\n",
    "    plt.legend() \n",
    "    fig.tight_layout()"
   ]
  },
  {
   "cell_type": "code",
   "execution_count": 12,
   "id": "207ed85a-e659-4bb9-b533-fc3dc2a39ea1",
   "metadata": {},
   "outputs": [],
   "source": [
    "def addToList(mlp, liste):\n",
    "    liste.append(mlp)"
   ]
  },
  {
   "cell_type": "code",
   "execution_count": 13,
   "id": "2b80fe74-be82-444d-ac56-b6a8f4797089",
   "metadata": {},
   "outputs": [],
   "source": [
    "def removeFromList(mlp, liste):\n",
    "    liste.remove(mlp)"
   ]
  },
  {
   "cell_type": "code",
   "execution_count": 14,
   "id": "2cc06923-ca80-4f1a-ae11-2e5fafc52406",
   "metadata": {},
   "outputs": [],
   "source": [
    "def fitWithTime(mpl):\n",
    "    begin = time.time()\n",
    "    mlptrain = mpl.fit(X_train_c,y_train_c)\n",
    "    end = time.time()\n",
    "    timestamp = end-begin\n",
    "    timeList.append(timestamp)\n",
    "    addToList(mlptrain, classificationList)\n",
    "    print('Zeit in Sekunden: \\t{0:.2f}'.format(timestamp))"
   ]
  },
  {
   "cell_type": "code",
   "execution_count": 15,
   "id": "8384363b-3a23-4ea7-9ddf-e8e2fb0fcd49",
   "metadata": {},
   "outputs": [],
   "source": [
    "def comparison(List):\n",
    "    for mlp in List:\n",
    "        print(mlp)\n",
    "        print('\\nparamters: ' + str(mlp.get_params(deep=True)))\n",
    "        print('\\nlast loss: ' + str(mlp.loss_))\n",
    "        print('\\nnumber of features seen during fit: ' + str(mlp.n_features_in_))\n",
    "        print('\\nnumber of layers: ' + str(mlp.n_layers_))\n",
    "        print('\\nnumber of outputs: ' + str(mlp.n_outputs_))\n",
    "        print('\\nname of output activation function: ' + str(mlp.out_activation_) )\n",
    "        print('\\nnumber of iterations: ' +str(mlp.n_iter_) )\n",
    "        print('\\nnumber training samples seen by the solver during fitting: ' +str(mlp.t_) )\n",
    "        print('****************************************************************************************')"
   ]
  },
  {
   "cell_type": "code",
   "execution_count": 16,
   "id": "76d31667-65c3-4d58-89a5-0c8e333620a2",
   "metadata": {},
   "outputs": [],
   "source": [
    "def curveValidateIteration(List, c, v, i):\n",
    "    for mlp in List:\n",
    "        c.append(mlp.loss_curve_)\n",
    "        v.append(mlp.validation_scores_)\n",
    "        i.append(np.arange(1, mlp.n_iter_+1))"
   ]
  },
  {
   "cell_type": "markdown",
   "id": "ecba6578-cde2-4e01-970c-209a788ea8ed",
   "metadata": {},
   "source": [
    "__________________________________________________________________________________________________________________________________"
   ]
  },
  {
   "cell_type": "code",
   "execution_count": 17,
   "id": "4e8f31d2-0b07-4411-8bc6-1c2c68b140fa",
   "metadata": {},
   "outputs": [],
   "source": [
    "cmap = ListedColormap([\"coral\", \"azure\", \"indigo\", \"darkgreen\", \"lightblue\", \"crimson\", \"gold\", \"silver\", \"teal\"])\n",
    "def plotCurvePerInteration(List, curvy, iterate):\n",
    "    print('default: hidden_layer = (100,), activation = relu, solver = adam, alpha = 0.0001, learning_rate = constant, learning_rate_init = 0.001, max_iter = 200, shuffle = true, early_stopping & warm_start = FALSE')\n",
    "    print('Alle Infos, die davon abweichen, werden in der Legende gelistet')\n",
    "    print('****************************************************************************************')\n",
    "    for i,c,cl in zip(iterate, curvy, List):\n",
    "        plt.scatter(i,c, marker = '.', label = str(cl))\n",
    "    plt.title('Losscurve per iteration')\n",
    "    plt.xlabel(\"iteration\")\n",
    "    plt.ylabel(\"loss curve\")\n",
    "    plt.legend(bbox_to_anchor=(1.05, 1.0), loc='upper left')\n",
    "    plt.show()"
   ]
  },
  {
   "cell_type": "code",
   "execution_count": 18,
   "id": "a3ef3f87-42fb-46b9-96f7-7b363ec85fc4",
   "metadata": {},
   "outputs": [],
   "source": [
    "def plotValidationPerInteration(List, validate, iterate):\n",
    "    for i,v, cl in zip(iterate, validate, List):\n",
    "        plt.scatter(i,v, marker = '.', label = str(cl))\n",
    "    plt.title('Validation per iteration')\n",
    "    plt.xlabel(\"iteration\")\n",
    "    plt.ylabel(\"validation\")\n",
    "    plt.legend(bbox_to_anchor=(1.05, 1.0), loc='upper left')\n",
    "    plt.show()"
   ]
  },
  {
   "cell_type": "code",
   "execution_count": 19,
   "id": "25ada7f9-9a81-4a58-80ae-1bea09db70f0",
   "metadata": {},
   "outputs": [],
   "source": [
    "def plotValidationPercurve(List, validate, curvy):\n",
    "    for c,v,cl in zip(validate, curvy, List):\n",
    "        plt.scatter(c,v, marker = '.', label = str(cl))\n",
    "    plt.title('Validation per curve')\n",
    "    plt.xlabel(\"validation\")\n",
    "    plt.ylabel(\"curve\")\n",
    "    plt.legend(bbox_to_anchor=(1.05, 1.0), loc='upper left')\n",
    "    plt.show()\n"
   ]
  },
  {
   "cell_type": "markdown",
   "id": "9fcda0d6-d713-4584-ac38-41b1814e1eec",
   "metadata": {},
   "source": [
    "__________________________________________________________________________________________________________________________________"
   ]
  },
  {
   "cell_type": "code",
   "execution_count": 20,
   "id": "ad8cf6d8-5f4f-477f-9b18-8acb297611fa",
   "metadata": {},
   "outputs": [],
   "source": [
    "def heatmaping(List):\n",
    "    for mlp in List:\n",
    "        print(mlp)\n",
    "        predictions = mlp.predict(X_test_c)   \n",
    "        con_ma = confusion_matrix(y_test_c,predictions)\n",
    "        con_ma_perc = np.empty([7, 7], dtype=float)\n",
    "\n",
    "        for i in range(0, 7):\n",
    "            number = 0.0\n",
    "            for j in range(0, 7):\n",
    "                number += con_ma[i][j]\n",
    "            for j in range(0, 7):\n",
    "                con_ma_perc[i][j] = 100/number*con_ma[i][j]\n",
    "\n",
    "        tree = ['Spruce', 'Lodgepole Pine', 'PoderosaPine', 'Cottonwood/Willow', 'Aspen', 'Douglas-fir', 'Krummholz']\n",
    "\n",
    "        # ======== Plot confuse matrix prozentual ========\n",
    "\n",
    "        ay = sns.heatmap(con_ma_perc, annot=True, cmap='coolwarm', yticklabels=tree, xticklabels=tree, fmt='.2f', vmin=0, vmax=100)\n",
    "        ay.xaxis.tick_top()\n",
    "        ay.xaxis.set_label_position('top')\n",
    "        plt.xticks(rotation=90)\n",
    "        ay.set(title=\"Confusion Matrix - Recall\",\n",
    "              xlabel=\"- Predicted Tree -\",\n",
    "              ylabel=\"- Actual Tree -\")\n",
    "        plt.show()"
   ]
  },
  {
   "cell_type": "code",
   "execution_count": 21,
   "id": "633860b1-fd10-4b7a-b001-8bacfb1ce97c",
   "metadata": {},
   "outputs": [],
   "source": [
    "def reporting(List):\n",
    "    for mlp in List:\n",
    "        print(mlp)\n",
    "        predictions = mlp.predict(X_test_c)\n",
    "        print(classification_report(y_test_c,predictions))"
   ]
  },
  {
   "cell_type": "code",
   "execution_count": 22,
   "id": "1e4d2697-5eb8-4deb-a58a-a9cde3fc2599",
   "metadata": {},
   "outputs": [],
   "source": [
    "def accuracyPlotting(List):\n",
    "        for mlp in List:\n",
    "            print(mlp)\n",
    "            predictions = mlp.predict(X_test_c)\n",
    "            accuracy = accuracy_score(y_test_c, predictions)\n",
    "            recall = recall_score(y_test_c, predictions, average = 'weighted')\n",
    "            precision = precision_score(y_test_c, predictions, average = 'weighted')\n",
    "            \n",
    "            addToList(accuracy, accuracyList)\n",
    "            addToList(recall, recallList)\n",
    "            addToList(precision, precisionList)\n",
    "            \n",
    "            print('Accuracy: \\t{0:.2f}'.format(accuracy * 100.0))\n",
    "            print('Recall: \\t{0:.2f}'.format(recall * 100.0))\n",
    "            print('precision: \\t{0:.2f}'.format(precision * 100.0))"
   ]
  },
  {
   "cell_type": "code",
   "execution_count": 23,
   "id": "a8e5c7d4-ba02-4cd5-8524-cd12e89acfb0",
   "metadata": {},
   "outputs": [],
   "source": [
    "def getTimeofMLP(List):\n",
    "    for mlp, t in zip(List,timeList):\n",
    "        print(mlp,t/60)"
   ]
  },
  {
   "cell_type": "markdown",
   "id": "3f628e5a-26a7-4774-8cbc-9913bb044787",
   "metadata": {},
   "source": [
    "## initializing nets"
   ]
  },
  {
   "cell_type": "markdown",
   "id": "f1ab1fd8-91f0-4757-b19e-2f0cdcdfab87",
   "metadata": {
    "tags": []
   },
   "source": [
    "#### tanh\n",
    "<li> Aktivierungsfunktion: hyperbolic Tangens Function </li>\n",
    "<li> Berechnung: $f(x) = tanh(x)$ </li>\n",
    "<li> Andere Schreibweise: $f(x) = \\frac{e^x-e^{-x}}{e^x+e^{-x}}$</li>\n",
    "<li> Werte von -1 bis 1 </li>\n",
    "\n",
    "### Learningrate = invscaling\n",
    "<li>invscaling: $effectiveLearningRate = \\frac{learningRateInit}{t^power_t}$ $$invs = \\frac{learningRateInit}{t^{0.5}}$$</li>\n",
    "<li> Parameter zum Gradientenabstieg </li>\n",
    "\n",
    "### Solver = Adam\n",
    "<li> Stochastic Gradient Descent: Implementierung nach jedem Datensatz </li>\n",
    "<li> Kombination aus zwei Erweiterungen: Adaptive Gradient Algorithm + Root Mean Square Propagation   </li>\n",
    "<li> dadurch passt sich Lernrate an und beschleuningt den Abstieg des Gradienten </li>\n",
    "<li> \"Adaptive Moment Estimation: $$m_t = \\beta_1 * m_{t-1} * (1- \\beta_1) * \\nabla w_t $$  $$v_t = \\beta_2 * v_{t-1} * (1- \\beta_2) * \\nabla (w_t)^2 $$ $$\\widehat{m}_t = \\frac{m_t}{1-\\beta_1^t}$$ $$\\widehat{v}_t = \\frac{v_t}{1-\\beta_2^t}$$ $$ w_{t+1} = w_t - \\frac{\\eta}{sqrt(\\widehat{v}_t+ \\epsilon)}* \\widehat{w}_t$$ </li>\n",
    "\n",
    "#### Parameter\n",
    "<li> alpha: Schrittgröße/Lernrate: $0.0001$ </li>\n",
    "<li> beta1: Exponetielle Zerfallsrate des ersten Impulses </li>\n",
    "<li> beta2: Exponetielle Zerfallsrate des zweiten Impulses </li>\n",
    "<li> epsilon: Um nicht durch 0 zu teilen </li>\n",
    "\n",
    "##### beta_1\n",
    "<li>exponentielle Zerfallrate der Ersten-Moments-Schätzung</li>\n",
    "<li>Zwischen $[0,1)$</li>\n",
    "<li>Wert: $0.9$ </li>\n",
    "\n",
    "##### beta_2\n",
    "<li>exponentielle Zerfallrate der Zweiten-Moments-Schätzung</li>\n",
    "<li>Zwischen $[0,1)$</li>\n",
    "<li>Wert: $0.9$ </li>\n",
    "\n",
    "##### Epsilon\n",
    "<li>Wert für die numerische Stabilität in Adam</li>\n",
    "<li>Vermeidet eine Division durch 0</li>\n",
    "<li>Default-Wert: $1e-06$ </li>\n",
    "\n",
    "### Softmax\n",
    "<li> Aktivierungsfunktion des Outputlayers </li>\n",
    "$e^{T_k}*(\\sum_{l=1} ^{K} e^{T_l})^{-1}$"
   ]
  },
  {
   "cell_type": "code",
   "execution_count": 27,
   "id": "92c769d6-f44b-4ff2-a3ed-32722dc3a21a",
   "metadata": {
    "collapsed": true,
    "jupyter": {
     "outputs_hidden": true
    },
    "tags": []
   },
   "outputs": [
    {
     "name": "stdout",
     "output_type": "stream",
     "text": [
      "Iteration 1, loss = 0.67635071\n",
      "Validation score: 0.752639\n",
      "Iteration 2, loss = 0.55644265\n",
      "Validation score: 0.768451\n",
      "Iteration 3, loss = 0.52228192\n",
      "Validation score: 0.784124\n",
      "Iteration 4, loss = 0.50041453\n",
      "Validation score: 0.792478\n",
      "Iteration 5, loss = 0.48350492\n",
      "Validation score: 0.797595\n",
      "Iteration 6, loss = 0.47117977\n",
      "Validation score: 0.804916\n",
      "Iteration 7, loss = 0.46056726\n",
      "Validation score: 0.811984\n",
      "Iteration 8, loss = 0.45150548\n",
      "Validation score: 0.815219\n",
      "Iteration 9, loss = 0.44323984\n",
      "Validation score: 0.818019\n",
      "Iteration 10, loss = 0.43594213\n",
      "Validation score: 0.822655\n",
      "Iteration 11, loss = 0.42987723\n",
      "Validation score: 0.824582\n",
      "Iteration 12, loss = 0.42494962\n",
      "Validation score: 0.825408\n",
      "Iteration 13, loss = 0.42090064\n",
      "Validation score: 0.826694\n",
      "Iteration 14, loss = 0.41705763\n",
      "Validation score: 0.829264\n",
      "Iteration 15, loss = 0.41403200\n",
      "Validation score: 0.831559\n",
      "Iteration 16, loss = 0.41172011\n",
      "Validation score: 0.830618\n",
      "Iteration 17, loss = 0.40920620\n",
      "Validation score: 0.833027\n",
      "Iteration 18, loss = 0.40692313\n",
      "Validation score: 0.832660\n",
      "Iteration 19, loss = 0.40498590\n",
      "Validation score: 0.833670\n",
      "Iteration 20, loss = 0.40296985\n",
      "Validation score: 0.830388\n",
      "Iteration 21, loss = 0.40128934\n",
      "Validation score: 0.835552\n",
      "Iteration 22, loss = 0.39939246\n",
      "Validation score: 0.834771\n",
      "Iteration 23, loss = 0.39776159\n",
      "Validation score: 0.837043\n",
      "Iteration 24, loss = 0.39605920\n",
      "Validation score: 0.835598\n",
      "Iteration 25, loss = 0.39460194\n",
      "Validation score: 0.838558\n",
      "Iteration 26, loss = 0.39316481\n",
      "Validation score: 0.840164\n",
      "Iteration 27, loss = 0.39164597\n",
      "Validation score: 0.839659\n",
      "Iteration 28, loss = 0.38982888\n",
      "Validation score: 0.839843\n",
      "Iteration 29, loss = 0.38879960\n",
      "Validation score: 0.839200\n",
      "Iteration 30, loss = 0.38766505\n",
      "Validation score: 0.840623\n",
      "Iteration 31, loss = 0.38611319\n",
      "Validation score: 0.842344\n",
      "Iteration 32, loss = 0.38493402\n",
      "Validation score: 0.842964\n",
      "Iteration 33, loss = 0.38374596\n",
      "Validation score: 0.843630\n",
      "Iteration 34, loss = 0.38270941\n",
      "Validation score: 0.843652\n",
      "Iteration 35, loss = 0.38170206\n",
      "Validation score: 0.842390\n",
      "Iteration 36, loss = 0.38037297\n",
      "Validation score: 0.842964\n",
      "Iteration 37, loss = 0.37973602\n",
      "Validation score: 0.843836\n",
      "Iteration 38, loss = 0.37877399\n",
      "Validation score: 0.844226\n",
      "Iteration 39, loss = 0.37772724\n",
      "Validation score: 0.845878\n",
      "Iteration 40, loss = 0.37702036\n",
      "Validation score: 0.847760\n",
      "Iteration 41, loss = 0.37652197\n",
      "Validation score: 0.845993\n",
      "Iteration 42, loss = 0.37596385\n",
      "Validation score: 0.846406\n",
      "Iteration 43, loss = 0.37492575\n",
      "Validation score: 0.846429\n",
      "Iteration 44, loss = 0.37416416\n",
      "Validation score: 0.847416\n",
      "Iteration 45, loss = 0.37393908\n",
      "Validation score: 0.846819\n",
      "Iteration 46, loss = 0.37337464\n",
      "Validation score: 0.845878\n",
      "Iteration 47, loss = 0.37276027\n",
      "Validation score: 0.845970\n",
      "Iteration 48, loss = 0.37200600\n",
      "Validation score: 0.846521\n",
      "Iteration 49, loss = 0.37143905\n",
      "Validation score: 0.846246\n",
      "Iteration 50, loss = 0.37092213\n",
      "Validation score: 0.847737\n",
      "Iteration 51, loss = 0.36998779\n",
      "Validation score: 0.847095\n",
      "Validation score did not improve more than tol=0.000100 for 10 consecutive epochs. Stopping.\n",
      "Zeit in Sekunden: \t756.45\n"
     ]
    }
   ],
   "source": [
    "mlp_1 = MLPClassifier(hidden_layer_sizes=(20,20,20), max_iter = 350, beta_1 = 0.9, beta_2 = 0.9, epsilon= 1e-06, early_stopping = True, verbose = True, learning_rate = \"invscaling\", activation = 'tanh', solver = \"adam\")\n",
    "begin = time.time()\n",
    "mlp_1_train = mlp_1.fit(X_train_c,y_train_c)\n",
    "end = time.time()\n",
    "timestamp = end-begin\n",
    "timeList.append(timestamp)\n",
    "print('Zeit in Sekunden: \\t{0:.2f}'.format(timestamp))\n",
    "addToList(mlp_1_train, classificationList)"
   ]
  },
  {
   "cell_type": "code",
   "execution_count": 36,
   "id": "e4d2031a-0042-463b-b564-2226c486afa4",
   "metadata": {},
   "outputs": [
    {
     "name": "stdout",
     "output_type": "stream",
     "text": [
      "Iteration 1, loss = 0.59319445\n",
      "Validation score: 0.785295\n",
      "Iteration 2, loss = 0.46704046\n",
      "Validation score: 0.817170\n",
      "Iteration 3, loss = 0.40765351\n",
      "Validation score: 0.837158\n",
      "Iteration 4, loss = 0.36657971\n",
      "Validation score: 0.856113\n",
      "Iteration 5, loss = 0.33700740\n",
      "Validation score: 0.865683\n",
      "Iteration 6, loss = 0.31390293\n",
      "Validation score: 0.876262\n",
      "Iteration 7, loss = 0.29582345\n",
      "Validation score: 0.881770\n",
      "Iteration 8, loss = 0.28026685\n",
      "Validation score: 0.887599\n",
      "Iteration 9, loss = 0.26723907\n",
      "Validation score: 0.894552\n",
      "Iteration 10, loss = 0.25616244\n",
      "Validation score: 0.896962\n",
      "Iteration 11, loss = 0.24661088\n",
      "Validation score: 0.899922\n",
      "Iteration 12, loss = 0.23839486\n",
      "Validation score: 0.900955\n",
      "Iteration 13, loss = 0.23136469\n",
      "Validation score: 0.905338\n",
      "Iteration 14, loss = 0.22483829\n",
      "Validation score: 0.907908\n",
      "Iteration 15, loss = 0.22029824\n",
      "Validation score: 0.909882\n",
      "Iteration 16, loss = 0.21502917\n",
      "Validation score: 0.913989\n",
      "Iteration 17, loss = 0.21086896\n",
      "Validation score: 0.915848\n",
      "Iteration 18, loss = 0.20709585\n",
      "Validation score: 0.914838\n",
      "Iteration 19, loss = 0.20327301\n",
      "Validation score: 0.917041\n",
      "Iteration 20, loss = 0.19993965\n",
      "Validation score: 0.917271\n",
      "Iteration 21, loss = 0.19690582\n",
      "Validation score: 0.919497\n",
      "Iteration 22, loss = 0.19359091\n",
      "Validation score: 0.920966\n",
      "Iteration 23, loss = 0.19119785\n",
      "Validation score: 0.923857\n",
      "Iteration 24, loss = 0.18849445\n",
      "Validation score: 0.920598\n",
      "Iteration 25, loss = 0.18591448\n",
      "Validation score: 0.922297\n",
      "Iteration 26, loss = 0.18397549\n",
      "Validation score: 0.924752\n",
      "Iteration 27, loss = 0.18152528\n",
      "Validation score: 0.923605\n",
      "Iteration 28, loss = 0.17975871\n",
      "Validation score: 0.924500\n",
      "Iteration 29, loss = 0.17774079\n",
      "Validation score: 0.924500\n",
      "Iteration 30, loss = 0.17610236\n",
      "Validation score: 0.924569\n",
      "Iteration 31, loss = 0.17444990\n",
      "Validation score: 0.925808\n",
      "Iteration 32, loss = 0.17312045\n",
      "Validation score: 0.926519\n",
      "Iteration 33, loss = 0.17164407\n",
      "Validation score: 0.926473\n",
      "Iteration 34, loss = 0.17007189\n",
      "Validation score: 0.927598\n",
      "Iteration 35, loss = 0.16860187\n",
      "Validation score: 0.928883\n",
      "Iteration 36, loss = 0.16737843\n",
      "Validation score: 0.929480\n",
      "Iteration 37, loss = 0.16592630\n",
      "Validation score: 0.930168\n",
      "Iteration 38, loss = 0.16483444\n",
      "Validation score: 0.930627\n",
      "Iteration 39, loss = 0.16296871\n",
      "Validation score: 0.929388\n",
      "Iteration 40, loss = 0.16274650\n",
      "Validation score: 0.933128\n",
      "Iteration 41, loss = 0.16181661\n",
      "Validation score: 0.930283\n",
      "Iteration 42, loss = 0.16079935\n",
      "Validation score: 0.934069\n",
      "Iteration 43, loss = 0.15971727\n",
      "Validation score: 0.931614\n",
      "Iteration 44, loss = 0.15820800\n",
      "Validation score: 0.933151\n",
      "Iteration 45, loss = 0.15761463\n",
      "Validation score: 0.930925\n",
      "Iteration 46, loss = 0.15663319\n",
      "Validation score: 0.933312\n",
      "Iteration 47, loss = 0.15595349\n",
      "Validation score: 0.933587\n",
      "Iteration 48, loss = 0.15512147\n",
      "Validation score: 0.934115\n",
      "Iteration 49, loss = 0.15411356\n",
      "Validation score: 0.933289\n",
      "Iteration 50, loss = 0.15350882\n",
      "Validation score: 0.935699\n",
      "Iteration 51, loss = 0.15252578\n",
      "Validation score: 0.933381\n",
      "Iteration 52, loss = 0.15183619\n",
      "Validation score: 0.934872\n",
      "Iteration 53, loss = 0.15148959\n",
      "Validation score: 0.934804\n",
      "Iteration 54, loss = 0.15058588\n",
      "Validation score: 0.935263\n",
      "Iteration 55, loss = 0.14986059\n",
      "Validation score: 0.933748\n",
      "Iteration 56, loss = 0.14942816\n",
      "Validation score: 0.932623\n",
      "Iteration 57, loss = 0.14876212\n",
      "Validation score: 0.934781\n",
      "Iteration 58, loss = 0.14754390\n",
      "Validation score: 0.934804\n",
      "Iteration 59, loss = 0.14698569\n",
      "Validation score: 0.936272\n",
      "Iteration 60, loss = 0.14644091\n",
      "Validation score: 0.935974\n",
      "Iteration 61, loss = 0.14638963\n",
      "Validation score: 0.937764\n",
      "Iteration 62, loss = 0.14584154\n",
      "Validation score: 0.935767\n",
      "Iteration 63, loss = 0.14540974\n",
      "Validation score: 0.936089\n",
      "Iteration 64, loss = 0.14507538\n",
      "Validation score: 0.937397\n",
      "Iteration 65, loss = 0.14367231\n",
      "Validation score: 0.936984\n",
      "Iteration 66, loss = 0.14300989\n",
      "Validation score: 0.935790\n",
      "Iteration 67, loss = 0.14294262\n",
      "Validation score: 0.935400\n",
      "Iteration 68, loss = 0.14243872\n",
      "Validation score: 0.937098\n",
      "Iteration 69, loss = 0.14209098\n",
      "Validation score: 0.935882\n",
      "Iteration 70, loss = 0.14215260\n",
      "Validation score: 0.937580\n",
      "Iteration 71, loss = 0.14171962\n",
      "Validation score: 0.936433\n",
      "Iteration 72, loss = 0.14120165\n",
      "Validation score: 0.935744\n",
      "Validation score did not improve more than tol=0.000100 for 10 consecutive epochs. Stopping.\n",
      "Zeit in Sekunden: \t3476.70\n"
     ]
    }
   ],
   "source": [
    "mlp_2 = MLPClassifier(hidden_layer_sizes=(70,70,70), max_iter = 350, beta_1 = 0.9, beta_2 = 0.9, epsilon= 1e-06, early_stopping = True, verbose = True, learning_rate = \"invscaling\", activation = 'tanh', solver = \"adam\")\n",
    "begin = time.time()\n",
    "mlp_2_train = mlp_2.fit(X_train_c,y_train_c)\n",
    "end = time.time()\n",
    "timestamp = end-begin\n",
    "timeList.append(timestamp)\n",
    "print('Zeit in Sekunden: \\t{0:.2f}'.format(timestamp))\n",
    "addToList(mlp_2_train, classificationList)"
   ]
  },
  {
   "cell_type": "code",
   "execution_count": 37,
   "id": "cd9d9bbb-d86f-4381-a472-ee7a61665261",
   "metadata": {},
   "outputs": [
    {
     "name": "stdout",
     "output_type": "stream",
     "text": [
      "MLPClassifier(activation='tanh', beta_2=0.9, early_stopping=True, epsilon=1e-06,\n",
      "              hidden_layer_sizes=(20, 20, 20), learning_rate='invscaling',\n",
      "              max_iter=350, verbose=True) 12.607451768716176\n",
      "MLPClassifier(activation='tanh', beta_2=0.9, early_stopping=True, epsilon=1e-06,\n",
      "              hidden_layer_sizes=(70, 70, 70), learning_rate='invscaling',\n",
      "              max_iter=350, verbose=True) 57.944978074232736\n"
     ]
    }
   ],
   "source": [
    "getTimeofMLP(classificationList)"
   ]
  },
  {
   "cell_type": "code",
   "execution_count": 38,
   "id": "5151451f-0da7-4f6c-be79-427067a27443",
   "metadata": {},
   "outputs": [
    {
     "data": {
      "text/plain": [
       "[MLPClassifier(activation='tanh', beta_2=0.9, early_stopping=True, epsilon=1e-06,\n",
       "               hidden_layer_sizes=(20, 20, 20), learning_rate='invscaling',\n",
       "               max_iter=350, verbose=True),\n",
       " MLPClassifier(activation='tanh', beta_2=0.9, early_stopping=True, epsilon=1e-06,\n",
       "               hidden_layer_sizes=(70, 70, 70), learning_rate='invscaling',\n",
       "               max_iter=350, verbose=True)]"
      ]
     },
     "execution_count": 38,
     "metadata": {},
     "output_type": "execute_result"
    }
   ],
   "source": [
    "classificationList"
   ]
  },
  {
   "cell_type": "markdown",
   "id": "f4b323c8-2457-480e-958d-2acc38eec75b",
   "metadata": {},
   "source": [
    "__________________________________________________________________________________________________________________________________"
   ]
  },
  {
   "cell_type": "markdown",
   "id": "6d98e013-6397-47bf-9663-2415ad6c92f8",
   "metadata": {},
   "source": [
    "## Results"
   ]
  },
  {
   "cell_type": "code",
   "execution_count": 39,
   "id": "2ad41f1b-5588-42f7-8797-cd2f50093c01",
   "metadata": {
    "tags": []
   },
   "outputs": [
    {
     "name": "stdout",
     "output_type": "stream",
     "text": [
      "MLPClassifier(activation='tanh', beta_2=0.9, early_stopping=True, epsilon=1e-06,\n",
      "              hidden_layer_sizes=(20, 20, 20), learning_rate='invscaling',\n",
      "              max_iter=350, verbose=True)\n",
      "\n",
      "paramters: {'activation': 'tanh', 'alpha': 0.0001, 'batch_size': 'auto', 'beta_1': 0.9, 'beta_2': 0.9, 'early_stopping': True, 'epsilon': 1e-06, 'hidden_layer_sizes': (20, 20, 20), 'learning_rate': 'invscaling', 'learning_rate_init': 0.001, 'max_fun': 15000, 'max_iter': 350, 'momentum': 0.9, 'n_iter_no_change': 10, 'nesterovs_momentum': True, 'power_t': 0.5, 'random_state': None, 'shuffle': True, 'solver': 'adam', 'tol': 0.0001, 'validation_fraction': 0.1, 'verbose': True, 'warm_start': False}\n",
      "\n",
      "last loss: 3.699877917671539e-01\n",
      "\n",
      "number of features seen during fit: 54\n",
      "\n",
      "number of layers: 5\n",
      "\n",
      "number of outputs: 7\n",
      "\n",
      "name of output activation function: softmax\n",
      "\n",
      "number of iterations: 51\n",
      "\n",
      "number training samples seen by the solver during fitting: 20001333\n",
      "****************************************************************************************\n",
      "MLPClassifier(activation='tanh', beta_2=0.9, early_stopping=True, epsilon=1e-06,\n",
      "              hidden_layer_sizes=(70, 70, 70), learning_rate='invscaling',\n",
      "              max_iter=350, verbose=True)\n",
      "\n",
      "paramters: {'activation': 'tanh', 'alpha': 0.0001, 'batch_size': 'auto', 'beta_1': 0.9, 'beta_2': 0.9, 'early_stopping': True, 'epsilon': 1e-06, 'hidden_layer_sizes': (70, 70, 70), 'learning_rate': 'invscaling', 'learning_rate_init': 0.001, 'max_fun': 15000, 'max_iter': 350, 'momentum': 0.9, 'n_iter_no_change': 10, 'nesterovs_momentum': True, 'power_t': 0.5, 'random_state': None, 'shuffle': True, 'solver': 'adam', 'tol': 0.0001, 'validation_fraction': 0.1, 'verbose': True, 'warm_start': False}\n",
      "\n",
      "last loss: 0.14120164520835493\n",
      "\n",
      "number of features seen during fit: 54\n",
      "\n",
      "number of layers: 5\n",
      "\n",
      "number of outputs: 7\n",
      "\n",
      "name of output activation function: softmax\n",
      "\n",
      "number of iterations: 72\n",
      "\n",
      "number training samples seen by the solver during fitting: 28237176\n",
      "****************************************************************************************\n"
     ]
    }
   ],
   "source": [
    "comparison(classificationList)"
   ]
  },
  {
   "cell_type": "code",
   "execution_count": 40,
   "id": "daad5cc5-0f3e-416d-bf86-f53792ab7ba2",
   "metadata": {
    "tags": []
   },
   "outputs": [
    {
     "name": "stdout",
     "output_type": "stream",
     "text": [
      "default: hidden_layer = (100,), activation = relu, solver = adam, alpha = 0.0001, learning_rate = constant, learning_rate_init = 0.001, max_iter = 200, shuffle = true, early_stopping & warm_start = FALSE\n",
      "Alle Infos, die davon abweichen, werden in der Legende gelistet\n",
      "****************************************************************************************\n"
     ]
    },
    {
     "data": {
      "image/png": "[encoded data removed]",
      "text/plain": [
       "<Figure size 432x288 with 1 Axes>"
      ]
     },
     "metadata": {
      "needs_background": "light"
     },
     "output_type": "display_data"
    },
    {
     "data": {
      "image/png": "[encoded data removed]",
      "text/plain": [
       "<Figure size 432x288 with 1 Axes>"
      ]
     },
     "metadata": {
      "needs_background": "light"
     },
     "output_type": "display_data"
    }
   ],
   "source": [
    "curveValidateIteration(classificationList, curve, validation, iteration)\n",
    "plotCurvePerInteration(classificationList, curve, iteration)\n",
    "plotValidationPerInteration(classificationList, validation, iteration)"
   ]
  },
  {
   "cell_type": "code",
   "execution_count": 41,
   "id": "715808d2-3450-4561-b72a-fe134258b439",
   "metadata": {
    "tags": []
   },
   "outputs": [
    {
     "data": {
      "image/png": "[encoded data removed]",
      "text/plain": [
       "<Figure size 432x288 with 1 Axes>"
      ]
     },
     "metadata": {
      "needs_background": "light"
     },
     "output_type": "display_data"
    }
   ],
   "source": [
    "plotValidationPercurve(classificationList, validation, curve)"
   ]
  },
  {
   "cell_type": "markdown",
   "id": "cc09c0c7-abb7-44d0-bbe0-36da87b460e4",
   "metadata": {},
   "source": [
    "## Heatmaps"
   ]
  },
  {
   "cell_type": "code",
   "execution_count": 42,
   "id": "ef05d5a2-ac58-4035-aa6c-dfa6abd61000",
   "metadata": {
    "tags": []
   },
   "outputs": [
    {
     "name": "stdout",
     "output_type": "stream",
     "text": [
      "MLPClassifier(activation='tanh', beta_2=0.9, early_stopping=True, epsilon=1e-06,\n",
      "              hidden_layer_sizes=(20, 20, 20), learning_rate='invscaling',\n",
      "              max_iter=350, verbose=True)\n"
     ]
    },
    {
     "data": {
      "image/png": "[encoded data removed]",
      "text/plain": [
       "<Figure size 432x288 with 2 Axes>"
      ]
     },
     "metadata": {
      "needs_background": "light"
     },
     "output_type": "display_data"
    },
    {
     "name": "stdout",
     "output_type": "stream",
     "text": [
      "MLPClassifier(activation='tanh', beta_2=0.9, early_stopping=True, epsilon=1e-06,\n",
      "              hidden_layer_sizes=(70, 70, 70), learning_rate='invscaling',\n",
      "              max_iter=350, verbose=True)\n"
     ]
    },
    {
     "data": {
      "image/png": "[encoded data removed]",
      "text/plain": [
       "<Figure size 432x288 with 2 Axes>"
      ]
     },
     "metadata": {
      "needs_background": "light"
     },
     "output_type": "display_data"
    }
   ],
   "source": [
    "heatmaping(classificationList)"
   ]
  },
  {
   "cell_type": "code",
   "execution_count": 43,
   "id": "6f083132-b371-422e-9d69-2489a9f2c6db",
   "metadata": {
    "tags": []
   },
   "outputs": [
    {
     "name": "stdout",
     "output_type": "stream",
     "text": [
      "MLPClassifier(activation='tanh', beta_2=0.9, early_stopping=True, epsilon=1e-06,\n",
      "              hidden_layer_sizes=(20, 20, 20), learning_rate='invscaling',\n",
      "              max_iter=350, verbose=True)\n",
      "              precision    recall  f1-score   support\n",
      "\n",
      "           1       0.85      0.84      0.84     53246\n",
      "           2       0.86      0.89      0.87     70780\n",
      "           3       0.80      0.87      0.83      8841\n",
      "           4       0.83      0.57      0.68       682\n",
      "           5       0.75      0.45      0.56      2300\n",
      "           6       0.70      0.56      0.62      4300\n",
      "           7       0.90      0.80      0.85      5104\n",
      "\n",
      "    accuracy                           0.85    145253\n",
      "   macro avg       0.81      0.71      0.75    145253\n",
      "weighted avg       0.85      0.85      0.85    145253\n",
      "\n",
      "MLPClassifier(activation='tanh', beta_2=0.9, early_stopping=True, epsilon=1e-06,\n",
      "              hidden_layer_sizes=(70, 70, 70), learning_rate='invscaling',\n",
      "              max_iter=350, verbose=True)\n",
      "              precision    recall  f1-score   support\n",
      "\n",
      "           1       0.94      0.93      0.93     53246\n",
      "           2       0.94      0.95      0.95     70780\n",
      "           3       0.93      0.92      0.93      8841\n",
      "           4       0.87      0.79      0.82       682\n",
      "           5       0.84      0.78      0.81      2300\n",
      "           6       0.87      0.87      0.87      4300\n",
      "           7       0.95      0.92      0.93      5104\n",
      "\n",
      "    accuracy                           0.94    145253\n",
      "   macro avg       0.91      0.88      0.89    145253\n",
      "weighted avg       0.94      0.94      0.94    145253\n",
      "\n"
     ]
    }
   ],
   "source": [
    "reporting(classificationList)"
   ]
  },
  {
   "cell_type": "code",
   "execution_count": 44,
   "id": "74a399f7-9f58-4c18-9122-6cd52a869c2f",
   "metadata": {
    "tags": []
   },
   "outputs": [
    {
     "name": "stdout",
     "output_type": "stream",
     "text": [
      "MLPClassifier(activation='tanh', beta_2=0.9, early_stopping=True, epsilon=1e-06,\n",
      "              hidden_layer_sizes=(20, 20, 20), learning_rate='invscaling',\n",
      "              max_iter=350, verbose=True)\n",
      "Accuracy: \t84.82\n",
      "Recall: \t84.82\n",
      "precision: \t84.70\n",
      "MLPClassifier(activation='tanh', beta_2=0.9, early_stopping=True, epsilon=1e-06,\n",
      "              hidden_layer_sizes=(70, 70, 70), learning_rate='invscaling',\n",
      "              max_iter=350, verbose=True)\n",
      "Accuracy: \t93.56\n",
      "Recall: \t93.56\n",
      "precision: \t93.55\n"
     ]
    }
   ],
   "source": [
    "accuracyPlotting(classificationList)"
   ]
  },
  {
   "cell_type": "markdown",
   "id": "d22517bb-90b7-455c-8f31-5a9068fbe6bf",
   "metadata": {
    "tags": []
   },
   "source": [
    "## Fazit\n",
    "<li> </li>\n",
    "<li>  </li>\n",
    "<li>  </li>"
   ]
  }
 ],
 "metadata": {
  "kernelspec": {
   "display_name": "Python 3 (ipykernel)",
   "language": "python",
   "name": "python3"
  },
  "language_info": {
   "codemirror_mode": {
    "name": "ipython",
    "version": 3
   },
   "file_extension": ".py",
   "mimetype": "text/x-python",
   "name": "python",
   "nbconvert_exporter": "python",
   "pygments_lexer": "ipython3",
   "version": "3.9.7"
  }
 },
 "nbformat": 4,
 "nbformat_minor": 5
}
