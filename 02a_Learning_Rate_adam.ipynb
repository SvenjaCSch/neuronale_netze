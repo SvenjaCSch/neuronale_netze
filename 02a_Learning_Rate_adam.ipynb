{
 "cells": [
  {
   "cell_type": "markdown",
   "id": "6b0fd06a-f3cb-4732-bc7d-1c7ad2d39c0f",
   "metadata": {},
   "source": [
    "# Comparison Loss Function and Validation Score"
   ]
  },
  {
   "cell_type": "markdown",
   "id": "5bce52fe-8793-4ee5-8b75-1932fd4aa55d",
   "metadata": {},
   "source": [
    "1) Import der einzelnen Libraries. Sortieren der Daten nach der Zielkategorie für den ersten Überblick.\n",
    "2) Aufteilen der Trainings- und Testdaten. Erstellen von notwendigen Listen\n",
    "3) Erstellen von Funktionen \n",
    "4) initialisieren der einzelnen MLPClassifier Netze \n",
    "5) Ergebnisse: Textuelle Daten, geplottete Vergleiche, prozentuale Heatmaps und Reports"
   ]
  },
  {
   "cell_type": "markdown",
   "id": "e3990afb-733a-40a5-957e-451abceb2d5e",
   "metadata": {},
   "source": [
    "## imports and data"
   ]
  },
  {
   "cell_type": "code",
   "execution_count": 1,
   "id": "e9ce620e-67af-4fcb-8736-ead8893c3523",
   "metadata": {},
   "outputs": [
    {
     "data": {
      "text/plain": [
       "dict_keys(['data', 'target', 'frame', 'target_names', 'feature_names', 'DESCR'])"
      ]
     },
     "execution_count": 1,
     "metadata": {},
     "output_type": "execute_result"
    }
   ],
   "source": [
    "from sklearn.datasets import fetch_covtype\n",
    "from sklearn.preprocessing import StandardScaler\n",
    "from sklearn.neural_network import MLPClassifier\n",
    "from sklearn.model_selection import train_test_split\n",
    "from sklearn.metrics import classification_report,confusion_matrix, balanced_accuracy_score, roc_auc_score, top_k_accuracy_score, cohen_kappa_score, matthews_corrcoef, hinge_loss\n",
    "from sklearn.metrics import plot_confusion_matrix, multilabel_confusion_matrix\n",
    "from sklearn.metrics import RocCurveDisplay, accuracy_score, recall_score, precision_score, precision_recall_fscore_support\n",
    "import matplotlib.pyplot as plt\n",
    "import matplotlib.figure as fig\n",
    "from matplotlib.colors import ListedColormap\n",
    "from mpl_toolkits import mplot3d\n",
    "import seaborn as sns\n",
    "import numpy as np\n",
    "import pandas as pd\n",
    "covertype = fetch_covtype()\n",
    "forest = fetch_covtype(as_frame=True)\n",
    "covertype.keys()"
   ]
  },
  {
   "cell_type": "code",
   "execution_count": 2,
   "id": "a574498c-78cc-4eb5-9626-ea65dab5307e",
   "metadata": {
    "tags": []
   },
   "outputs": [
    {
     "data": {
      "text/plain": [
       "0         5\n",
       "1         5\n",
       "2         2\n",
       "3         2\n",
       "4         5\n",
       "         ..\n",
       "581007    3\n",
       "581008    3\n",
       "581009    3\n",
       "581010    3\n",
       "581011    3\n",
       "Name: Cover_Type, Length: 581012, dtype: int32"
      ]
     },
     "execution_count": 2,
     "metadata": {},
     "output_type": "execute_result"
    }
   ],
   "source": [
    "forest.target"
   ]
  },
  {
   "cell_type": "code",
   "execution_count": 3,
   "id": "3a19f2f3-1f0e-43f7-88fd-f3a9b3b7bdf9",
   "metadata": {},
   "outputs": [],
   "source": [
    "forestlist = forest.frame\n",
    "forestlistFiltered = forestlist.filter(items=['Elevation', 'Aspect', 'Slope', 'Horizontal_Distance_To_Hydrology', 'Vertical_Distance_To_Hydrology', 'Horizontal_Distance_To_Roadways', 'Hillshade_9am', 'Hillshade_Noon', 'Hillshade_3pm', 'Horizontal_Distance_To_Fire_Points', 'Wilderness_Area_0', 'Wilderness_Area_1', 'Wilderness_Area_2', 'Wilderness_Area_3', 'Cover_Type'])"
   ]
  },
  {
   "cell_type": "code",
   "execution_count": 4,
   "id": "4ec34c71-e117-44eb-a8bb-1d7acdd756f5",
   "metadata": {
    "tags": []
   },
   "outputs": [
    {
     "data": {
      "text/html": [
       "<div>\n",
       "<style scoped>\n",
       "    .dataframe tbody tr th:only-of-type {\n",
       "        vertical-align: middle;\n",
       "    }\n",
       "\n",
       "    .dataframe tbody tr th {\n",
       "        vertical-align: top;\n",
       "    }\n",
       "\n",
       "    .dataframe thead th {\n",
       "        text-align: right;\n",
       "    }\n",
       "</style>\n",
       "<table border=\"1\" class=\"dataframe\">\n",
       "  <thead>\n",
       "    <tr style=\"text-align: right;\">\n",
       "      <th></th>\n",
       "      <th>Elevation</th>\n",
       "      <th>Aspect</th>\n",
       "      <th>Slope</th>\n",
       "      <th>Horizontal_Distance_To_Hydrology</th>\n",
       "      <th>Vertical_Distance_To_Hydrology</th>\n",
       "      <th>Horizontal_Distance_To_Roadways</th>\n",
       "      <th>Hillshade_9am</th>\n",
       "      <th>Hillshade_Noon</th>\n",
       "      <th>Hillshade_3pm</th>\n",
       "      <th>Horizontal_Distance_To_Fire_Points</th>\n",
       "      <th>...</th>\n",
       "      <th>Soil_Type_31</th>\n",
       "      <th>Soil_Type_32</th>\n",
       "      <th>Soil_Type_33</th>\n",
       "      <th>Soil_Type_34</th>\n",
       "      <th>Soil_Type_35</th>\n",
       "      <th>Soil_Type_36</th>\n",
       "      <th>Soil_Type_37</th>\n",
       "      <th>Soil_Type_38</th>\n",
       "      <th>Soil_Type_39</th>\n",
       "      <th>Cover_Type</th>\n",
       "    </tr>\n",
       "  </thead>\n",
       "  <tbody>\n",
       "    <tr>\n",
       "      <th>290505</th>\n",
       "      <td>2928.0</td>\n",
       "      <td>58.0</td>\n",
       "      <td>7.0</td>\n",
       "      <td>150.0</td>\n",
       "      <td>-7.0</td>\n",
       "      <td>1836.0</td>\n",
       "      <td>226.0</td>\n",
       "      <td>225.0</td>\n",
       "      <td>133.0</td>\n",
       "      <td>190.0</td>\n",
       "      <td>...</td>\n",
       "      <td>1.0</td>\n",
       "      <td>0.0</td>\n",
       "      <td>0.0</td>\n",
       "      <td>0.0</td>\n",
       "      <td>0.0</td>\n",
       "      <td>0.0</td>\n",
       "      <td>0.0</td>\n",
       "      <td>0.0</td>\n",
       "      <td>0.0</td>\n",
       "      <td>1</td>\n",
       "    </tr>\n",
       "    <tr>\n",
       "      <th>532739</th>\n",
       "      <td>3015.0</td>\n",
       "      <td>343.0</td>\n",
       "      <td>18.0</td>\n",
       "      <td>376.0</td>\n",
       "      <td>50.0</td>\n",
       "      <td>3378.0</td>\n",
       "      <td>181.0</td>\n",
       "      <td>211.0</td>\n",
       "      <td>166.0</td>\n",
       "      <td>1982.0</td>\n",
       "      <td>...</td>\n",
       "      <td>0.0</td>\n",
       "      <td>0.0</td>\n",
       "      <td>0.0</td>\n",
       "      <td>0.0</td>\n",
       "      <td>0.0</td>\n",
       "      <td>0.0</td>\n",
       "      <td>0.0</td>\n",
       "      <td>0.0</td>\n",
       "      <td>0.0</td>\n",
       "      <td>1</td>\n",
       "    </tr>\n",
       "    <tr>\n",
       "      <th>532740</th>\n",
       "      <td>3018.0</td>\n",
       "      <td>341.0</td>\n",
       "      <td>18.0</td>\n",
       "      <td>350.0</td>\n",
       "      <td>53.0</td>\n",
       "      <td>3398.0</td>\n",
       "      <td>180.0</td>\n",
       "      <td>211.0</td>\n",
       "      <td>168.0</td>\n",
       "      <td>2005.0</td>\n",
       "      <td>...</td>\n",
       "      <td>0.0</td>\n",
       "      <td>0.0</td>\n",
       "      <td>0.0</td>\n",
       "      <td>0.0</td>\n",
       "      <td>0.0</td>\n",
       "      <td>0.0</td>\n",
       "      <td>0.0</td>\n",
       "      <td>0.0</td>\n",
       "      <td>0.0</td>\n",
       "      <td>1</td>\n",
       "    </tr>\n",
       "    <tr>\n",
       "      <th>532741</th>\n",
       "      <td>3021.0</td>\n",
       "      <td>345.0</td>\n",
       "      <td>18.0</td>\n",
       "      <td>324.0</td>\n",
       "      <td>45.0</td>\n",
       "      <td>3419.0</td>\n",
       "      <td>182.0</td>\n",
       "      <td>209.0</td>\n",
       "      <td>164.0</td>\n",
       "      <td>2029.0</td>\n",
       "      <td>...</td>\n",
       "      <td>0.0</td>\n",
       "      <td>0.0</td>\n",
       "      <td>0.0</td>\n",
       "      <td>0.0</td>\n",
       "      <td>0.0</td>\n",
       "      <td>0.0</td>\n",
       "      <td>0.0</td>\n",
       "      <td>0.0</td>\n",
       "      <td>0.0</td>\n",
       "      <td>1</td>\n",
       "    </tr>\n",
       "    <tr>\n",
       "      <th>532742</th>\n",
       "      <td>3023.0</td>\n",
       "      <td>349.0</td>\n",
       "      <td>19.0</td>\n",
       "      <td>300.0</td>\n",
       "      <td>47.0</td>\n",
       "      <td>3439.0</td>\n",
       "      <td>182.0</td>\n",
       "      <td>206.0</td>\n",
       "      <td>160.0</td>\n",
       "      <td>2052.0</td>\n",
       "      <td>...</td>\n",
       "      <td>0.0</td>\n",
       "      <td>0.0</td>\n",
       "      <td>0.0</td>\n",
       "      <td>0.0</td>\n",
       "      <td>0.0</td>\n",
       "      <td>0.0</td>\n",
       "      <td>0.0</td>\n",
       "      <td>0.0</td>\n",
       "      <td>0.0</td>\n",
       "      <td>1</td>\n",
       "    </tr>\n",
       "    <tr>\n",
       "      <th>...</th>\n",
       "      <td>...</td>\n",
       "      <td>...</td>\n",
       "      <td>...</td>\n",
       "      <td>...</td>\n",
       "      <td>...</td>\n",
       "      <td>...</td>\n",
       "      <td>...</td>\n",
       "      <td>...</td>\n",
       "      <td>...</td>\n",
       "      <td>...</td>\n",
       "      <td>...</td>\n",
       "      <td>...</td>\n",
       "      <td>...</td>\n",
       "      <td>...</td>\n",
       "      <td>...</td>\n",
       "      <td>...</td>\n",
       "      <td>...</td>\n",
       "      <td>...</td>\n",
       "      <td>...</td>\n",
       "      <td>...</td>\n",
       "      <td>...</td>\n",
       "    </tr>\n",
       "    <tr>\n",
       "      <th>399826</th>\n",
       "      <td>3334.0</td>\n",
       "      <td>356.0</td>\n",
       "      <td>10.0</td>\n",
       "      <td>558.0</td>\n",
       "      <td>100.0</td>\n",
       "      <td>765.0</td>\n",
       "      <td>204.0</td>\n",
       "      <td>223.0</td>\n",
       "      <td>156.0</td>\n",
       "      <td>1642.0</td>\n",
       "      <td>...</td>\n",
       "      <td>0.0</td>\n",
       "      <td>0.0</td>\n",
       "      <td>0.0</td>\n",
       "      <td>0.0</td>\n",
       "      <td>0.0</td>\n",
       "      <td>0.0</td>\n",
       "      <td>0.0</td>\n",
       "      <td>0.0</td>\n",
       "      <td>0.0</td>\n",
       "      <td>7</td>\n",
       "    </tr>\n",
       "    <tr>\n",
       "      <th>399825</th>\n",
       "      <td>3333.0</td>\n",
       "      <td>6.0</td>\n",
       "      <td>7.0</td>\n",
       "      <td>601.0</td>\n",
       "      <td>99.0</td>\n",
       "      <td>806.0</td>\n",
       "      <td>212.0</td>\n",
       "      <td>226.0</td>\n",
       "      <td>152.0</td>\n",
       "      <td>1583.0</td>\n",
       "      <td>...</td>\n",
       "      <td>1.0</td>\n",
       "      <td>0.0</td>\n",
       "      <td>0.0</td>\n",
       "      <td>0.0</td>\n",
       "      <td>0.0</td>\n",
       "      <td>0.0</td>\n",
       "      <td>0.0</td>\n",
       "      <td>0.0</td>\n",
       "      <td>0.0</td>\n",
       "      <td>7</td>\n",
       "    </tr>\n",
       "    <tr>\n",
       "      <th>399824</th>\n",
       "      <td>3334.0</td>\n",
       "      <td>3.0</td>\n",
       "      <td>5.0</td>\n",
       "      <td>601.0</td>\n",
       "      <td>39.0</td>\n",
       "      <td>845.0</td>\n",
       "      <td>214.0</td>\n",
       "      <td>231.0</td>\n",
       "      <td>155.0</td>\n",
       "      <td>1524.0</td>\n",
       "      <td>...</td>\n",
       "      <td>1.0</td>\n",
       "      <td>0.0</td>\n",
       "      <td>0.0</td>\n",
       "      <td>0.0</td>\n",
       "      <td>0.0</td>\n",
       "      <td>0.0</td>\n",
       "      <td>0.0</td>\n",
       "      <td>0.0</td>\n",
       "      <td>0.0</td>\n",
       "      <td>7</td>\n",
       "    </tr>\n",
       "    <tr>\n",
       "      <th>399812</th>\n",
       "      <td>3331.0</td>\n",
       "      <td>246.0</td>\n",
       "      <td>3.0</td>\n",
       "      <td>660.0</td>\n",
       "      <td>117.0</td>\n",
       "      <td>859.0</td>\n",
       "      <td>213.0</td>\n",
       "      <td>241.0</td>\n",
       "      <td>166.0</td>\n",
       "      <td>1113.0</td>\n",
       "      <td>...</td>\n",
       "      <td>1.0</td>\n",
       "      <td>0.0</td>\n",
       "      <td>0.0</td>\n",
       "      <td>0.0</td>\n",
       "      <td>0.0</td>\n",
       "      <td>0.0</td>\n",
       "      <td>0.0</td>\n",
       "      <td>0.0</td>\n",
       "      <td>0.0</td>\n",
       "      <td>7</td>\n",
       "    </tr>\n",
       "    <tr>\n",
       "      <th>293238</th>\n",
       "      <td>3284.0</td>\n",
       "      <td>307.0</td>\n",
       "      <td>18.0</td>\n",
       "      <td>60.0</td>\n",
       "      <td>22.0</td>\n",
       "      <td>3922.0</td>\n",
       "      <td>167.0</td>\n",
       "      <td>226.0</td>\n",
       "      <td>198.0</td>\n",
       "      <td>3999.0</td>\n",
       "      <td>...</td>\n",
       "      <td>0.0</td>\n",
       "      <td>0.0</td>\n",
       "      <td>0.0</td>\n",
       "      <td>0.0</td>\n",
       "      <td>0.0</td>\n",
       "      <td>0.0</td>\n",
       "      <td>1.0</td>\n",
       "      <td>0.0</td>\n",
       "      <td>0.0</td>\n",
       "      <td>7</td>\n",
       "    </tr>\n",
       "  </tbody>\n",
       "</table>\n",
       "<p>581012 rows × 55 columns</p>\n",
       "</div>"
      ],
      "text/plain": [
       "        Elevation  Aspect  Slope  Horizontal_Distance_To_Hydrology  \\\n",
       "290505     2928.0    58.0    7.0                             150.0   \n",
       "532739     3015.0   343.0   18.0                             376.0   \n",
       "532740     3018.0   341.0   18.0                             350.0   \n",
       "532741     3021.0   345.0   18.0                             324.0   \n",
       "532742     3023.0   349.0   19.0                             300.0   \n",
       "...           ...     ...    ...                               ...   \n",
       "399826     3334.0   356.0   10.0                             558.0   \n",
       "399825     3333.0     6.0    7.0                             601.0   \n",
       "399824     3334.0     3.0    5.0                             601.0   \n",
       "399812     3331.0   246.0    3.0                             660.0   \n",
       "293238     3284.0   307.0   18.0                              60.0   \n",
       "\n",
       "        Vertical_Distance_To_Hydrology  Horizontal_Distance_To_Roadways  \\\n",
       "290505                            -7.0                           1836.0   \n",
       "532739                            50.0                           3378.0   \n",
       "532740                            53.0                           3398.0   \n",
       "532741                            45.0                           3419.0   \n",
       "532742                            47.0                           3439.0   \n",
       "...                                ...                              ...   \n",
       "399826                           100.0                            765.0   \n",
       "399825                            99.0                            806.0   \n",
       "399824                            39.0                            845.0   \n",
       "399812                           117.0                            859.0   \n",
       "293238                            22.0                           3922.0   \n",
       "\n",
       "        Hillshade_9am  Hillshade_Noon  Hillshade_3pm  \\\n",
       "290505          226.0           225.0          133.0   \n",
       "532739          181.0           211.0          166.0   \n",
       "532740          180.0           211.0          168.0   \n",
       "532741          182.0           209.0          164.0   \n",
       "532742          182.0           206.0          160.0   \n",
       "...               ...             ...            ...   \n",
       "399826          204.0           223.0          156.0   \n",
       "399825          212.0           226.0          152.0   \n",
       "399824          214.0           231.0          155.0   \n",
       "399812          213.0           241.0          166.0   \n",
       "293238          167.0           226.0          198.0   \n",
       "\n",
       "        Horizontal_Distance_To_Fire_Points  ...  Soil_Type_31  Soil_Type_32  \\\n",
       "290505                               190.0  ...           1.0           0.0   \n",
       "532739                              1982.0  ...           0.0           0.0   \n",
       "532740                              2005.0  ...           0.0           0.0   \n",
       "532741                              2029.0  ...           0.0           0.0   \n",
       "532742                              2052.0  ...           0.0           0.0   \n",
       "...                                    ...  ...           ...           ...   \n",
       "399826                              1642.0  ...           0.0           0.0   \n",
       "399825                              1583.0  ...           1.0           0.0   \n",
       "399824                              1524.0  ...           1.0           0.0   \n",
       "399812                              1113.0  ...           1.0           0.0   \n",
       "293238                              3999.0  ...           0.0           0.0   \n",
       "\n",
       "        Soil_Type_33  Soil_Type_34  Soil_Type_35  Soil_Type_36  Soil_Type_37  \\\n",
       "290505           0.0           0.0           0.0           0.0           0.0   \n",
       "532739           0.0           0.0           0.0           0.0           0.0   \n",
       "532740           0.0           0.0           0.0           0.0           0.0   \n",
       "532741           0.0           0.0           0.0           0.0           0.0   \n",
       "532742           0.0           0.0           0.0           0.0           0.0   \n",
       "...              ...           ...           ...           ...           ...   \n",
       "399826           0.0           0.0           0.0           0.0           0.0   \n",
       "399825           0.0           0.0           0.0           0.0           0.0   \n",
       "399824           0.0           0.0           0.0           0.0           0.0   \n",
       "399812           0.0           0.0           0.0           0.0           0.0   \n",
       "293238           0.0           0.0           0.0           0.0           1.0   \n",
       "\n",
       "        Soil_Type_38  Soil_Type_39  Cover_Type  \n",
       "290505           0.0           0.0           1  \n",
       "532739           0.0           0.0           1  \n",
       "532740           0.0           0.0           1  \n",
       "532741           0.0           0.0           1  \n",
       "532742           0.0           0.0           1  \n",
       "...              ...           ...         ...  \n",
       "399826           0.0           0.0           7  \n",
       "399825           0.0           0.0           7  \n",
       "399824           0.0           0.0           7  \n",
       "399812           0.0           0.0           7  \n",
       "293238           0.0           0.0           7  \n",
       "\n",
       "[581012 rows x 55 columns]"
      ]
     },
     "execution_count": 4,
     "metadata": {},
     "output_type": "execute_result"
    }
   ],
   "source": [
    "forestlist = forest.frame\n",
    "forestlistSorted = forestlist.sort_values(by='Cover_Type')\n",
    "forestlistSorted"
   ]
  },
  {
   "cell_type": "markdown",
   "id": "ad685848-0852-40ec-9224-6479edcfbadf",
   "metadata": {
    "tags": []
   },
   "source": [
    "## training and test data"
   ]
  },
  {
   "cell_type": "code",
   "execution_count": 5,
   "id": "d7374455-6ab6-482b-914d-7d25c028307e",
   "metadata": {},
   "outputs": [
    {
     "data": {
      "text/plain": [
       "(581012, 54)"
      ]
     },
     "execution_count": 5,
     "metadata": {},
     "output_type": "execute_result"
    }
   ],
   "source": [
    "covertype['data'].shape"
   ]
  },
  {
   "cell_type": "code",
   "execution_count": 6,
   "id": "aa2226cd-ac5d-44b9-81d3-86e117c60d97",
   "metadata": {},
   "outputs": [],
   "source": [
    "X_c = covertype['data']\n",
    "y_c = covertype['target']"
   ]
  },
  {
   "cell_type": "code",
   "execution_count": 7,
   "id": "e95d3764-9b2c-4c58-a730-8b7167b298a5",
   "metadata": {},
   "outputs": [
    {
     "name": "stdout",
     "output_type": "stream",
     "text": [
      "(435759, 54)\n",
      "(145253, 54)\n"
     ]
    }
   ],
   "source": [
    "X_train_c, X_test_c, y_train_c, y_test_c = train_test_split(X_c, y_c)\n",
    "print(X_train_c.shape) \n",
    "print(X_test_c.shape)"
   ]
  },
  {
   "cell_type": "code",
   "execution_count": 8,
   "id": "1e55d24c-b370-4bec-95d4-52c00074d70c",
   "metadata": {},
   "outputs": [
    {
     "data": {
      "text/plain": [
       "StandardScaler()"
      ]
     },
     "execution_count": 8,
     "metadata": {},
     "output_type": "execute_result"
    }
   ],
   "source": [
    "scaler_c = StandardScaler()\n",
    "# Fit only to the training data\n",
    "scaler_c.fit(X_train_c)"
   ]
  },
  {
   "cell_type": "code",
   "execution_count": 9,
   "id": "2892e8de-0ce9-4e7a-aab7-6b188f2a8c0d",
   "metadata": {},
   "outputs": [],
   "source": [
    "X_train_c = scaler_c.transform(X_train_c)\n",
    "X_test_c = scaler_c.transform(X_test_c)"
   ]
  },
  {
   "cell_type": "code",
   "execution_count": 10,
   "id": "fbdcb1ab-db1f-4585-9d11-b7c56775370d",
   "metadata": {},
   "outputs": [],
   "source": [
    "classificationList = []\n",
    "curve = []\n",
    "validation = []\n",
    "iteration = []\n",
    "\n",
    "#validationList = []\n",
    "#curve_test = []\n",
    "#validation_test = []\n",
    "#iteration_test = []\n",
    "\n",
    "accuracyList = []\n",
    "recallList = []\n",
    "precisionList = []"
   ]
  },
  {
   "cell_type": "markdown",
   "id": "1ad8a3ff-1ec6-4b47-b833-497c31f505d7",
   "metadata": {},
   "source": [
    "## functions"
   ]
  },
  {
   "cell_type": "code",
   "execution_count": 11,
   "id": "00451c60-04e7-4cb1-85f2-cc748c4d0ba4",
   "metadata": {},
   "outputs": [],
   "source": [
    "def plotData():\n",
    "    fig, axes = plt.subplots(3,2)\n",
    "    sns.histplot(data=forestlistSorted, x=\"Elevation\", color=\"skyblue\", label=\"Elevation\", kde=True, ax=axes[0,0])\n",
    "    sns.histplot(data=forestlistSorted, x=\"Aspect\", color=\"red\", label=\"Aspect\", kde=True, ax=axes[0,0])\n",
    "    sns.histplot(data=forestlistSorted, x=\"Slope\", color=\"orange\", label=\"Slope\", kde=True, ax=axes[0,0])\n",
    "    plt.legend() \n",
    "\n",
    "    sns.histplot(data=forestlistSorted, x=\"Horizontal_Distance_To_Hydrology\", color=\"skyblue\", label=\"Horizontal_Distance_To_Hydrology\", kde=True, ax=axes[0,1])\n",
    "    sns.histplot(data=forestlistSorted, x=\"Vertical_Distance_To_Hydrology\", color=\"red\", label=\"Vertical_Distance_To_Hydrology\", kde=True, ax=axes[0,1])\n",
    "    sns.histplot(data=forestlistSorted, x=\"Horizontal_Distance_To_Roadways\", color=\"orange\", label=\"Horizontal_Distance_To_Roadways\", kde=True, ax=axes[0,1])\n",
    "    sns.histplot(data=forestlistSorted, x=\"Horizontal_Distance_To_Fire_Points\", color=\"green\", label=\"Horizontal_Distance_To_Fire_Points\", kde=True, ax=axes[0,1])\n",
    "    plt.legend() \n",
    "\n",
    "    sns.histplot(data=forestlistSorted, x=\"Hillshade_9am\", color=\"skyblue\", label=\"Hillshade_9am\", kde=True, ax=axes[1,0])\n",
    "    sns.histplot(data=forestlistSorted, x=\"Hillshade_Noon\", color=\"red\", label=\"Hillshade_Noon\", kde=True, ax=axes[1,0])\n",
    "    sns.histplot(data=forestlistSorted, x=\"Hillshade_3pm\", color=\"orange\", label=\"Hillshade_3pm\", kde=True, ax=axes[1,0])\n",
    "    plt.legend() \n",
    "\n",
    "    sns.histplot(data=forestlistSorted, x=\"Soil_Type_31\", color=\"skyblue\", label=\"Soil_Type_31\", kde=True, ax=axes[1,1])\n",
    "    sns.histplot(data=forestlistSorted, x=\"Soil_Type_32\", color=\"red\", label=\"Soil_Type_32\", kde=True, ax=axes[1,1])\n",
    "    sns.histplot(data=forestlistSorted, x=\"Soil_Type_33\", color=\"orange\", label=\"Soil_Type_33\", kde=True, ax=axes[1,1])\n",
    "    sns.histplot(data=forestlistSorted, x=\"Soil_Type_34\", color=\"cyan\", label=\"Soil_Type_34\", kde=True, ax=axes[1,1])\n",
    "    sns.histplot(data=forestlistSorted, x=\"Soil_Type_35\", color=\"darkgreen\", label=\"Soil_Type_35\", kde=True, ax=axes[1,1])\n",
    "    sns.histplot(data=forestlistSorted, x=\"Soil_Type_36\", color=\"gold\", label=\"Soil_Type_36\", kde=True, ax=axes[1,1])\n",
    "    sns.histplot(data=forestlistSorted, x=\"Soil_Type_37\", color=\"purple\", label=\"Soil_Type_37\", kde=True, ax=axes[1,1])\n",
    "    sns.histplot(data=forestlistSorted, x=\"Soil_Type_38\", color=\"silver\", label=\"Soil_Type_38\", kde=True, ax=axes[1,1])\n",
    "    sns.histplot(data=forestlistSorted, x=\"Soil_Type_39\", color=\"navy\", label=\"Soil_Type_39\", kde=True, ax=axes[1,1])\n",
    "    plt.legend() \n",
    "\n",
    "    sns.histplot(data=forestlistSorted, x=\"Cover_Type\", color=\"orange\", label=\"Cover_Type\",  ax=axes[2,1], discrete=True, kde=False)\n",
    "    plt.legend() \n",
    "    fig.tight_layout()"
   ]
  },
  {
   "cell_type": "code",
   "execution_count": 12,
   "id": "207ed85a-e659-4bb9-b533-fc3dc2a39ea1",
   "metadata": {},
   "outputs": [],
   "source": [
    "def addToList(mlp, liste):\n",
    "    liste.append(mlp)"
   ]
  },
  {
   "cell_type": "code",
   "execution_count": 13,
   "id": "2b80fe74-be82-444d-ac56-b6a8f4797089",
   "metadata": {},
   "outputs": [],
   "source": [
    "def removeFromList(mlp, liste):\n",
    "    liste.remove(mlp)"
   ]
  },
  {
   "cell_type": "code",
   "execution_count": 14,
   "id": "8384363b-3a23-4ea7-9ddf-e8e2fb0fcd49",
   "metadata": {},
   "outputs": [],
   "source": [
    "def comparison(List):\n",
    "    for mlp in List:\n",
    "        print(mlp)\n",
    "        print('\\nparamters: ' + str(mlp.get_params(deep=True)))\n",
    "        print('\\nlast loss: ' + str(mlp.loss_))\n",
    "        print('\\nnumber of features seen during fit: ' + str(mlp.n_features_in_))\n",
    "        print('\\nnumber of layers: ' + str(mlp.n_layers_))\n",
    "        print('\\nnumber of outputs: ' + str(mlp.n_outputs_))\n",
    "        print('\\nname of output activation function: ' + str(mlp.out_activation_) )\n",
    "        print('\\nnumber of iterations: ' +str(mlp.n_iter_) )\n",
    "        print('\\nnumber training samples seen by the solver during fitting: ' +str(mlp.t_) )\n",
    "        print('****************************************************************************************')"
   ]
  },
  {
   "cell_type": "code",
   "execution_count": 15,
   "id": "76d31667-65c3-4d58-89a5-0c8e333620a2",
   "metadata": {},
   "outputs": [],
   "source": [
    "def curveValidateIteration(List, c, v, i):\n",
    "    for mlp in List:\n",
    "        c.append(mlp.loss_curve_)\n",
    "        v.append(mlp.validation_scores_)\n",
    "        i.append(np.arange(1, mlp.n_iter_+1))"
   ]
  },
  {
   "cell_type": "markdown",
   "id": "ecba6578-cde2-4e01-970c-209a788ea8ed",
   "metadata": {},
   "source": [
    "__________________________________________________________________________________________________________________________________"
   ]
  },
  {
   "cell_type": "code",
   "execution_count": 16,
   "id": "4e8f31d2-0b07-4411-8bc6-1c2c68b140fa",
   "metadata": {},
   "outputs": [],
   "source": [
    "cmap = ListedColormap([\"coral\", \"azure\", \"indigo\", \"darkgreen\", \"lightblue\", \"crimson\", \"gold\", \"silver\", \"teal\"])\n",
    "def plotCurvePerInteration(List, curvy, iterate):\n",
    "    print('default: hidden_layer = (100,), activation = relu, solver = adam, alpha = 0.0001, learning_rate = constant, learning_rate_init = 0.001, max_iter = 200, shuffle = true, early_stopping & warm_start = FALSE')\n",
    "    print('Alle Infos, die davon abweichen, werden in der Legende gelistet')\n",
    "    print('****************************************************************************************')\n",
    "    for i,c,cl in zip(iterate, curvy, List):\n",
    "        plt.scatter(i,c, marker = '.', label = str(cl))\n",
    "    plt.title('Losscurve per iteration')\n",
    "    plt.xlabel(\"iteration\")\n",
    "    plt.ylabel(\"loss curve\")\n",
    "    plt.legend(bbox_to_anchor=(1.05, 1.0), loc='upper left')\n",
    "    plt.show()"
   ]
  },
  {
   "cell_type": "code",
   "execution_count": 17,
   "id": "a3ef3f87-42fb-46b9-96f7-7b363ec85fc4",
   "metadata": {},
   "outputs": [],
   "source": [
    "def plotValidationPerInteration(List, validate, iterate):\n",
    "    for i,v, cl in zip(iterate, validate, List):\n",
    "        plt.scatter(i,v, marker = '.', label = str(cl))\n",
    "    plt.title('Validation per iteration')\n",
    "    plt.xlabel(\"iteration\")\n",
    "    plt.ylabel(\"validation\")\n",
    "    plt.legend(bbox_to_anchor=(1.05, 1.0), loc='upper left')\n",
    "    plt.show()"
   ]
  },
  {
   "cell_type": "code",
   "execution_count": 18,
   "id": "25ada7f9-9a81-4a58-80ae-1bea09db70f0",
   "metadata": {},
   "outputs": [],
   "source": [
    "def plotValidationPercurve(List, validate, curvy):\n",
    "    for c,v,cl in zip(validate, curvy, List):\n",
    "        plt.scatter(c,v, marker = '.', label = str(cl))\n",
    "    plt.title('Validation per curve')\n",
    "    plt.xlabel(\"validation\")\n",
    "    plt.ylabel(\"curve\")\n",
    "    plt.legend(bbox_to_anchor=(1.05, 1.0), loc='upper left')\n",
    "    plt.show()\n"
   ]
  },
  {
   "cell_type": "markdown",
   "id": "9fcda0d6-d713-4584-ac38-41b1814e1eec",
   "metadata": {},
   "source": [
    "__________________________________________________________________________________________________________________________________"
   ]
  },
  {
   "cell_type": "code",
   "execution_count": 19,
   "id": "ad8cf6d8-5f4f-477f-9b18-8acb297611fa",
   "metadata": {},
   "outputs": [],
   "source": [
    "def heatmaping(List):\n",
    "    for mlp in List:\n",
    "        print(mlp)\n",
    "        predictions = mlp.predict(X_test_c)   \n",
    "        con_ma = confusion_matrix(y_test_c,predictions)\n",
    "        con_ma_perc = np.empty([7, 7], dtype=float)\n",
    "\n",
    "        for i in range(0, 7):\n",
    "            number = 0.0\n",
    "            for j in range(0, 7):\n",
    "                number += con_ma[i][j]\n",
    "            for j in range(0, 7):\n",
    "                con_ma_perc[i][j] = 100/number*con_ma[i][j]\n",
    "\n",
    "        tree = ['Spruce', 'Lodgepole Pine', 'PoderosaPine', 'Cottonwood/Willow', 'Aspen', 'Douglas-fir', 'Krummholz']\n",
    "\n",
    "        # ======== Plot confuse matrix prozentual ========\n",
    "\n",
    "        ay = sns.heatmap(con_ma_perc, annot=True, cmap='coolwarm', yticklabels=tree, xticklabels=tree, fmt='.2f', vmin=0, vmax=100)\n",
    "        ay.xaxis.tick_top()\n",
    "        ay.xaxis.set_label_position('top')\n",
    "        plt.xticks(rotation=90)\n",
    "        ay.set(title=\"Confusion Matrix - Recall\",\n",
    "              xlabel=\"- Predicted Tree -\",\n",
    "              ylabel=\"- Actual Tree -\")\n",
    "        plt.show()"
   ]
  },
  {
   "cell_type": "code",
   "execution_count": 20,
   "id": "633860b1-fd10-4b7a-b001-8bacfb1ce97c",
   "metadata": {},
   "outputs": [],
   "source": [
    "def reporting(List):\n",
    "    for mlp in List:\n",
    "        print(mlp)\n",
    "        predictions = mlp.predict(X_test_c)\n",
    "        print(classification_report(y_test_c,predictions))"
   ]
  },
  {
   "cell_type": "code",
   "execution_count": 21,
   "id": "1e4d2697-5eb8-4deb-a58a-a9cde3fc2599",
   "metadata": {},
   "outputs": [],
   "source": [
    "def accuracyPlotting(List):\n",
    "        for mlp in List:\n",
    "            print(mlp)\n",
    "            predictions = mlp.predict(X_test_c)\n",
    "            accuracy = accuracy_score(y_test_c, predictions)\n",
    "            recall = recall_score(y_test_c, predictions, average = 'weighted')\n",
    "            precision = precision_score(y_test_c, predictions, average = 'weighted')\n",
    "            \n",
    "            addToList(accuracy, accuracyList)\n",
    "            addToList(recall, recallList)\n",
    "            addToList(precision, precisionList)\n",
    "            \n",
    "            print('Accuracy: \\t{0:.2f}'.format(accuracy * 100.0))\n",
    "            print('Recall: \\t{0:.2f}'.format(recall * 100.0))\n",
    "            print('precision: \\t{0:.2f}'.format(precision * 100.0))"
   ]
  },
  {
   "cell_type": "markdown",
   "id": "3f628e5a-26a7-4774-8cbc-9913bb044787",
   "metadata": {},
   "source": [
    "## initializing nets\n",
    "### Learning Rates\n",
    "Gewichte updaten"
   ]
  },
  {
   "cell_type": "markdown",
   "id": "8aa91474-4585-43a0-8506-fd28bf269907",
   "metadata": {},
   "source": [
    "### Constant\n",
    "</li> konstante learningrate nach learing_rate_init </li>\n",
    "</li> learing_rate_init-Default Wert  = 0.001. Nur bei sgd oder adam </li>"
   ]
  },
  {
   "cell_type": "code",
   "execution_count": 22,
   "id": "2a21184a-dd71-4064-adad-44372e811ed5",
   "metadata": {
    "collapsed": true,
    "jupyter": {
     "outputs_hidden": true
    },
    "tags": []
   },
   "outputs": [
    {
     "name": "stdout",
     "output_type": "stream",
     "text": [
      "Iteration 1, loss = 0.68506341\n",
      "Validation score: 0.744791\n",
      "Iteration 2, loss = 0.56957901\n",
      "Validation score: 0.758376\n",
      "Iteration 3, loss = 0.54150407\n",
      "Validation score: 0.768657\n",
      "Iteration 4, loss = 0.52262737\n",
      "Validation score: 0.776138\n",
      "Iteration 5, loss = 0.51039216\n",
      "Validation score: 0.783665\n",
      "Iteration 6, loss = 0.50157645\n",
      "Validation score: 0.789770\n",
      "Iteration 7, loss = 0.49399290\n",
      "Validation score: 0.790894\n",
      "Iteration 8, loss = 0.48797684\n",
      "Validation score: 0.789448\n",
      "Iteration 9, loss = 0.48369043\n",
      "Validation score: 0.795002\n",
      "Iteration 10, loss = 0.47925334\n",
      "Validation score: 0.798123\n",
      "Iteration 11, loss = 0.47585687\n",
      "Validation score: 0.799982\n",
      "Iteration 12, loss = 0.47261098\n",
      "Validation score: 0.800234\n",
      "Iteration 13, loss = 0.46991638\n",
      "Validation score: 0.802827\n",
      "Iteration 14, loss = 0.46693359\n",
      "Validation score: 0.804732\n",
      "Iteration 15, loss = 0.46412899\n",
      "Validation score: 0.800693\n",
      "Iteration 16, loss = 0.46186169\n",
      "Validation score: 0.803607\n",
      "Iteration 17, loss = 0.45979255\n",
      "Validation score: 0.809138\n",
      "Iteration 18, loss = 0.45733324\n",
      "Validation score: 0.807784\n",
      "Iteration 19, loss = 0.45553603\n",
      "Validation score: 0.808840\n",
      "Iteration 20, loss = 0.45347428\n",
      "Validation score: 0.805466\n",
      "Iteration 21, loss = 0.45120307\n",
      "Validation score: 0.813705\n",
      "Iteration 22, loss = 0.44993451\n",
      "Validation score: 0.810010\n",
      "Iteration 23, loss = 0.44746132\n",
      "Validation score: 0.814646\n",
      "Iteration 24, loss = 0.44598985\n",
      "Validation score: 0.816665\n",
      "Iteration 25, loss = 0.44449323\n",
      "Validation score: 0.814164\n",
      "Iteration 26, loss = 0.44253859\n",
      "Validation score: 0.815724\n",
      "Iteration 27, loss = 0.44133645\n",
      "Validation score: 0.816688\n",
      "Iteration 28, loss = 0.43965869\n",
      "Validation score: 0.816527\n",
      "Iteration 29, loss = 0.43869269\n",
      "Validation score: 0.817698\n",
      "Iteration 30, loss = 0.43739135\n",
      "Validation score: 0.818822\n",
      "Iteration 31, loss = 0.43657257\n",
      "Validation score: 0.821370\n",
      "Iteration 32, loss = 0.43547827\n",
      "Validation score: 0.817560\n",
      "Iteration 33, loss = 0.43441053\n",
      "Validation score: 0.819580\n",
      "Iteration 34, loss = 0.43435576\n",
      "Validation score: 0.819396\n",
      "Iteration 35, loss = 0.43283147\n",
      "Validation score: 0.816390\n",
      "Iteration 36, loss = 0.43216033\n",
      "Validation score: 0.819947\n",
      "Iteration 37, loss = 0.43182637\n",
      "Validation score: 0.820291\n",
      "Iteration 38, loss = 0.43102854\n",
      "Validation score: 0.820268\n",
      "Iteration 39, loss = 0.43002779\n",
      "Validation score: 0.819648\n",
      "Iteration 40, loss = 0.42949804\n",
      "Validation score: 0.818983\n",
      "Iteration 41, loss = 0.42870564\n",
      "Validation score: 0.820498\n",
      "Iteration 42, loss = 0.42792977\n",
      "Validation score: 0.822746\n",
      "Iteration 43, loss = 0.42735540\n",
      "Validation score: 0.825913\n",
      "Iteration 44, loss = 0.42737575\n",
      "Validation score: 0.822953\n",
      "Iteration 45, loss = 0.42611476\n",
      "Validation score: 0.822265\n",
      "Iteration 46, loss = 0.42600170\n",
      "Validation score: 0.824169\n",
      "Iteration 47, loss = 0.42591251\n",
      "Validation score: 0.821553\n",
      "Iteration 48, loss = 0.42480386\n",
      "Validation score: 0.823802\n",
      "Iteration 49, loss = 0.42455387\n",
      "Validation score: 0.821484\n",
      "Iteration 50, loss = 0.42383653\n",
      "Validation score: 0.824353\n",
      "Iteration 51, loss = 0.42356315\n",
      "Validation score: 0.822724\n",
      "Iteration 52, loss = 0.42320997\n",
      "Validation score: 0.825064\n",
      "Iteration 53, loss = 0.42277795\n",
      "Validation score: 0.821209\n",
      "Iteration 54, loss = 0.42228951\n",
      "Validation score: 0.821989\n",
      "Validation score did not improve more than tol=0.000100 for 10 consecutive epochs. Stopping.\n"
     ]
    }
   ],
   "source": [
    "mlp_1 = MLPClassifier(hidden_layer_sizes=(20,20,20), max_iter = 150, early_stopping = True, verbose = True, learning_rate = \"constant\")\n",
    "mlp_1train = mlp_1.fit(X_train_c,y_train_c)"
   ]
  },
  {
   "cell_type": "markdown",
   "id": "ce68f314-0ae2-4f07-a799-73318f259c59",
   "metadata": {},
   "source": [
    "### invscaling\n",
    "</li> nutzt inverse scaling exponent: power_t </li>\n",
    "</li> power_t - default: 0.5; nur bei sgd </li>\n",
    "<li> $effectiveLearningRate = \\frac{learningRateInit}{t^power_t}$ </li>"
   ]
  },
  {
   "cell_type": "code",
   "execution_count": 23,
   "id": "d4f02a3f-d77b-4d44-81cb-b207614dd4e2",
   "metadata": {
    "collapsed": true,
    "jupyter": {
     "outputs_hidden": true
    },
    "tags": []
   },
   "outputs": [
    {
     "name": "stdout",
     "output_type": "stream",
     "text": [
      "Iteration 1, loss = 0.67330515\n",
      "Validation score: 0.748738\n",
      "Iteration 2, loss = 0.57062144\n",
      "Validation score: 0.766362\n",
      "Iteration 3, loss = 0.54194187\n",
      "Validation score: 0.771893\n",
      "Iteration 4, loss = 0.52395893\n",
      "Validation score: 0.777836\n",
      "Iteration 5, loss = 0.51165858\n",
      "Validation score: 0.781026\n",
      "Iteration 6, loss = 0.50152505\n",
      "Validation score: 0.786213\n",
      "Iteration 7, loss = 0.49384245\n",
      "Validation score: 0.788553\n",
      "Iteration 8, loss = 0.48581089\n",
      "Validation score: 0.794313\n",
      "Iteration 9, loss = 0.47843506\n",
      "Validation score: 0.800005\n",
      "Iteration 10, loss = 0.47155811\n",
      "Validation score: 0.803539\n",
      "Iteration 11, loss = 0.46582155\n",
      "Validation score: 0.801886\n",
      "Iteration 12, loss = 0.46095046\n",
      "Validation score: 0.806820\n",
      "Iteration 13, loss = 0.45660105\n",
      "Validation score: 0.809253\n",
      "Iteration 14, loss = 0.45277021\n",
      "Validation score: 0.809115\n",
      "Iteration 15, loss = 0.44924484\n",
      "Validation score: 0.809023\n",
      "Iteration 16, loss = 0.44607245\n",
      "Validation score: 0.814233\n",
      "Iteration 17, loss = 0.44306717\n",
      "Validation score: 0.813934\n",
      "Iteration 18, loss = 0.44114345\n",
      "Validation score: 0.812879\n",
      "Iteration 19, loss = 0.43854417\n",
      "Validation score: 0.814692\n",
      "Iteration 20, loss = 0.43708714\n",
      "Validation score: 0.812534\n",
      "Iteration 21, loss = 0.43530869\n",
      "Validation score: 0.814003\n",
      "Iteration 22, loss = 0.43419891\n",
      "Validation score: 0.815013\n",
      "Iteration 23, loss = 0.43273136\n",
      "Validation score: 0.817560\n",
      "Iteration 24, loss = 0.43139086\n",
      "Validation score: 0.820520\n",
      "Iteration 25, loss = 0.42992378\n",
      "Validation score: 0.817124\n",
      "Iteration 26, loss = 0.42852683\n",
      "Validation score: 0.820589\n",
      "Iteration 27, loss = 0.42732168\n",
      "Validation score: 0.820750\n",
      "Iteration 28, loss = 0.42618123\n",
      "Validation score: 0.824307\n",
      "Iteration 29, loss = 0.42426400\n",
      "Validation score: 0.822173\n",
      "Iteration 30, loss = 0.42334731\n",
      "Validation score: 0.820520\n",
      "Iteration 31, loss = 0.42294453\n",
      "Validation score: 0.821393\n",
      "Iteration 32, loss = 0.42138121\n",
      "Validation score: 0.817514\n",
      "Iteration 33, loss = 0.42038341\n",
      "Validation score: 0.825776\n",
      "Iteration 34, loss = 0.41973760\n",
      "Validation score: 0.823137\n",
      "Iteration 35, loss = 0.41907534\n",
      "Validation score: 0.823504\n",
      "Iteration 36, loss = 0.41813597\n",
      "Validation score: 0.823894\n",
      "Iteration 37, loss = 0.41718338\n",
      "Validation score: 0.825822\n",
      "Iteration 38, loss = 0.41678577\n",
      "Validation score: 0.818111\n",
      "Iteration 39, loss = 0.41612752\n",
      "Validation score: 0.827198\n",
      "Iteration 40, loss = 0.41549596\n",
      "Validation score: 0.823963\n",
      "Iteration 41, loss = 0.41491591\n",
      "Validation score: 0.824032\n",
      "Iteration 42, loss = 0.41431167\n",
      "Validation score: 0.824995\n",
      "Iteration 43, loss = 0.41330767\n",
      "Validation score: 0.827589\n",
      "Iteration 44, loss = 0.41315783\n",
      "Validation score: 0.827566\n",
      "Iteration 45, loss = 0.41184892\n",
      "Validation score: 0.826762\n",
      "Iteration 46, loss = 0.41140827\n",
      "Validation score: 0.827221\n",
      "Iteration 47, loss = 0.41030631\n",
      "Validation score: 0.829838\n",
      "Iteration 48, loss = 0.41012845\n",
      "Validation score: 0.826166\n",
      "Iteration 49, loss = 0.40934346\n",
      "Validation score: 0.825225\n",
      "Iteration 50, loss = 0.40879823\n",
      "Validation score: 0.828782\n",
      "Iteration 51, loss = 0.40799587\n",
      "Validation score: 0.828988\n",
      "Iteration 52, loss = 0.40761508\n",
      "Validation score: 0.829952\n",
      "Iteration 53, loss = 0.40707607\n",
      "Validation score: 0.830503\n",
      "Iteration 54, loss = 0.40628199\n",
      "Validation score: 0.830136\n",
      "Iteration 55, loss = 0.40606316\n",
      "Validation score: 0.831260\n",
      "Iteration 56, loss = 0.40547554\n",
      "Validation score: 0.828048\n",
      "Iteration 57, loss = 0.40502037\n",
      "Validation score: 0.828897\n",
      "Iteration 58, loss = 0.40447093\n",
      "Validation score: 0.830824\n",
      "Iteration 59, loss = 0.40448808\n",
      "Validation score: 0.831536\n",
      "Iteration 60, loss = 0.40413721\n",
      "Validation score: 0.830457\n",
      "Iteration 61, loss = 0.40350811\n",
      "Validation score: 0.830021\n",
      "Iteration 62, loss = 0.40305579\n",
      "Validation score: 0.832821\n",
      "Iteration 63, loss = 0.40316378\n",
      "Validation score: 0.830778\n",
      "Iteration 64, loss = 0.40258315\n",
      "Validation score: 0.831903\n",
      "Iteration 65, loss = 0.40276843\n",
      "Validation score: 0.831352\n",
      "Iteration 66, loss = 0.40217489\n",
      "Validation score: 0.829356\n",
      "Iteration 67, loss = 0.40158485\n",
      "Validation score: 0.831352\n",
      "Iteration 68, loss = 0.40097198\n",
      "Validation score: 0.831146\n",
      "Iteration 69, loss = 0.40094550\n",
      "Validation score: 0.834657\n",
      "Iteration 70, loss = 0.40094651\n",
      "Validation score: 0.830434\n",
      "Iteration 71, loss = 0.40037149\n",
      "Validation score: 0.833853\n",
      "Iteration 72, loss = 0.39997417\n",
      "Validation score: 0.832155\n",
      "Iteration 73, loss = 0.40000847\n",
      "Validation score: 0.829103\n",
      "Iteration 74, loss = 0.39970575\n",
      "Validation score: 0.830251\n",
      "Iteration 75, loss = 0.39915530\n",
      "Validation score: 0.830434\n",
      "Iteration 76, loss = 0.39912989\n",
      "Validation score: 0.833395\n",
      "Iteration 77, loss = 0.39890269\n",
      "Validation score: 0.832270\n",
      "Iteration 78, loss = 0.39877488\n",
      "Validation score: 0.834267\n",
      "Iteration 79, loss = 0.39835834\n",
      "Validation score: 0.835689\n",
      "Iteration 80, loss = 0.39824487\n",
      "Validation score: 0.828851\n",
      "Iteration 81, loss = 0.39777140\n",
      "Validation score: 0.834496\n",
      "Iteration 82, loss = 0.39777071\n",
      "Validation score: 0.835070\n",
      "Iteration 83, loss = 0.39768378\n",
      "Validation score: 0.834175\n",
      "Iteration 84, loss = 0.39762303\n",
      "Validation score: 0.836997\n",
      "Iteration 85, loss = 0.39737549\n",
      "Validation score: 0.832477\n",
      "Iteration 86, loss = 0.39684874\n",
      "Validation score: 0.834611\n",
      "Iteration 87, loss = 0.39691503\n",
      "Validation score: 0.831146\n",
      "Iteration 88, loss = 0.39638858\n",
      "Validation score: 0.835001\n",
      "Iteration 89, loss = 0.39659955\n",
      "Validation score: 0.836034\n",
      "Iteration 90, loss = 0.39605091\n",
      "Validation score: 0.836561\n",
      "Iteration 91, loss = 0.39549006\n",
      "Validation score: 0.837296\n",
      "Iteration 92, loss = 0.39551837\n",
      "Validation score: 0.834932\n",
      "Iteration 93, loss = 0.39502093\n",
      "Validation score: 0.835506\n",
      "Iteration 94, loss = 0.39547683\n",
      "Validation score: 0.835552\n",
      "Iteration 95, loss = 0.39468813\n",
      "Validation score: 0.834955\n",
      "Iteration 96, loss = 0.39450993\n",
      "Validation score: 0.837043\n",
      "Iteration 97, loss = 0.39441727\n",
      "Validation score: 0.831352\n",
      "Iteration 98, loss = 0.39410933\n",
      "Validation score: 0.838076\n",
      "Iteration 99, loss = 0.39379802\n",
      "Validation score: 0.833096\n",
      "Iteration 100, loss = 0.39295957\n",
      "Validation score: 0.837273\n",
      "Iteration 101, loss = 0.39371751\n",
      "Validation score: 0.834496\n",
      "Iteration 102, loss = 0.39339860\n",
      "Validation score: 0.833165\n",
      "Iteration 103, loss = 0.39253192\n",
      "Validation score: 0.836768\n",
      "Iteration 104, loss = 0.39261323\n",
      "Validation score: 0.833670\n",
      "Iteration 105, loss = 0.39202406\n",
      "Validation score: 0.838305\n",
      "Iteration 106, loss = 0.39208399\n",
      "Validation score: 0.837296\n",
      "Iteration 107, loss = 0.39217653\n",
      "Validation score: 0.833785\n",
      "Iteration 108, loss = 0.39164328\n",
      "Validation score: 0.836929\n",
      "Iteration 109, loss = 0.39166510\n",
      "Validation score: 0.834886\n",
      "Iteration 110, loss = 0.39096252\n",
      "Validation score: 0.836814\n",
      "Iteration 111, loss = 0.39112115\n",
      "Validation score: 0.837043\n",
      "Iteration 112, loss = 0.39080868\n",
      "Validation score: 0.838604\n",
      "Iteration 113, loss = 0.39069844\n",
      "Validation score: 0.834680\n",
      "Iteration 114, loss = 0.39056682\n",
      "Validation score: 0.838627\n",
      "Iteration 115, loss = 0.39033736\n",
      "Validation score: 0.837502\n",
      "Iteration 116, loss = 0.39002627\n",
      "Validation score: 0.833647\n",
      "Iteration 117, loss = 0.39018103\n",
      "Validation score: 0.837204\n",
      "Iteration 118, loss = 0.38941044\n",
      "Validation score: 0.834840\n",
      "Iteration 119, loss = 0.38967092\n",
      "Validation score: 0.839453\n",
      "Iteration 120, loss = 0.38979373\n",
      "Validation score: 0.832637\n",
      "Iteration 121, loss = 0.38963675\n",
      "Validation score: 0.836309\n",
      "Iteration 122, loss = 0.38909339\n",
      "Validation score: 0.832247\n",
      "Iteration 123, loss = 0.38884050\n",
      "Validation score: 0.838260\n",
      "Iteration 124, loss = 0.38936098\n",
      "Validation score: 0.835896\n",
      "Iteration 125, loss = 0.38891659\n",
      "Validation score: 0.838305\n",
      "Iteration 126, loss = 0.38878864\n",
      "Validation score: 0.837709\n",
      "Iteration 127, loss = 0.38850318\n",
      "Validation score: 0.838122\n",
      "Iteration 128, loss = 0.38832887\n",
      "Validation score: 0.836699\n",
      "Iteration 129, loss = 0.38878013\n",
      "Validation score: 0.835483\n",
      "Iteration 130, loss = 0.38839732\n",
      "Validation score: 0.835070\n",
      "Validation score did not improve more than tol=0.000100 for 10 consecutive epochs. Stopping.\n"
     ]
    }
   ],
   "source": [
    "mlp_2 = MLPClassifier(hidden_layer_sizes=(20,20,20),  max_iter = 150, early_stopping = True, verbose = True, learning_rate = \"invscaling\")\n",
    "mlp_2train = mlp_2.fit(X_train_c,y_train_c)"
   ]
  },
  {
   "cell_type": "markdown",
   "id": "0530faff-8bc6-4be7-b876-7108acd7e694",
   "metadata": {},
   "source": [
    "### adaptive\n",
    "</li> constant, solange learningrate fällt. </li>\n",
    "</li> Wenn learningrate zweimal nicht fällt um tol, dann  $\\frac{learningrate}{5}$</li>"
   ]
  },
  {
   "cell_type": "code",
   "execution_count": 24,
   "id": "e0a4874c-1d2a-4cd8-bce9-17f0a2a68efd",
   "metadata": {
    "collapsed": true,
    "jupyter": {
     "outputs_hidden": true
    },
    "tags": []
   },
   "outputs": [
    {
     "name": "stdout",
     "output_type": "stream",
     "text": [
      "Iteration 1, loss = 0.67171091\n",
      "Validation score: 0.751882\n",
      "Iteration 2, loss = 0.55745033\n",
      "Validation score: 0.767005\n",
      "Iteration 3, loss = 0.53127835\n",
      "Validation score: 0.775633\n",
      "Iteration 4, loss = 0.51661674\n",
      "Validation score: 0.779558\n",
      "Iteration 5, loss = 0.50692923\n",
      "Validation score: 0.781944\n",
      "Iteration 6, loss = 0.49935867\n",
      "Validation score: 0.788806\n",
      "Iteration 7, loss = 0.49330700\n",
      "Validation score: 0.791101\n",
      "Iteration 8, loss = 0.48784528\n",
      "Validation score: 0.794864\n",
      "Iteration 9, loss = 0.48312523\n",
      "Validation score: 0.795576\n",
      "Iteration 10, loss = 0.47919168\n",
      "Validation score: 0.795966\n",
      "Iteration 11, loss = 0.47498869\n",
      "Validation score: 0.800762\n",
      "Iteration 12, loss = 0.47097568\n",
      "Validation score: 0.801588\n",
      "Iteration 13, loss = 0.46737506\n",
      "Validation score: 0.808059\n",
      "Iteration 14, loss = 0.46435371\n",
      "Validation score: 0.805742\n",
      "Iteration 15, loss = 0.46181042\n",
      "Validation score: 0.805971\n",
      "Iteration 16, loss = 0.45900947\n",
      "Validation score: 0.808427\n",
      "Iteration 17, loss = 0.45660347\n",
      "Validation score: 0.809276\n",
      "Iteration 18, loss = 0.45427422\n",
      "Validation score: 0.809023\n",
      "Iteration 19, loss = 0.45208373\n",
      "Validation score: 0.811616\n",
      "Iteration 20, loss = 0.45054634\n",
      "Validation score: 0.810905\n",
      "Iteration 21, loss = 0.44918615\n",
      "Validation score: 0.814279\n",
      "Iteration 22, loss = 0.44713139\n",
      "Validation score: 0.811456\n",
      "Iteration 23, loss = 0.44561704\n",
      "Validation score: 0.815311\n",
      "Iteration 24, loss = 0.44419456\n",
      "Validation score: 0.814256\n",
      "Iteration 25, loss = 0.44289419\n",
      "Validation score: 0.814233\n",
      "Iteration 26, loss = 0.44206857\n",
      "Validation score: 0.813154\n",
      "Iteration 27, loss = 0.44056864\n",
      "Validation score: 0.815219\n",
      "Iteration 28, loss = 0.43980351\n",
      "Validation score: 0.818134\n",
      "Iteration 29, loss = 0.43896405\n",
      "Validation score: 0.817032\n",
      "Iteration 30, loss = 0.43792300\n",
      "Validation score: 0.818294\n",
      "Iteration 31, loss = 0.43748334\n",
      "Validation score: 0.815151\n",
      "Iteration 32, loss = 0.43590679\n",
      "Validation score: 0.817583\n",
      "Iteration 33, loss = 0.43591052\n",
      "Validation score: 0.817193\n",
      "Iteration 34, loss = 0.43497987\n",
      "Validation score: 0.816298\n",
      "Iteration 35, loss = 0.43372721\n",
      "Validation score: 0.816734\n",
      "Iteration 36, loss = 0.43335539\n",
      "Validation score: 0.817583\n",
      "Iteration 37, loss = 0.43266277\n",
      "Validation score: 0.819029\n",
      "Iteration 38, loss = 0.43236451\n",
      "Validation score: 0.819373\n",
      "Iteration 39, loss = 0.43114449\n",
      "Validation score: 0.816573\n",
      "Iteration 40, loss = 0.43082334\n",
      "Validation score: 0.817055\n",
      "Iteration 41, loss = 0.43018465\n",
      "Validation score: 0.820130\n",
      "Iteration 42, loss = 0.42905126\n",
      "Validation score: 0.819052\n",
      "Iteration 43, loss = 0.42892863\n",
      "Validation score: 0.817422\n",
      "Iteration 44, loss = 0.42825948\n",
      "Validation score: 0.824559\n",
      "Iteration 45, loss = 0.42732435\n",
      "Validation score: 0.823205\n",
      "Iteration 46, loss = 0.42717363\n",
      "Validation score: 0.821806\n",
      "Iteration 47, loss = 0.42671992\n",
      "Validation score: 0.819373\n",
      "Iteration 48, loss = 0.42547382\n",
      "Validation score: 0.823825\n",
      "Iteration 49, loss = 0.42560617\n",
      "Validation score: 0.824055\n",
      "Iteration 50, loss = 0.42515541\n",
      "Validation score: 0.820704\n",
      "Iteration 51, loss = 0.42418877\n",
      "Validation score: 0.824582\n",
      "Iteration 52, loss = 0.42398760\n",
      "Validation score: 0.821370\n",
      "Iteration 53, loss = 0.42319824\n",
      "Validation score: 0.821117\n",
      "Iteration 54, loss = 0.42279602\n",
      "Validation score: 0.820566\n",
      "Iteration 55, loss = 0.42272900\n",
      "Validation score: 0.824904\n",
      "Iteration 56, loss = 0.42200699\n",
      "Validation score: 0.822012\n",
      "Iteration 57, loss = 0.42221756\n",
      "Validation score: 0.824215\n",
      "Iteration 58, loss = 0.42117071\n",
      "Validation score: 0.805696\n",
      "Iteration 59, loss = 0.42119681\n",
      "Validation score: 0.826005\n",
      "Iteration 60, loss = 0.42047136\n",
      "Validation score: 0.824215\n",
      "Iteration 61, loss = 0.42001576\n",
      "Validation score: 0.824330\n",
      "Iteration 62, loss = 0.41981253\n",
      "Validation score: 0.824330\n",
      "Iteration 63, loss = 0.41955430\n",
      "Validation score: 0.819625\n",
      "Iteration 64, loss = 0.41902505\n",
      "Validation score: 0.824743\n",
      "Iteration 65, loss = 0.41897608\n",
      "Validation score: 0.821691\n",
      "Iteration 66, loss = 0.41893389\n",
      "Validation score: 0.822173\n",
      "Iteration 67, loss = 0.41806382\n",
      "Validation score: 0.826051\n",
      "Iteration 68, loss = 0.41707738\n",
      "Validation score: 0.829631\n",
      "Iteration 69, loss = 0.41694466\n",
      "Validation score: 0.823963\n",
      "Iteration 70, loss = 0.41663310\n",
      "Validation score: 0.829218\n",
      "Iteration 71, loss = 0.41649582\n",
      "Validation score: 0.828369\n",
      "Iteration 72, loss = 0.41546095\n",
      "Validation score: 0.825569\n",
      "Iteration 73, loss = 0.41612350\n",
      "Validation score: 0.825179\n",
      "Iteration 74, loss = 0.41497710\n",
      "Validation score: 0.826739\n",
      "Iteration 75, loss = 0.41544508\n",
      "Validation score: 0.826441\n",
      "Iteration 76, loss = 0.41426217\n",
      "Validation score: 0.822884\n",
      "Iteration 77, loss = 0.41413133\n",
      "Validation score: 0.827657\n",
      "Iteration 78, loss = 0.41395969\n",
      "Validation score: 0.828897\n",
      "Iteration 79, loss = 0.41324207\n",
      "Validation score: 0.827382\n",
      "Validation score did not improve more than tol=0.000100 for 10 consecutive epochs. Stopping.\n"
     ]
    }
   ],
   "source": [
    "mlp_3 = MLPClassifier(hidden_layer_sizes=(20,20,20), max_iter = 150, early_stopping = True, verbose = True, learning_rate = \"adaptive\")\n",
    "mlp_3train = mlp_3.fit(X_train_c,y_train_c)"
   ]
  },
  {
   "cell_type": "markdown",
   "id": "f4b323c8-2457-480e-958d-2acc38eec75b",
   "metadata": {},
   "source": [
    "__________________________________________________________________________________________________________________________________"
   ]
  },
  {
   "cell_type": "code",
   "execution_count": 25,
   "id": "4ac5986c-d3f6-4858-8305-52a9e57b4518",
   "metadata": {},
   "outputs": [],
   "source": [
    "addToList(mlp_1train, classificationList)\n",
    "addToList(mlp_2train, classificationList)\n",
    "addToList(mlp_3train, classificationList)"
   ]
  },
  {
   "cell_type": "code",
   "execution_count": 26,
   "id": "56044537-957c-4290-a83a-73c02e499a82",
   "metadata": {
    "tags": []
   },
   "outputs": [
    {
     "data": {
      "text/plain": [
       "[MLPClassifier(early_stopping=True, hidden_layer_sizes=(20, 20, 20),\n",
       "               max_iter=150, verbose=True),\n",
       " MLPClassifier(early_stopping=True, hidden_layer_sizes=(20, 20, 20),\n",
       "               learning_rate='invscaling', max_iter=150, verbose=True),\n",
       " MLPClassifier(early_stopping=True, hidden_layer_sizes=(20, 20, 20),\n",
       "               learning_rate='adaptive', max_iter=150, verbose=True)]"
      ]
     },
     "execution_count": 26,
     "metadata": {},
     "output_type": "execute_result"
    }
   ],
   "source": [
    "classificationList"
   ]
  },
  {
   "cell_type": "markdown",
   "id": "6d98e013-6397-47bf-9663-2415ad6c92f8",
   "metadata": {},
   "source": [
    "## Results"
   ]
  },
  {
   "cell_type": "code",
   "execution_count": 27,
   "id": "2ad41f1b-5588-42f7-8797-cd2f50093c01",
   "metadata": {
    "collapsed": true,
    "jupyter": {
     "outputs_hidden": true
    },
    "tags": []
   },
   "outputs": [
    {
     "name": "stdout",
     "output_type": "stream",
     "text": [
      "MLPClassifier(early_stopping=True, hidden_layer_sizes=(20, 20, 20),\n",
      "              max_iter=150, verbose=True)\n",
      "\n",
      "paramters: {'activation': 'relu', 'alpha': 0.0001, 'batch_size': 'auto', 'beta_1': 0.9, 'beta_2': 0.999, 'early_stopping': True, 'epsilon': 1e-08, 'hidden_layer_sizes': (20, 20, 20), 'learning_rate': 'constant', 'learning_rate_init': 0.001, 'max_fun': 15000, 'max_iter': 150, 'momentum': 0.9, 'n_iter_no_change': 10, 'nesterovs_momentum': True, 'power_t': 0.5, 'random_state': None, 'shuffle': True, 'solver': 'adam', 'tol': 0.0001, 'validation_fraction': 0.1, 'verbose': True, 'warm_start': False}\n",
      "\n",
      "last loss: 4.2228950765935896e-01\n",
      "\n",
      "number of features seen during fit: 54\n",
      "\n",
      "number of layers: 5\n",
      "\n",
      "number of outputs: 7\n",
      "\n",
      "name of output activation function: softmax\n",
      "\n",
      "number of iterations: 54\n",
      "\n",
      "number training samples seen by the solver during fitting: 21177882\n",
      "****************************************************************************************\n",
      "MLPClassifier(early_stopping=True, hidden_layer_sizes=(20, 20, 20),\n",
      "              learning_rate='invscaling', max_iter=150, verbose=True)\n",
      "\n",
      "paramters: {'activation': 'relu', 'alpha': 0.0001, 'batch_size': 'auto', 'beta_1': 0.9, 'beta_2': 0.999, 'early_stopping': True, 'epsilon': 1e-08, 'hidden_layer_sizes': (20, 20, 20), 'learning_rate': 'invscaling', 'learning_rate_init': 0.001, 'max_fun': 15000, 'max_iter': 150, 'momentum': 0.9, 'n_iter_no_change': 10, 'nesterovs_momentum': True, 'power_t': 0.5, 'random_state': None, 'shuffle': True, 'solver': 'adam', 'tol': 0.0001, 'validation_fraction': 0.1, 'verbose': True, 'warm_start': False}\n",
      "\n",
      "last loss: 0.3883973232432725\n",
      "\n",
      "number of features seen during fit: 54\n",
      "\n",
      "number of layers: 5\n",
      "\n",
      "number of outputs: 7\n",
      "\n",
      "name of output activation function: softmax\n",
      "\n",
      "number of iterations: 130\n",
      "\n",
      "number training samples seen by the solver during fitting: 50983790\n",
      "****************************************************************************************\n",
      "MLPClassifier(early_stopping=True, hidden_layer_sizes=(20, 20, 20),\n",
      "              learning_rate='adaptive', max_iter=150, verbose=True)\n",
      "\n",
      "paramters: {'activation': 'relu', 'alpha': 0.0001, 'batch_size': 'auto', 'beta_1': 0.9, 'beta_2': 0.999, 'early_stopping': True, 'epsilon': 1e-08, 'hidden_layer_sizes': (20, 20, 20), 'learning_rate': 'adaptive', 'learning_rate_init': 0.001, 'max_fun': 15000, 'max_iter': 150, 'momentum': 0.9, 'n_iter_no_change': 10, 'nesterovs_momentum': True, 'power_t': 0.5, 'random_state': None, 'shuffle': True, 'solver': 'adam', 'tol': 0.0001, 'validation_fraction': 0.1, 'verbose': True, 'warm_start': False}\n",
      "\n",
      "last loss: 0.41324207134684476\n",
      "\n",
      "number of features seen during fit: 54\n",
      "\n",
      "number of layers: 5\n",
      "\n",
      "number of outputs: 7\n",
      "\n",
      "name of output activation function: softmax\n",
      "\n",
      "number of iterations: 79\n",
      "\n",
      "number training samples seen by the solver during fitting: 30982457\n",
      "****************************************************************************************\n"
     ]
    }
   ],
   "source": [
    "comparison(classificationList)"
   ]
  },
  {
   "cell_type": "code",
   "execution_count": 28,
   "id": "daad5cc5-0f3e-416d-bf86-f53792ab7ba2",
   "metadata": {
    "tags": []
   },
   "outputs": [
    {
     "name": "stdout",
     "output_type": "stream",
     "text": [
      "default: hidden_layer = (100,), activation = relu, solver = adam, alpha = 0.0001, learning_rate = constant, learning_rate_init = 0.001, max_iter = 200, shuffle = true, early_stopping & warm_start = FALSE\n",
      "Alle Infos, die davon abweichen, werden in der Legende gelistet\n",
      "****************************************************************************************\n"
     ]
    },
    {
     "data": {
      "image/png": "[encoded data removed]",
      "text/plain": [
       "<Figure size 432x288 with 1 Axes>"
      ]
     },
     "metadata": {
      "needs_background": "light"
     },
     "output_type": "display_data"
    },
    {
     "data": {
      "image/png": "[encoded data removed]",
      "text/plain": [
       "<Figure size 432x288 with 1 Axes>"
      ]
     },
     "metadata": {
      "needs_background": "light"
     },
     "output_type": "display_data"
    }
   ],
   "source": [
    "curveValidateIteration(classificationList, curve, validation, iteration)\n",
    "plotCurvePerInteration(classificationList, curve, iteration)\n",
    "plotValidationPerInteration(classificationList, validation, iteration)"
   ]
  },
  {
   "cell_type": "code",
   "execution_count": 29,
   "id": "715808d2-3450-4561-b72a-fe134258b439",
   "metadata": {
    "tags": []
   },
   "outputs": [
    {
     "data": {
      "image/png": "[encoded data removed]",
      "text/plain": [
       "<Figure size 432x288 with 1 Axes>"
      ]
     },
     "metadata": {
      "needs_background": "light"
     },
     "output_type": "display_data"
    }
   ],
   "source": [
    "plotValidationPercurve(classificationList, validation, curve)"
   ]
  },
  {
   "cell_type": "markdown",
   "id": "cc09c0c7-abb7-44d0-bbe0-36da87b460e4",
   "metadata": {},
   "source": [
    "## Heatmaps"
   ]
  },
  {
   "cell_type": "code",
   "execution_count": 30,
   "id": "ef05d5a2-ac58-4035-aa6c-dfa6abd61000",
   "metadata": {
    "tags": []
   },
   "outputs": [
    {
     "name": "stdout",
     "output_type": "stream",
     "text": [
      "MLPClassifier(early_stopping=True, hidden_layer_sizes=(20, 20, 20),\n",
      "              max_iter=150, verbose=True)\n"
     ]
    },
    {
     "data": {
      "image/png": "[encoded data removed]",
      "text/plain": [
       "<Figure size 432x288 with 2 Axes>"
      ]
     },
     "metadata": {
      "needs_background": "light"
     },
     "output_type": "display_data"
    },
    {
     "name": "stdout",
     "output_type": "stream",
     "text": [
      "MLPClassifier(early_stopping=True, hidden_layer_sizes=(20, 20, 20),\n",
      "              learning_rate='invscaling', max_iter=150, verbose=True)\n"
     ]
    },
    {
     "data": {
      "image/png": "[encoded data removed]",
      "text/plain": [
       "<Figure size 432x288 with 2 Axes>"
      ]
     },
     "metadata": {
      "needs_background": "light"
     },
     "output_type": "display_data"
    },
    {
     "name": "stdout",
     "output_type": "stream",
     "text": [
      "MLPClassifier(early_stopping=True, hidden_layer_sizes=(20, 20, 20),\n",
      "              learning_rate='adaptive', max_iter=150, verbose=True)\n"
     ]
    },
    {
     "data": {
      "image/png": "[encoded data removed]",
      "text/plain": [
       "<Figure size 432x288 with 2 Axes>"
      ]
     },
     "metadata": {
      "needs_background": "light"
     },
     "output_type": "display_data"
    }
   ],
   "source": [
    "heatmaping(classificationList)"
   ]
  },
  {
   "cell_type": "code",
   "execution_count": 31,
   "id": "6f083132-b371-422e-9d69-2489a9f2c6db",
   "metadata": {
    "tags": []
   },
   "outputs": [
    {
     "name": "stdout",
     "output_type": "stream",
     "text": [
      "MLPClassifier(early_stopping=True, hidden_layer_sizes=(20, 20, 20),\n",
      "              max_iter=150, verbose=True)\n",
      "              precision    recall  f1-score   support\n",
      "\n",
      "           1       0.84      0.81      0.82     52835\n",
      "           2       0.84      0.88      0.86     70951\n",
      "           3       0.75      0.84      0.79      8918\n",
      "           4       0.69      0.57      0.62       679\n",
      "           5       0.70      0.30      0.42      2394\n",
      "           6       0.64      0.43      0.52      4343\n",
      "           7       0.84      0.81      0.83      5133\n",
      "\n",
      "    accuracy                           0.83    145253\n",
      "   macro avg       0.76      0.66      0.69    145253\n",
      "weighted avg       0.82      0.83      0.82    145253\n",
      "\n",
      "MLPClassifier(early_stopping=True, hidden_layer_sizes=(20, 20, 20),\n",
      "              learning_rate='invscaling', max_iter=150, verbose=True)\n",
      "              precision    recall  f1-score   support\n",
      "\n",
      "           1       0.85      0.82      0.84     52835\n",
      "           2       0.85      0.89      0.87     70951\n",
      "           3       0.80      0.85      0.82      8918\n",
      "           4       0.75      0.60      0.67       679\n",
      "           5       0.71      0.38      0.49      2394\n",
      "           6       0.67      0.55      0.60      4343\n",
      "           7       0.85      0.85      0.85      5133\n",
      "\n",
      "    accuracy                           0.84    145253\n",
      "   macro avg       0.78      0.70      0.73    145253\n",
      "weighted avg       0.84      0.84      0.84    145253\n",
      "\n",
      "MLPClassifier(early_stopping=True, hidden_layer_sizes=(20, 20, 20),\n",
      "              learning_rate='adaptive', max_iter=150, verbose=True)\n",
      "              precision    recall  f1-score   support\n",
      "\n",
      "           1       0.81      0.84      0.83     52835\n",
      "           2       0.85      0.86      0.86     70951\n",
      "           3       0.79      0.84      0.81      8918\n",
      "           4       0.76      0.59      0.66       679\n",
      "           5       0.73      0.35      0.47      2394\n",
      "           6       0.64      0.55      0.59      4343\n",
      "           7       0.87      0.75      0.81      5133\n",
      "\n",
      "    accuracy                           0.83    145253\n",
      "   macro avg       0.78      0.68      0.72    145253\n",
      "weighted avg       0.83      0.83      0.83    145253\n",
      "\n"
     ]
    }
   ],
   "source": [
    "reporting(classificationList)"
   ]
  },
  {
   "cell_type": "code",
   "execution_count": 32,
   "id": "74a399f7-9f58-4c18-9122-6cd52a869c2f",
   "metadata": {
    "tags": []
   },
   "outputs": [
    {
     "name": "stdout",
     "output_type": "stream",
     "text": [
      "MLPClassifier(early_stopping=True, hidden_layer_sizes=(20, 20, 20),\n",
      "              max_iter=150, verbose=True)\n",
      "Accuracy: \t82.64\n",
      "Recall: \t82.64\n",
      "precision: \t82.37\n",
      "MLPClassifier(early_stopping=True, hidden_layer_sizes=(20, 20, 20),\n",
      "              learning_rate='invscaling', max_iter=150, verbose=True)\n",
      "Accuracy: \t84.02\n",
      "Recall: \t84.02\n",
      "precision: \t83.84\n",
      "MLPClassifier(early_stopping=True, hidden_layer_sizes=(20, 20, 20),\n",
      "              learning_rate='adaptive', max_iter=150, verbose=True)\n",
      "Accuracy: \t82.82\n",
      "Recall: \t82.82\n",
      "precision: \t82.69\n"
     ]
    }
   ],
   "source": [
    "accuracyPlotting(classificationList)"
   ]
  },
  {
   "cell_type": "markdown",
   "id": "254cdfe5-bcc2-4d94-94d9-e4977915308d",
   "metadata": {
    "tags": []
   },
   "source": [
    "## Fazit\n",
    "<li> Die learning rate invscaling liefert die besten Ergebnisse, braucht aber auch die meisten Iterationen </li>\n",
    "<li> der default-Wert hat die schlechtesten End-Ergebnisse abgeliegert (constant). Dabei ist diese learning rate abhängig von learning_rate_init. Dies sollte weiter untersucht werden. </li>\n",
    "<li> adaptive verzeichnet die stärksten Ausreisser in der Validierung </li>"
   ]
  }
 ],
 "metadata": {
  "kernelspec": {
   "display_name": "Python 3 (ipykernel)",
   "language": "python",
   "name": "python3"
  },
  "language_info": {
   "codemirror_mode": {
    "name": "ipython",
    "version": 3
   },
   "file_extension": ".py",
   "mimetype": "text/x-python",
   "name": "python",
   "nbconvert_exporter": "python",
   "pygments_lexer": "ipython3",
   "version": "3.9.7"
  }
 },
 "nbformat": 4,
 "nbformat_minor": 5
}
