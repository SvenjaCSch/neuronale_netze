{
 "cells": [
  {
   "cell_type": "markdown",
   "id": "6b0fd06a-f3cb-4732-bc7d-1c7ad2d39c0f",
   "metadata": {},
   "source": [
    "# Comparison Loss Function and Validation Score"
   ]
  },
  {
   "cell_type": "markdown",
   "id": "5bce52fe-8793-4ee5-8b75-1932fd4aa55d",
   "metadata": {},
   "source": [
    "1) Import der einzelnen Libraries. Sortieren der Daten nach der Zielkategorie für den ersten Überblick.\n",
    "2) Aufteilen der Trainings- und Testdaten. Erstellen von notwendigen Listen\n",
    "3) Erstellen von Funktionen \n",
    "4) initialisieren der einzelnen MLPClassifier Netze \n",
    "5) Ergebnisse: Textuelle Daten, geplottete Vergleiche, prozentuale Heatmaps und Reports"
   ]
  },
  {
   "cell_type": "markdown",
   "id": "e3990afb-733a-40a5-957e-451abceb2d5e",
   "metadata": {},
   "source": [
    "## imports and data"
   ]
  },
  {
   "cell_type": "code",
   "execution_count": 1,
   "id": "e9ce620e-67af-4fcb-8736-ead8893c3523",
   "metadata": {},
   "outputs": [
    {
     "data": {
      "text/plain": [
       "dict_keys(['data', 'target', 'frame', 'target_names', 'feature_names', 'DESCR'])"
      ]
     },
     "execution_count": 1,
     "metadata": {},
     "output_type": "execute_result"
    }
   ],
   "source": [
    "from sklearn.datasets import fetch_covtype\n",
    "from sklearn.preprocessing import StandardScaler\n",
    "from sklearn.neural_network import MLPClassifier\n",
    "from sklearn.model_selection import train_test_split\n",
    "from sklearn.metrics import classification_report,confusion_matrix, balanced_accuracy_score, roc_auc_score, top_k_accuracy_score, cohen_kappa_score, matthews_corrcoef, hinge_loss\n",
    "from sklearn.metrics import plot_confusion_matrix, multilabel_confusion_matrix\n",
    "from sklearn.metrics import RocCurveDisplay, accuracy_score, recall_score, precision_score, precision_recall_fscore_support\n",
    "import matplotlib.pyplot as plt\n",
    "import matplotlib.figure as fig\n",
    "from matplotlib.colors import ListedColormap\n",
    "from mpl_toolkits import mplot3d\n",
    "import seaborn as sns\n",
    "import numpy as np\n",
    "import pandas as pd\n",
    "covertype = fetch_covtype()\n",
    "forest = fetch_covtype(as_frame=True)\n",
    "covertype.keys()"
   ]
  },
  {
   "cell_type": "code",
   "execution_count": 2,
   "id": "a574498c-78cc-4eb5-9626-ea65dab5307e",
   "metadata": {
    "tags": []
   },
   "outputs": [
    {
     "data": {
      "text/plain": [
       "0         5\n",
       "1         5\n",
       "2         2\n",
       "3         2\n",
       "4         5\n",
       "         ..\n",
       "581007    3\n",
       "581008    3\n",
       "581009    3\n",
       "581010    3\n",
       "581011    3\n",
       "Name: Cover_Type, Length: 581012, dtype: int32"
      ]
     },
     "execution_count": 2,
     "metadata": {},
     "output_type": "execute_result"
    }
   ],
   "source": [
    "forest.target"
   ]
  },
  {
   "cell_type": "code",
   "execution_count": 3,
   "id": "3a19f2f3-1f0e-43f7-88fd-f3a9b3b7bdf9",
   "metadata": {},
   "outputs": [],
   "source": [
    "forestlist = forest.frame\n",
    "forestlistFiltered = forestlist.filter(items=['Elevation', 'Aspect', 'Slope', 'Horizontal_Distance_To_Hydrology', 'Vertical_Distance_To_Hydrology', 'Horizontal_Distance_To_Roadways', 'Hillshade_9am', 'Hillshade_Noon', 'Hillshade_3pm', 'Horizontal_Distance_To_Fire_Points', 'Wilderness_Area_0', 'Wilderness_Area_1', 'Wilderness_Area_2', 'Wilderness_Area_3', 'Cover_Type'])"
   ]
  },
  {
   "cell_type": "code",
   "execution_count": 4,
   "id": "4ec34c71-e117-44eb-a8bb-1d7acdd756f5",
   "metadata": {
    "tags": []
   },
   "outputs": [
    {
     "data": {
      "text/html": [
       "<div>\n",
       "<style scoped>\n",
       "    .dataframe tbody tr th:only-of-type {\n",
       "        vertical-align: middle;\n",
       "    }\n",
       "\n",
       "    .dataframe tbody tr th {\n",
       "        vertical-align: top;\n",
       "    }\n",
       "\n",
       "    .dataframe thead th {\n",
       "        text-align: right;\n",
       "    }\n",
       "</style>\n",
       "<table border=\"1\" class=\"dataframe\">\n",
       "  <thead>\n",
       "    <tr style=\"text-align: right;\">\n",
       "      <th></th>\n",
       "      <th>Elevation</th>\n",
       "      <th>Aspect</th>\n",
       "      <th>Slope</th>\n",
       "      <th>Horizontal_Distance_To_Hydrology</th>\n",
       "      <th>Vertical_Distance_To_Hydrology</th>\n",
       "      <th>Horizontal_Distance_To_Roadways</th>\n",
       "      <th>Hillshade_9am</th>\n",
       "      <th>Hillshade_Noon</th>\n",
       "      <th>Hillshade_3pm</th>\n",
       "      <th>Horizontal_Distance_To_Fire_Points</th>\n",
       "      <th>...</th>\n",
       "      <th>Soil_Type_31</th>\n",
       "      <th>Soil_Type_32</th>\n",
       "      <th>Soil_Type_33</th>\n",
       "      <th>Soil_Type_34</th>\n",
       "      <th>Soil_Type_35</th>\n",
       "      <th>Soil_Type_36</th>\n",
       "      <th>Soil_Type_37</th>\n",
       "      <th>Soil_Type_38</th>\n",
       "      <th>Soil_Type_39</th>\n",
       "      <th>Cover_Type</th>\n",
       "    </tr>\n",
       "  </thead>\n",
       "  <tbody>\n",
       "    <tr>\n",
       "      <th>290505</th>\n",
       "      <td>2928.0</td>\n",
       "      <td>58.0</td>\n",
       "      <td>7.0</td>\n",
       "      <td>150.0</td>\n",
       "      <td>-7.0</td>\n",
       "      <td>1836.0</td>\n",
       "      <td>226.0</td>\n",
       "      <td>225.0</td>\n",
       "      <td>133.0</td>\n",
       "      <td>190.0</td>\n",
       "      <td>...</td>\n",
       "      <td>1.0</td>\n",
       "      <td>0.0</td>\n",
       "      <td>0.0</td>\n",
       "      <td>0.0</td>\n",
       "      <td>0.0</td>\n",
       "      <td>0.0</td>\n",
       "      <td>0.0</td>\n",
       "      <td>0.0</td>\n",
       "      <td>0.0</td>\n",
       "      <td>1</td>\n",
       "    </tr>\n",
       "    <tr>\n",
       "      <th>532739</th>\n",
       "      <td>3015.0</td>\n",
       "      <td>343.0</td>\n",
       "      <td>18.0</td>\n",
       "      <td>376.0</td>\n",
       "      <td>50.0</td>\n",
       "      <td>3378.0</td>\n",
       "      <td>181.0</td>\n",
       "      <td>211.0</td>\n",
       "      <td>166.0</td>\n",
       "      <td>1982.0</td>\n",
       "      <td>...</td>\n",
       "      <td>0.0</td>\n",
       "      <td>0.0</td>\n",
       "      <td>0.0</td>\n",
       "      <td>0.0</td>\n",
       "      <td>0.0</td>\n",
       "      <td>0.0</td>\n",
       "      <td>0.0</td>\n",
       "      <td>0.0</td>\n",
       "      <td>0.0</td>\n",
       "      <td>1</td>\n",
       "    </tr>\n",
       "    <tr>\n",
       "      <th>532740</th>\n",
       "      <td>3018.0</td>\n",
       "      <td>341.0</td>\n",
       "      <td>18.0</td>\n",
       "      <td>350.0</td>\n",
       "      <td>53.0</td>\n",
       "      <td>3398.0</td>\n",
       "      <td>180.0</td>\n",
       "      <td>211.0</td>\n",
       "      <td>168.0</td>\n",
       "      <td>2005.0</td>\n",
       "      <td>...</td>\n",
       "      <td>0.0</td>\n",
       "      <td>0.0</td>\n",
       "      <td>0.0</td>\n",
       "      <td>0.0</td>\n",
       "      <td>0.0</td>\n",
       "      <td>0.0</td>\n",
       "      <td>0.0</td>\n",
       "      <td>0.0</td>\n",
       "      <td>0.0</td>\n",
       "      <td>1</td>\n",
       "    </tr>\n",
       "    <tr>\n",
       "      <th>532741</th>\n",
       "      <td>3021.0</td>\n",
       "      <td>345.0</td>\n",
       "      <td>18.0</td>\n",
       "      <td>324.0</td>\n",
       "      <td>45.0</td>\n",
       "      <td>3419.0</td>\n",
       "      <td>182.0</td>\n",
       "      <td>209.0</td>\n",
       "      <td>164.0</td>\n",
       "      <td>2029.0</td>\n",
       "      <td>...</td>\n",
       "      <td>0.0</td>\n",
       "      <td>0.0</td>\n",
       "      <td>0.0</td>\n",
       "      <td>0.0</td>\n",
       "      <td>0.0</td>\n",
       "      <td>0.0</td>\n",
       "      <td>0.0</td>\n",
       "      <td>0.0</td>\n",
       "      <td>0.0</td>\n",
       "      <td>1</td>\n",
       "    </tr>\n",
       "    <tr>\n",
       "      <th>532742</th>\n",
       "      <td>3023.0</td>\n",
       "      <td>349.0</td>\n",
       "      <td>19.0</td>\n",
       "      <td>300.0</td>\n",
       "      <td>47.0</td>\n",
       "      <td>3439.0</td>\n",
       "      <td>182.0</td>\n",
       "      <td>206.0</td>\n",
       "      <td>160.0</td>\n",
       "      <td>2052.0</td>\n",
       "      <td>...</td>\n",
       "      <td>0.0</td>\n",
       "      <td>0.0</td>\n",
       "      <td>0.0</td>\n",
       "      <td>0.0</td>\n",
       "      <td>0.0</td>\n",
       "      <td>0.0</td>\n",
       "      <td>0.0</td>\n",
       "      <td>0.0</td>\n",
       "      <td>0.0</td>\n",
       "      <td>1</td>\n",
       "    </tr>\n",
       "    <tr>\n",
       "      <th>...</th>\n",
       "      <td>...</td>\n",
       "      <td>...</td>\n",
       "      <td>...</td>\n",
       "      <td>...</td>\n",
       "      <td>...</td>\n",
       "      <td>...</td>\n",
       "      <td>...</td>\n",
       "      <td>...</td>\n",
       "      <td>...</td>\n",
       "      <td>...</td>\n",
       "      <td>...</td>\n",
       "      <td>...</td>\n",
       "      <td>...</td>\n",
       "      <td>...</td>\n",
       "      <td>...</td>\n",
       "      <td>...</td>\n",
       "      <td>...</td>\n",
       "      <td>...</td>\n",
       "      <td>...</td>\n",
       "      <td>...</td>\n",
       "      <td>...</td>\n",
       "    </tr>\n",
       "    <tr>\n",
       "      <th>399826</th>\n",
       "      <td>3334.0</td>\n",
       "      <td>356.0</td>\n",
       "      <td>10.0</td>\n",
       "      <td>558.0</td>\n",
       "      <td>100.0</td>\n",
       "      <td>765.0</td>\n",
       "      <td>204.0</td>\n",
       "      <td>223.0</td>\n",
       "      <td>156.0</td>\n",
       "      <td>1642.0</td>\n",
       "      <td>...</td>\n",
       "      <td>0.0</td>\n",
       "      <td>0.0</td>\n",
       "      <td>0.0</td>\n",
       "      <td>0.0</td>\n",
       "      <td>0.0</td>\n",
       "      <td>0.0</td>\n",
       "      <td>0.0</td>\n",
       "      <td>0.0</td>\n",
       "      <td>0.0</td>\n",
       "      <td>7</td>\n",
       "    </tr>\n",
       "    <tr>\n",
       "      <th>399825</th>\n",
       "      <td>3333.0</td>\n",
       "      <td>6.0</td>\n",
       "      <td>7.0</td>\n",
       "      <td>601.0</td>\n",
       "      <td>99.0</td>\n",
       "      <td>806.0</td>\n",
       "      <td>212.0</td>\n",
       "      <td>226.0</td>\n",
       "      <td>152.0</td>\n",
       "      <td>1583.0</td>\n",
       "      <td>...</td>\n",
       "      <td>1.0</td>\n",
       "      <td>0.0</td>\n",
       "      <td>0.0</td>\n",
       "      <td>0.0</td>\n",
       "      <td>0.0</td>\n",
       "      <td>0.0</td>\n",
       "      <td>0.0</td>\n",
       "      <td>0.0</td>\n",
       "      <td>0.0</td>\n",
       "      <td>7</td>\n",
       "    </tr>\n",
       "    <tr>\n",
       "      <th>399824</th>\n",
       "      <td>3334.0</td>\n",
       "      <td>3.0</td>\n",
       "      <td>5.0</td>\n",
       "      <td>601.0</td>\n",
       "      <td>39.0</td>\n",
       "      <td>845.0</td>\n",
       "      <td>214.0</td>\n",
       "      <td>231.0</td>\n",
       "      <td>155.0</td>\n",
       "      <td>1524.0</td>\n",
       "      <td>...</td>\n",
       "      <td>1.0</td>\n",
       "      <td>0.0</td>\n",
       "      <td>0.0</td>\n",
       "      <td>0.0</td>\n",
       "      <td>0.0</td>\n",
       "      <td>0.0</td>\n",
       "      <td>0.0</td>\n",
       "      <td>0.0</td>\n",
       "      <td>0.0</td>\n",
       "      <td>7</td>\n",
       "    </tr>\n",
       "    <tr>\n",
       "      <th>399812</th>\n",
       "      <td>3331.0</td>\n",
       "      <td>246.0</td>\n",
       "      <td>3.0</td>\n",
       "      <td>660.0</td>\n",
       "      <td>117.0</td>\n",
       "      <td>859.0</td>\n",
       "      <td>213.0</td>\n",
       "      <td>241.0</td>\n",
       "      <td>166.0</td>\n",
       "      <td>1113.0</td>\n",
       "      <td>...</td>\n",
       "      <td>1.0</td>\n",
       "      <td>0.0</td>\n",
       "      <td>0.0</td>\n",
       "      <td>0.0</td>\n",
       "      <td>0.0</td>\n",
       "      <td>0.0</td>\n",
       "      <td>0.0</td>\n",
       "      <td>0.0</td>\n",
       "      <td>0.0</td>\n",
       "      <td>7</td>\n",
       "    </tr>\n",
       "    <tr>\n",
       "      <th>293238</th>\n",
       "      <td>3284.0</td>\n",
       "      <td>307.0</td>\n",
       "      <td>18.0</td>\n",
       "      <td>60.0</td>\n",
       "      <td>22.0</td>\n",
       "      <td>3922.0</td>\n",
       "      <td>167.0</td>\n",
       "      <td>226.0</td>\n",
       "      <td>198.0</td>\n",
       "      <td>3999.0</td>\n",
       "      <td>...</td>\n",
       "      <td>0.0</td>\n",
       "      <td>0.0</td>\n",
       "      <td>0.0</td>\n",
       "      <td>0.0</td>\n",
       "      <td>0.0</td>\n",
       "      <td>0.0</td>\n",
       "      <td>1.0</td>\n",
       "      <td>0.0</td>\n",
       "      <td>0.0</td>\n",
       "      <td>7</td>\n",
       "    </tr>\n",
       "  </tbody>\n",
       "</table>\n",
       "<p>581012 rows × 55 columns</p>\n",
       "</div>"
      ],
      "text/plain": [
       "        Elevation  Aspect  Slope  Horizontal_Distance_To_Hydrology  \\\n",
       "290505     2928.0    58.0    7.0                             150.0   \n",
       "532739     3015.0   343.0   18.0                             376.0   \n",
       "532740     3018.0   341.0   18.0                             350.0   \n",
       "532741     3021.0   345.0   18.0                             324.0   \n",
       "532742     3023.0   349.0   19.0                             300.0   \n",
       "...           ...     ...    ...                               ...   \n",
       "399826     3334.0   356.0   10.0                             558.0   \n",
       "399825     3333.0     6.0    7.0                             601.0   \n",
       "399824     3334.0     3.0    5.0                             601.0   \n",
       "399812     3331.0   246.0    3.0                             660.0   \n",
       "293238     3284.0   307.0   18.0                              60.0   \n",
       "\n",
       "        Vertical_Distance_To_Hydrology  Horizontal_Distance_To_Roadways  \\\n",
       "290505                            -7.0                           1836.0   \n",
       "532739                            50.0                           3378.0   \n",
       "532740                            53.0                           3398.0   \n",
       "532741                            45.0                           3419.0   \n",
       "532742                            47.0                           3439.0   \n",
       "...                                ...                              ...   \n",
       "399826                           100.0                            765.0   \n",
       "399825                            99.0                            806.0   \n",
       "399824                            39.0                            845.0   \n",
       "399812                           117.0                            859.0   \n",
       "293238                            22.0                           3922.0   \n",
       "\n",
       "        Hillshade_9am  Hillshade_Noon  Hillshade_3pm  \\\n",
       "290505          226.0           225.0          133.0   \n",
       "532739          181.0           211.0          166.0   \n",
       "532740          180.0           211.0          168.0   \n",
       "532741          182.0           209.0          164.0   \n",
       "532742          182.0           206.0          160.0   \n",
       "...               ...             ...            ...   \n",
       "399826          204.0           223.0          156.0   \n",
       "399825          212.0           226.0          152.0   \n",
       "399824          214.0           231.0          155.0   \n",
       "399812          213.0           241.0          166.0   \n",
       "293238          167.0           226.0          198.0   \n",
       "\n",
       "        Horizontal_Distance_To_Fire_Points  ...  Soil_Type_31  Soil_Type_32  \\\n",
       "290505                               190.0  ...           1.0           0.0   \n",
       "532739                              1982.0  ...           0.0           0.0   \n",
       "532740                              2005.0  ...           0.0           0.0   \n",
       "532741                              2029.0  ...           0.0           0.0   \n",
       "532742                              2052.0  ...           0.0           0.0   \n",
       "...                                    ...  ...           ...           ...   \n",
       "399826                              1642.0  ...           0.0           0.0   \n",
       "399825                              1583.0  ...           1.0           0.0   \n",
       "399824                              1524.0  ...           1.0           0.0   \n",
       "399812                              1113.0  ...           1.0           0.0   \n",
       "293238                              3999.0  ...           0.0           0.0   \n",
       "\n",
       "        Soil_Type_33  Soil_Type_34  Soil_Type_35  Soil_Type_36  Soil_Type_37  \\\n",
       "290505           0.0           0.0           0.0           0.0           0.0   \n",
       "532739           0.0           0.0           0.0           0.0           0.0   \n",
       "532740           0.0           0.0           0.0           0.0           0.0   \n",
       "532741           0.0           0.0           0.0           0.0           0.0   \n",
       "532742           0.0           0.0           0.0           0.0           0.0   \n",
       "...              ...           ...           ...           ...           ...   \n",
       "399826           0.0           0.0           0.0           0.0           0.0   \n",
       "399825           0.0           0.0           0.0           0.0           0.0   \n",
       "399824           0.0           0.0           0.0           0.0           0.0   \n",
       "399812           0.0           0.0           0.0           0.0           0.0   \n",
       "293238           0.0           0.0           0.0           0.0           1.0   \n",
       "\n",
       "        Soil_Type_38  Soil_Type_39  Cover_Type  \n",
       "290505           0.0           0.0           1  \n",
       "532739           0.0           0.0           1  \n",
       "532740           0.0           0.0           1  \n",
       "532741           0.0           0.0           1  \n",
       "532742           0.0           0.0           1  \n",
       "...              ...           ...         ...  \n",
       "399826           0.0           0.0           7  \n",
       "399825           0.0           0.0           7  \n",
       "399824           0.0           0.0           7  \n",
       "399812           0.0           0.0           7  \n",
       "293238           0.0           0.0           7  \n",
       "\n",
       "[581012 rows x 55 columns]"
      ]
     },
     "execution_count": 4,
     "metadata": {},
     "output_type": "execute_result"
    }
   ],
   "source": [
    "forestlist = forest.frame\n",
    "forestlistSorted = forestlist.sort_values(by='Cover_Type')\n",
    "forestlistSorted"
   ]
  },
  {
   "cell_type": "markdown",
   "id": "ad685848-0852-40ec-9224-6479edcfbadf",
   "metadata": {
    "tags": []
   },
   "source": [
    "## training and test data"
   ]
  },
  {
   "cell_type": "code",
   "execution_count": 5,
   "id": "d7374455-6ab6-482b-914d-7d25c028307e",
   "metadata": {},
   "outputs": [
    {
     "data": {
      "text/plain": [
       "(581012, 54)"
      ]
     },
     "execution_count": 5,
     "metadata": {},
     "output_type": "execute_result"
    }
   ],
   "source": [
    "covertype['data'].shape"
   ]
  },
  {
   "cell_type": "code",
   "execution_count": 6,
   "id": "aa2226cd-ac5d-44b9-81d3-86e117c60d97",
   "metadata": {},
   "outputs": [],
   "source": [
    "X_c = covertype['data']\n",
    "y_c = covertype['target']"
   ]
  },
  {
   "cell_type": "code",
   "execution_count": 7,
   "id": "e95d3764-9b2c-4c58-a730-8b7167b298a5",
   "metadata": {},
   "outputs": [
    {
     "name": "stdout",
     "output_type": "stream",
     "text": [
      "(435759, 54)\n",
      "(145253, 54)\n"
     ]
    }
   ],
   "source": [
    "X_train_c, X_test_c, y_train_c, y_test_c = train_test_split(X_c, y_c)\n",
    "print(X_train_c.shape) \n",
    "print(X_test_c.shape)"
   ]
  },
  {
   "cell_type": "code",
   "execution_count": 8,
   "id": "1e55d24c-b370-4bec-95d4-52c00074d70c",
   "metadata": {},
   "outputs": [
    {
     "data": {
      "text/plain": [
       "StandardScaler()"
      ]
     },
     "execution_count": 8,
     "metadata": {},
     "output_type": "execute_result"
    }
   ],
   "source": [
    "scaler_c = StandardScaler()\n",
    "# Fit only to the training data\n",
    "scaler_c.fit(X_train_c)"
   ]
  },
  {
   "cell_type": "code",
   "execution_count": 9,
   "id": "2892e8de-0ce9-4e7a-aab7-6b188f2a8c0d",
   "metadata": {},
   "outputs": [],
   "source": [
    "X_train_c = scaler_c.transform(X_train_c)\n",
    "X_test_c = scaler_c.transform(X_test_c)"
   ]
  },
  {
   "cell_type": "code",
   "execution_count": 10,
   "id": "fbdcb1ab-db1f-4585-9d11-b7c56775370d",
   "metadata": {},
   "outputs": [],
   "source": [
    "classificationList = []\n",
    "curve = []\n",
    "validation = []\n",
    "iteration = []\n",
    "\n",
    "accuracyList = []\n",
    "recallList = []\n",
    "precisionList = []"
   ]
  },
  {
   "cell_type": "markdown",
   "id": "1ad8a3ff-1ec6-4b47-b833-497c31f505d7",
   "metadata": {},
   "source": [
    "## functions"
   ]
  },
  {
   "cell_type": "code",
   "execution_count": 11,
   "id": "00451c60-04e7-4cb1-85f2-cc748c4d0ba4",
   "metadata": {},
   "outputs": [],
   "source": [
    "def plotData():\n",
    "    fig, axes = plt.subplots(3,2)\n",
    "    sns.histplot(data=forestlistSorted, x=\"Elevation\", color=\"skyblue\", label=\"Elevation\", kde=True, ax=axes[0,0])\n",
    "    sns.histplot(data=forestlistSorted, x=\"Aspect\", color=\"red\", label=\"Aspect\", kde=True, ax=axes[0,0])\n",
    "    sns.histplot(data=forestlistSorted, x=\"Slope\", color=\"orange\", label=\"Slope\", kde=True, ax=axes[0,0])\n",
    "    plt.legend() \n",
    "\n",
    "    sns.histplot(data=forestlistSorted, x=\"Horizontal_Distance_To_Hydrology\", color=\"skyblue\", label=\"Horizontal_Distance_To_Hydrology\", kde=True, ax=axes[0,1])\n",
    "    sns.histplot(data=forestlistSorted, x=\"Vertical_Distance_To_Hydrology\", color=\"red\", label=\"Vertical_Distance_To_Hydrology\", kde=True, ax=axes[0,1])\n",
    "    sns.histplot(data=forestlistSorted, x=\"Horizontal_Distance_To_Roadways\", color=\"orange\", label=\"Horizontal_Distance_To_Roadways\", kde=True, ax=axes[0,1])\n",
    "    sns.histplot(data=forestlistSorted, x=\"Horizontal_Distance_To_Fire_Points\", color=\"green\", label=\"Horizontal_Distance_To_Fire_Points\", kde=True, ax=axes[0,1])\n",
    "    plt.legend() \n",
    "\n",
    "    sns.histplot(data=forestlistSorted, x=\"Hillshade_9am\", color=\"skyblue\", label=\"Hillshade_9am\", kde=True, ax=axes[1,0])\n",
    "    sns.histplot(data=forestlistSorted, x=\"Hillshade_Noon\", color=\"red\", label=\"Hillshade_Noon\", kde=True, ax=axes[1,0])\n",
    "    sns.histplot(data=forestlistSorted, x=\"Hillshade_3pm\", color=\"orange\", label=\"Hillshade_3pm\", kde=True, ax=axes[1,0])\n",
    "    plt.legend() \n",
    "\n",
    "    sns.histplot(data=forestlistSorted, x=\"Soil_Type_31\", color=\"skyblue\", label=\"Soil_Type_31\", kde=True, ax=axes[1,1])\n",
    "    sns.histplot(data=forestlistSorted, x=\"Soil_Type_32\", color=\"red\", label=\"Soil_Type_32\", kde=True, ax=axes[1,1])\n",
    "    sns.histplot(data=forestlistSorted, x=\"Soil_Type_33\", color=\"orange\", label=\"Soil_Type_33\", kde=True, ax=axes[1,1])\n",
    "    sns.histplot(data=forestlistSorted, x=\"Soil_Type_34\", color=\"cyan\", label=\"Soil_Type_34\", kde=True, ax=axes[1,1])\n",
    "    sns.histplot(data=forestlistSorted, x=\"Soil_Type_35\", color=\"darkgreen\", label=\"Soil_Type_35\", kde=True, ax=axes[1,1])\n",
    "    sns.histplot(data=forestlistSorted, x=\"Soil_Type_36\", color=\"gold\", label=\"Soil_Type_36\", kde=True, ax=axes[1,1])\n",
    "    sns.histplot(data=forestlistSorted, x=\"Soil_Type_37\", color=\"purple\", label=\"Soil_Type_37\", kde=True, ax=axes[1,1])\n",
    "    sns.histplot(data=forestlistSorted, x=\"Soil_Type_38\", color=\"silver\", label=\"Soil_Type_38\", kde=True, ax=axes[1,1])\n",
    "    sns.histplot(data=forestlistSorted, x=\"Soil_Type_39\", color=\"navy\", label=\"Soil_Type_39\", kde=True, ax=axes[1,1])\n",
    "    plt.legend() \n",
    "\n",
    "    sns.histplot(data=forestlistSorted, x=\"Cover_Type\", color=\"orange\", label=\"Cover_Type\",  ax=axes[2,1], discrete=True, kde=False)\n",
    "    plt.legend() \n",
    "    fig.tight_layout()"
   ]
  },
  {
   "cell_type": "code",
   "execution_count": 12,
   "id": "207ed85a-e659-4bb9-b533-fc3dc2a39ea1",
   "metadata": {},
   "outputs": [],
   "source": [
    "def addToList(mlp, liste):\n",
    "    liste.append(mlp)"
   ]
  },
  {
   "cell_type": "code",
   "execution_count": 13,
   "id": "2b80fe74-be82-444d-ac56-b6a8f4797089",
   "metadata": {},
   "outputs": [],
   "source": [
    "def removeFromList(mlp, liste):\n",
    "    liste.remove(mlp)"
   ]
  },
  {
   "cell_type": "code",
   "execution_count": 14,
   "id": "8384363b-3a23-4ea7-9ddf-e8e2fb0fcd49",
   "metadata": {},
   "outputs": [],
   "source": [
    "def comparison(List):\n",
    "    for mlp in List:\n",
    "        print(mlp)\n",
    "        print('\\nparamters: ' + str(mlp.get_params(deep=True)))\n",
    "        print('\\nlast loss: ' + str(mlp.loss_))\n",
    "        print('\\nnumber of features seen during fit: ' + str(mlp.n_features_in_))\n",
    "        print('\\nnumber of layers: ' + str(mlp.n_layers_))\n",
    "        print('\\nnumber of outputs: ' + str(mlp.n_outputs_))\n",
    "        print('\\nname of output activation function: ' + str(mlp.out_activation_) )\n",
    "        print('\\nnumber of iterations: ' +str(mlp.n_iter_) )\n",
    "        print('\\nnumber training samples seen by the solver during fitting: ' +str(mlp.t_) )\n",
    "        print('****************************************************************************************')"
   ]
  },
  {
   "cell_type": "code",
   "execution_count": 15,
   "id": "76d31667-65c3-4d58-89a5-0c8e333620a2",
   "metadata": {},
   "outputs": [],
   "source": [
    "def curveValidateIteration(List, c, v, i):\n",
    "    for mlp in List:\n",
    "        c.append(mlp.loss_curve_)\n",
    "        v.append(mlp.validation_scores_)\n",
    "        i.append(np.arange(1, mlp.n_iter_+1))"
   ]
  },
  {
   "cell_type": "markdown",
   "id": "ecba6578-cde2-4e01-970c-209a788ea8ed",
   "metadata": {},
   "source": [
    "__________________________________________________________________________________________________________________________________"
   ]
  },
  {
   "cell_type": "code",
   "execution_count": 16,
   "id": "4e8f31d2-0b07-4411-8bc6-1c2c68b140fa",
   "metadata": {},
   "outputs": [],
   "source": [
    "cmap = ListedColormap([\"coral\", \"azure\", \"indigo\", \"darkgreen\", \"lightblue\", \"crimson\", \"gold\", \"silver\", \"teal\"])\n",
    "def plotCurvePerInteration(List, curvy, iterate):\n",
    "    print('default: hidden_layer = (100,), activation = relu, solver = adam, alpha = 0.0001, learning_rate = constant, learning_rate_init = 0.001, max_iter = 200, shuffle = true, early_stopping & warm_start = FALSE')\n",
    "    print('Alle Infos, die davon abweichen, werden in der Legende gelistet')\n",
    "    print('****************************************************************************************')\n",
    "    for i,c,cl in zip(iterate, curvy, List):\n",
    "        plt.scatter(i,c, marker = '.', label = str(cl))\n",
    "    plt.title('Losscurve per iteration')\n",
    "    plt.xlabel(\"iteration\")\n",
    "    plt.ylabel(\"loss curve\")\n",
    "    plt.legend(bbox_to_anchor=(1.05, 1.0), loc='upper left')\n",
    "    plt.show()"
   ]
  },
  {
   "cell_type": "code",
   "execution_count": 17,
   "id": "a3ef3f87-42fb-46b9-96f7-7b363ec85fc4",
   "metadata": {},
   "outputs": [],
   "source": [
    "def plotValidationPerInteration(List, validate, iterate):\n",
    "    for i,v, cl in zip(iterate, validate, List):\n",
    "        plt.scatter(i,v, marker = '.', label = str(cl))\n",
    "    plt.title('Validation per iteration')\n",
    "    plt.xlabel(\"iteration\")\n",
    "    plt.ylabel(\"validation\")\n",
    "    plt.legend(bbox_to_anchor=(1.05, 1.0), loc='upper left')\n",
    "    plt.show()"
   ]
  },
  {
   "cell_type": "code",
   "execution_count": 18,
   "id": "25ada7f9-9a81-4a58-80ae-1bea09db70f0",
   "metadata": {},
   "outputs": [],
   "source": [
    "def plotValidationPercurve(List, validate, curvy):\n",
    "    for c,v,cl in zip(validate, curvy, List):\n",
    "        plt.scatter(c,v, marker = '.', label = str(cl))\n",
    "    plt.title('Validation per curve')\n",
    "    plt.xlabel(\"validation\")\n",
    "    plt.ylabel(\"curve\")\n",
    "    plt.legend(bbox_to_anchor=(1.05, 1.0), loc='upper left')\n",
    "    plt.show()\n"
   ]
  },
  {
   "cell_type": "markdown",
   "id": "9fcda0d6-d713-4584-ac38-41b1814e1eec",
   "metadata": {},
   "source": [
    "__________________________________________________________________________________________________________________________________"
   ]
  },
  {
   "cell_type": "code",
   "execution_count": 19,
   "id": "ad8cf6d8-5f4f-477f-9b18-8acb297611fa",
   "metadata": {},
   "outputs": [],
   "source": [
    "def heatmaping(List):\n",
    "    for mlp in List:\n",
    "        print(mlp)\n",
    "        predictions = mlp.predict(X_test_c)   \n",
    "        con_ma = confusion_matrix(y_test_c,predictions)\n",
    "        con_ma_perc = np.empty([7, 7], dtype=float)\n",
    "\n",
    "        for i in range(0, 7):\n",
    "            number = 0.0\n",
    "            for j in range(0, 7):\n",
    "                number += con_ma[i][j]\n",
    "            for j in range(0, 7):\n",
    "                con_ma_perc[i][j] = 100/number*con_ma[i][j]\n",
    "\n",
    "        tree = ['Spruce', 'Lodgepole Pine', 'PoderosaPine', 'Cottonwood/Willow', 'Aspen', 'Douglas-fir', 'Krummholz']\n",
    "\n",
    "        # ======== Plot confuse matrix prozentual ========\n",
    "\n",
    "        ay = sns.heatmap(con_ma_perc, annot=True, cmap='coolwarm', yticklabels=tree, xticklabels=tree, fmt='.2f', vmin=0, vmax=100)\n",
    "        ay.xaxis.tick_top()\n",
    "        ay.xaxis.set_label_position('top')\n",
    "        plt.xticks(rotation=90)\n",
    "        ay.set(title=\"Confusion Matrix - Recall\",\n",
    "              xlabel=\"- Predicted Tree -\",\n",
    "              ylabel=\"- Actual Tree -\")\n",
    "        plt.show()"
   ]
  },
  {
   "cell_type": "code",
   "execution_count": 20,
   "id": "633860b1-fd10-4b7a-b001-8bacfb1ce97c",
   "metadata": {},
   "outputs": [],
   "source": [
    "def reporting(List):\n",
    "    for mlp in List:\n",
    "        print(mlp)\n",
    "        predictions = mlp.predict(X_test_c)\n",
    "        print(classification_report(y_test_c,predictions))"
   ]
  },
  {
   "cell_type": "code",
   "execution_count": 21,
   "id": "1e4d2697-5eb8-4deb-a58a-a9cde3fc2599",
   "metadata": {},
   "outputs": [],
   "source": [
    "def accuracyPlotting(List):\n",
    "        for mlp in List:\n",
    "            print(mlp)\n",
    "            predictions = mlp.predict(X_test_c)\n",
    "            accuracy = accuracy_score(y_test_c, predictions)\n",
    "            recall = recall_score(y_test_c, predictions, average = 'weighted')\n",
    "            precision = precision_score(y_test_c, predictions, average = 'weighted')\n",
    "            \n",
    "            addToList(accuracy, accuracyList)\n",
    "            addToList(recall, recallList)\n",
    "            addToList(precision, precisionList)\n",
    "            \n",
    "            print('Accuracy: \\t{0:.2f}'.format(accuracy * 100.0))\n",
    "            print('Recall: \\t{0:.2f}'.format(recall * 100.0))\n",
    "            print('precision: \\t{0:.2f}'.format(precision * 100.0))"
   ]
  },
  {
   "cell_type": "markdown",
   "id": "3f628e5a-26a7-4774-8cbc-9913bb044787",
   "metadata": {},
   "source": [
    "## initializing nets"
   ]
  },
  {
   "cell_type": "code",
   "execution_count": 22,
   "id": "2a21184a-dd71-4064-adad-44372e811ed5",
   "metadata": {
    "tags": []
   },
   "outputs": [
    {
     "name": "stdout",
     "output_type": "stream",
     "text": [
      "Iteration 1, loss = 0.94146169\n",
      "Validation score: 0.705136\n",
      "Iteration 2, loss = 0.72421608\n",
      "Validation score: 0.704218\n",
      "Iteration 3, loss = 0.72378527\n",
      "Validation score: 0.704975\n",
      "Iteration 4, loss = 0.72357829\n",
      "Validation score: 0.705457\n",
      "Iteration 5, loss = 0.72343821\n",
      "Validation score: 0.706031\n",
      "Iteration 6, loss = 0.72332742\n",
      "Validation score: 0.706398\n",
      "Iteration 7, loss = 0.72323314\n",
      "Validation score: 0.706582\n",
      "Iteration 8, loss = 0.72314943\n",
      "Validation score: 0.706880\n",
      "Iteration 9, loss = 0.72307332\n",
      "Validation score: 0.706995\n",
      "Iteration 10, loss = 0.72300299\n",
      "Validation score: 0.707064\n",
      "Iteration 11, loss = 0.72293707\n",
      "Validation score: 0.707247\n",
      "Iteration 12, loss = 0.72287490\n",
      "Validation score: 0.707293\n",
      "Iteration 13, loss = 0.72281593\n",
      "Validation score: 0.707247\n",
      "Iteration 14, loss = 0.72275965\n",
      "Validation score: 0.707316\n",
      "Iteration 15, loss = 0.72270570\n",
      "Validation score: 0.707477\n",
      "Iteration 16, loss = 0.72265386\n",
      "Validation score: 0.707500\n",
      "Iteration 17, loss = 0.72260390\n",
      "Validation score: 0.707454\n",
      "Iteration 18, loss = 0.72255562\n",
      "Validation score: 0.707408\n",
      "Iteration 19, loss = 0.72250889\n",
      "Validation score: 0.707477\n",
      "Iteration 20, loss = 0.72246360\n",
      "Validation score: 0.707522\n",
      "Iteration 21, loss = 0.72241951\n",
      "Validation score: 0.707500\n",
      "Iteration 22, loss = 0.72237671\n",
      "Validation score: 0.707545\n",
      "Iteration 23, loss = 0.72233497\n",
      "Validation score: 0.707591\n",
      "Iteration 24, loss = 0.72229423\n",
      "Validation score: 0.707568\n",
      "Iteration 25, loss = 0.72225449\n",
      "Validation score: 0.707568\n",
      "Iteration 26, loss = 0.72221563\n",
      "Validation score: 0.707591\n",
      "Validation score did not improve more than tol=0.000100 for 10 consecutive epochs. Stopping.\n"
     ]
    }
   ],
   "source": [
    "mlp_1 = MLPClassifier(hidden_layer_sizes=(20,20,20), max_iter = 150, early_stopping = True, verbose = True, solver = \"sgd\", learning_rate = \"invscaling\")\n",
    "mlp_1train = mlp_1.fit(X_train_c,y_train_c)"
   ]
  },
  {
   "cell_type": "code",
   "execution_count": 23,
   "id": "d4f02a3f-d77b-4d44-81cb-b207614dd4e2",
   "metadata": {
    "tags": []
   },
   "outputs": [
    {
     "name": "stdout",
     "output_type": "stream",
     "text": [
      "Iteration 1, loss = 0.94923796\n",
      "Validation score: 0.670667\n",
      "Iteration 2, loss = 0.77931559\n",
      "Validation score: 0.671035\n",
      "Iteration 3, loss = 0.77931203\n",
      "Validation score: 0.671035\n",
      "Iteration 4, loss = 0.77931180\n",
      "Validation score: 0.671035\n",
      "Iteration 5, loss = 0.77931163\n",
      "Validation score: 0.671035\n",
      "Iteration 6, loss = 0.77931151\n",
      "Validation score: 0.671035\n",
      "Iteration 7, loss = 0.77931140\n",
      "Validation score: 0.671035\n",
      "Iteration 8, loss = 0.77931131\n",
      "Validation score: 0.671035\n",
      "Iteration 9, loss = 0.77931124\n",
      "Validation score: 0.671035\n",
      "Iteration 10, loss = 0.77931117\n",
      "Validation score: 0.671035\n",
      "Iteration 11, loss = 0.77931111\n",
      "Validation score: 0.671035\n",
      "Iteration 12, loss = 0.77931106\n",
      "Validation score: 0.671035\n",
      "Iteration 13, loss = 0.77931101\n",
      "Validation score: 0.671035\n",
      "Validation score did not improve more than tol=0.000100 for 10 consecutive epochs. Stopping.\n"
     ]
    }
   ],
   "source": [
    "mlp_2 = MLPClassifier(hidden_layer_sizes=(20,20,20),  max_iter = 150, early_stopping = True, verbose = True, solver = \"sgd\", learning_rate = \"invscaling\", power_t = 1.0)\n",
    "mlp_2train = mlp_2.fit(X_train_c,y_train_c)"
   ]
  },
  {
   "cell_type": "code",
   "execution_count": 24,
   "id": "e0a4874c-1d2a-4cd8-bce9-17f0a2a68efd",
   "metadata": {
    "collapsed": true,
    "jupyter": {
     "outputs_hidden": true
    },
    "tags": []
   },
   "outputs": [
    {
     "name": "stdout",
     "output_type": "stream",
     "text": [
      "Iteration 1, loss = 0.90472562\n",
      "Validation score: 0.711883\n",
      "Iteration 2, loss = 0.69976770\n",
      "Validation score: 0.718698\n",
      "Iteration 3, loss = 0.68052950\n",
      "Validation score: 0.724871\n",
      "Iteration 4, loss = 0.66697475\n",
      "Validation score: 0.728589\n",
      "Iteration 5, loss = 0.65640294\n",
      "Validation score: 0.731159\n",
      "Iteration 6, loss = 0.64789974\n",
      "Validation score: 0.734280\n",
      "Iteration 7, loss = 0.64072478\n",
      "Validation score: 0.736759\n",
      "Iteration 8, loss = 0.63473251\n",
      "Validation score: 0.739581\n",
      "Iteration 9, loss = 0.62955094\n",
      "Validation score: 0.741532\n",
      "Iteration 10, loss = 0.62498931\n",
      "Validation score: 0.742978\n",
      "Iteration 11, loss = 0.62105279\n",
      "Validation score: 0.743643\n",
      "Iteration 12, loss = 0.61750530\n",
      "Validation score: 0.744653\n",
      "Iteration 13, loss = 0.61425712\n",
      "Validation score: 0.745594\n",
      "Iteration 14, loss = 0.61114152\n",
      "Validation score: 0.746420\n",
      "Iteration 15, loss = 0.60818895\n",
      "Validation score: 0.746925\n",
      "Iteration 16, loss = 0.60543642\n",
      "Validation score: 0.748118\n",
      "Iteration 17, loss = 0.60280841\n",
      "Validation score: 0.748508\n",
      "Iteration 18, loss = 0.60031397\n",
      "Validation score: 0.749954\n",
      "Iteration 19, loss = 0.59795226\n",
      "Validation score: 0.751147\n",
      "Iteration 20, loss = 0.59573728\n",
      "Validation score: 0.751813\n",
      "Iteration 21, loss = 0.59356498\n",
      "Validation score: 0.752249\n",
      "Iteration 22, loss = 0.59155213\n",
      "Validation score: 0.752318\n",
      "Iteration 23, loss = 0.58956501\n",
      "Validation score: 0.753190\n",
      "Iteration 24, loss = 0.58762577\n",
      "Validation score: 0.755255\n",
      "Iteration 25, loss = 0.58575820\n",
      "Validation score: 0.754475\n",
      "Iteration 26, loss = 0.58388218\n",
      "Validation score: 0.754636\n",
      "Iteration 27, loss = 0.58210267\n",
      "Validation score: 0.755737\n",
      "Iteration 28, loss = 0.58036406\n",
      "Validation score: 0.756563\n",
      "Iteration 29, loss = 0.57867806\n",
      "Validation score: 0.756793\n",
      "Iteration 30, loss = 0.57701869\n",
      "Validation score: 0.757757\n",
      "Iteration 31, loss = 0.57537149\n",
      "Validation score: 0.757504\n",
      "Iteration 32, loss = 0.57382699\n",
      "Validation score: 0.758032\n",
      "Iteration 33, loss = 0.57226279\n",
      "Validation score: 0.759133\n",
      "Iteration 34, loss = 0.57071348\n",
      "Validation score: 0.759547\n",
      "Iteration 35, loss = 0.56914945\n",
      "Validation score: 0.759937\n",
      "Iteration 36, loss = 0.56744086\n",
      "Validation score: 0.760694\n",
      "Iteration 37, loss = 0.56578114\n",
      "Validation score: 0.760694\n",
      "Iteration 38, loss = 0.56423572\n",
      "Validation score: 0.761382\n",
      "Iteration 39, loss = 0.56269196\n",
      "Validation score: 0.762048\n",
      "Iteration 40, loss = 0.56128833\n",
      "Validation score: 0.762874\n",
      "Iteration 41, loss = 0.55994182\n",
      "Validation score: 0.763081\n",
      "Iteration 42, loss = 0.55857999\n",
      "Validation score: 0.763907\n",
      "Iteration 43, loss = 0.55732220\n",
      "Validation score: 0.764113\n",
      "Iteration 44, loss = 0.55602310\n",
      "Validation score: 0.764848\n",
      "Iteration 45, loss = 0.55485383\n",
      "Validation score: 0.765100\n",
      "Iteration 46, loss = 0.55366066\n",
      "Validation score: 0.766110\n",
      "Iteration 47, loss = 0.55243643\n",
      "Validation score: 0.766615\n",
      "Iteration 48, loss = 0.55134876\n",
      "Validation score: 0.767418\n",
      "Iteration 49, loss = 0.55019090\n",
      "Validation score: 0.767808\n",
      "Iteration 50, loss = 0.54909429\n",
      "Validation score: 0.767441\n",
      "Iteration 51, loss = 0.54791565\n",
      "Validation score: 0.767739\n",
      "Iteration 52, loss = 0.54682715\n",
      "Validation score: 0.768083\n",
      "Iteration 53, loss = 0.54566903\n",
      "Validation score: 0.768864\n",
      "Iteration 54, loss = 0.54456582\n",
      "Validation score: 0.769047\n",
      "Iteration 55, loss = 0.54348414\n",
      "Validation score: 0.769850\n",
      "Iteration 56, loss = 0.54232016\n",
      "Validation score: 0.770654\n",
      "Iteration 57, loss = 0.54125832\n",
      "Validation score: 0.770240\n",
      "Iteration 58, loss = 0.54009467\n",
      "Validation score: 0.771250\n",
      "Iteration 59, loss = 0.53899302\n",
      "Validation score: 0.772788\n",
      "Iteration 60, loss = 0.53791138\n",
      "Validation score: 0.772696\n",
      "Iteration 61, loss = 0.53681751\n",
      "Validation score: 0.773270\n",
      "Iteration 62, loss = 0.53571821\n",
      "Validation score: 0.774142\n",
      "Iteration 63, loss = 0.53474821\n",
      "Validation score: 0.774945\n",
      "Iteration 64, loss = 0.53366054\n",
      "Validation score: 0.775633\n",
      "Iteration 65, loss = 0.53267132\n",
      "Validation score: 0.775748\n",
      "Iteration 66, loss = 0.53164729\n",
      "Validation score: 0.775863\n",
      "Iteration 67, loss = 0.53069624\n",
      "Validation score: 0.776161\n",
      "Iteration 68, loss = 0.52977701\n",
      "Validation score: 0.776827\n",
      "Iteration 69, loss = 0.52886126\n",
      "Validation score: 0.777309\n",
      "Iteration 70, loss = 0.52802895\n",
      "Validation score: 0.777653\n",
      "Iteration 71, loss = 0.52712320\n",
      "Validation score: 0.777813\n",
      "Iteration 72, loss = 0.52633043\n",
      "Validation score: 0.778387\n",
      "Iteration 73, loss = 0.52545341\n",
      "Validation score: 0.778846\n",
      "Iteration 74, loss = 0.52461813\n",
      "Validation score: 0.779099\n",
      "Iteration 75, loss = 0.52378311\n",
      "Validation score: 0.778686\n",
      "Iteration 76, loss = 0.52300961\n",
      "Validation score: 0.780246\n",
      "Iteration 77, loss = 0.52226181\n",
      "Validation score: 0.780544\n",
      "Iteration 78, loss = 0.52148338\n",
      "Validation score: 0.780292\n",
      "Iteration 79, loss = 0.52071098\n",
      "Validation score: 0.779397\n",
      "Iteration 80, loss = 0.52008934\n",
      "Validation score: 0.780866\n",
      "Iteration 81, loss = 0.51934803\n",
      "Validation score: 0.780705\n",
      "Iteration 82, loss = 0.51863678\n",
      "Validation score: 0.781233\n",
      "Iteration 83, loss = 0.51799755\n",
      "Validation score: 0.782105\n",
      "Iteration 84, loss = 0.51735123\n",
      "Validation score: 0.781439\n",
      "Iteration 85, loss = 0.51672265\n",
      "Validation score: 0.782220\n",
      "Iteration 86, loss = 0.51607602\n",
      "Validation score: 0.781944\n",
      "Iteration 87, loss = 0.51546861\n",
      "Validation score: 0.780682\n",
      "Iteration 88, loss = 0.51488555\n",
      "Validation score: 0.782449\n",
      "Iteration 89, loss = 0.51433390\n",
      "Validation score: 0.783160\n",
      "Iteration 90, loss = 0.51376618\n",
      "Validation score: 0.783665\n",
      "Iteration 91, loss = 0.51322400\n",
      "Validation score: 0.782908\n",
      "Iteration 92, loss = 0.51255744\n",
      "Validation score: 0.782931\n",
      "Iteration 93, loss = 0.51198478\n",
      "Validation score: 0.784032\n",
      "Iteration 94, loss = 0.51145325\n",
      "Validation score: 0.783619\n",
      "Iteration 95, loss = 0.51080309\n",
      "Validation score: 0.784239\n",
      "Iteration 96, loss = 0.51021274\n",
      "Validation score: 0.784514\n",
      "Iteration 97, loss = 0.50966990\n",
      "Validation score: 0.784331\n",
      "Iteration 98, loss = 0.50908042\n",
      "Validation score: 0.785386\n",
      "Iteration 99, loss = 0.50850639\n",
      "Validation score: 0.784813\n",
      "Iteration 100, loss = 0.50791887\n",
      "Validation score: 0.785822\n",
      "Iteration 101, loss = 0.50745026\n",
      "Validation score: 0.786121\n",
      "Iteration 102, loss = 0.50680444\n",
      "Validation score: 0.786717\n",
      "Iteration 103, loss = 0.50630451\n",
      "Validation score: 0.786993\n",
      "Iteration 104, loss = 0.50573254\n",
      "Validation score: 0.786740\n",
      "Iteration 105, loss = 0.50520679\n",
      "Validation score: 0.787452\n",
      "Iteration 106, loss = 0.50466164\n",
      "Validation score: 0.788117\n",
      "Iteration 107, loss = 0.50421169\n",
      "Validation score: 0.787199\n",
      "Iteration 108, loss = 0.50360468\n",
      "Validation score: 0.787521\n",
      "Iteration 109, loss = 0.50314916\n",
      "Validation score: 0.787957\n",
      "Iteration 110, loss = 0.50269991\n",
      "Validation score: 0.788737\n",
      "Iteration 111, loss = 0.50217688\n",
      "Validation score: 0.788003\n",
      "Iteration 112, loss = 0.50161618\n",
      "Validation score: 0.788553\n",
      "Iteration 113, loss = 0.50115711\n",
      "Validation score: 0.789265\n",
      "Iteration 114, loss = 0.50060632\n",
      "Validation score: 0.789219\n",
      "Iteration 115, loss = 0.50012989\n",
      "Validation score: 0.789517\n",
      "Iteration 116, loss = 0.49968373\n",
      "Validation score: 0.789494\n",
      "Iteration 117, loss = 0.49912925\n",
      "Validation score: 0.790045\n",
      "Iteration 118, loss = 0.49865891\n",
      "Validation score: 0.790435\n",
      "Iteration 119, loss = 0.49814249\n",
      "Validation score: 0.787635\n",
      "Iteration 120, loss = 0.49769357\n",
      "Validation score: 0.789104\n",
      "Iteration 121, loss = 0.49718454\n",
      "Validation score: 0.790825\n",
      "Iteration 122, loss = 0.49677305\n",
      "Validation score: 0.789793\n",
      "Iteration 123, loss = 0.49634569\n",
      "Validation score: 0.789884\n",
      "Iteration 124, loss = 0.49595166\n",
      "Validation score: 0.789678\n",
      "Iteration 125, loss = 0.49554240\n",
      "Validation score: 0.791560\n",
      "Iteration 126, loss = 0.49507430\n",
      "Validation score: 0.789953\n",
      "Iteration 127, loss = 0.49463279\n",
      "Validation score: 0.790504\n",
      "Iteration 128, loss = 0.49424401\n",
      "Validation score: 0.791422\n",
      "Iteration 129, loss = 0.49370385\n",
      "Validation score: 0.792363\n",
      "Iteration 130, loss = 0.49337226\n",
      "Validation score: 0.790550\n",
      "Iteration 131, loss = 0.49292949\n",
      "Validation score: 0.791353\n",
      "Iteration 132, loss = 0.49249219\n",
      "Validation score: 0.792546\n",
      "Iteration 133, loss = 0.49209723\n",
      "Validation score: 0.792891\n",
      "Iteration 134, loss = 0.49167435\n",
      "Validation score: 0.792317\n",
      "Iteration 135, loss = 0.49126942\n",
      "Validation score: 0.792386\n",
      "Iteration 136, loss = 0.49085183\n",
      "Validation score: 0.792133\n",
      "Iteration 137, loss = 0.49050292\n",
      "Validation score: 0.793143\n",
      "Iteration 138, loss = 0.49009020\n",
      "Validation score: 0.793304\n",
      "Iteration 139, loss = 0.48971127\n",
      "Validation score: 0.793189\n",
      "Iteration 140, loss = 0.48928731\n",
      "Validation score: 0.792891\n",
      "Iteration 141, loss = 0.48896617\n",
      "Validation score: 0.793510\n",
      "Iteration 142, loss = 0.48855695\n",
      "Validation score: 0.792914\n",
      "Iteration 143, loss = 0.48819443\n",
      "Validation score: 0.794382\n",
      "Iteration 144, loss = 0.48779769\n",
      "Validation score: 0.794612\n",
      "Iteration 145, loss = 0.48742265\n",
      "Validation score: 0.793579\n",
      "Iteration 146, loss = 0.48705412\n",
      "Validation score: 0.795117\n",
      "Iteration 147, loss = 0.48669376\n",
      "Validation score: 0.794910\n",
      "Iteration 148, loss = 0.48623340\n",
      "Validation score: 0.794658\n",
      "Iteration 149, loss = 0.48595494\n",
      "Validation score: 0.795966\n",
      "Iteration 150, loss = 0.48555416\n",
      "Validation score: 0.795117\n"
     ]
    },
    {
     "name": "stderr",
     "output_type": "stream",
     "text": [
      "/opt/jupyterhub/lib/python3.9/site-packages/sklearn/neural_network/_multilayer_perceptron.py:692: ConvergenceWarning: Stochastic Optimizer: Maximum iterations (150) reached and the optimization hasn't converged yet.\n",
      "  warnings.warn(\n"
     ]
    }
   ],
   "source": [
    "mlp_3 = MLPClassifier(hidden_layer_sizes=(20,20,20), max_iter = 150, early_stopping = True, verbose = True,solver = \"sgd\", learning_rate = \"invscaling\", power_t = 0.1)\n",
    "mlp_3train = mlp_3.fit(X_train_c,y_train_c)"
   ]
  },
  {
   "cell_type": "markdown",
   "id": "f4b323c8-2457-480e-958d-2acc38eec75b",
   "metadata": {},
   "source": [
    "__________________________________________________________________________________________________________________________________"
   ]
  },
  {
   "cell_type": "code",
   "execution_count": 25,
   "id": "4ac5986c-d3f6-4858-8305-52a9e57b4518",
   "metadata": {},
   "outputs": [],
   "source": [
    "addToList(mlp_1train, classificationList)\n",
    "addToList(mlp_2train, classificationList)\n",
    "addToList(mlp_3train, classificationList)"
   ]
  },
  {
   "cell_type": "code",
   "execution_count": 26,
   "id": "56044537-957c-4290-a83a-73c02e499a82",
   "metadata": {
    "tags": []
   },
   "outputs": [
    {
     "data": {
      "text/plain": [
       "[MLPClassifier(early_stopping=True, hidden_layer_sizes=(20, 20, 20),\n",
       "               learning_rate='invscaling', max_iter=150, solver='sgd',\n",
       "               verbose=True),\n",
       " MLPClassifier(early_stopping=True, hidden_layer_sizes=(20, 20, 20),\n",
       "               learning_rate='invscaling', max_iter=150, power_t=1.0,\n",
       "               solver='sgd', verbose=True),\n",
       " MLPClassifier(early_stopping=True, hidden_layer_sizes=(20, 20, 20),\n",
       "               learning_rate='invscaling', max_iter=150, power_t=0.1,\n",
       "               solver='sgd', verbose=True)]"
      ]
     },
     "execution_count": 26,
     "metadata": {},
     "output_type": "execute_result"
    }
   ],
   "source": [
    "classificationList"
   ]
  },
  {
   "cell_type": "markdown",
   "id": "6d98e013-6397-47bf-9663-2415ad6c92f8",
   "metadata": {},
   "source": [
    "## Results"
   ]
  },
  {
   "cell_type": "code",
   "execution_count": 27,
   "id": "2ad41f1b-5588-42f7-8797-cd2f50093c01",
   "metadata": {
    "collapsed": true,
    "jupyter": {
     "outputs_hidden": true
    },
    "tags": []
   },
   "outputs": [
    {
     "name": "stdout",
     "output_type": "stream",
     "text": [
      "MLPClassifier(early_stopping=True, hidden_layer_sizes=(20, 20, 20),\n",
      "              learning_rate='invscaling', max_iter=150, solver='sgd',\n",
      "              verbose=True)\n",
      "\n",
      "paramters: {'activation': 'relu', 'alpha': 0.0001, 'batch_size': 'auto', 'beta_1': 0.9, 'beta_2': 0.999, 'early_stopping': True, 'epsilon': 1e-08, 'hidden_layer_sizes': (20, 20, 20), 'learning_rate': 'invscaling', 'learning_rate_init': 0.001, 'max_fun': 15000, 'max_iter': 150, 'momentum': 0.9, 'n_iter_no_change': 10, 'nesterovs_momentum': True, 'power_t': 0.5, 'random_state': None, 'shuffle': True, 'solver': 'sgd', 'tol': 0.0001, 'validation_fraction': 0.1, 'verbose': True, 'warm_start': False}\n",
      "\n",
      "last loss: 7.222156322890813e-01\n",
      "\n",
      "number of features seen during fit: 54\n",
      "\n",
      "number of layers: 5\n",
      "\n",
      "number of outputs: 7\n",
      "\n",
      "name of output activation function: softmax\n",
      "\n",
      "number of iterations: 26\n",
      "\n",
      "number training samples seen by the solver during fitting: 10196758\n",
      "****************************************************************************************\n",
      "MLPClassifier(early_stopping=True, hidden_layer_sizes=(20, 20, 20),\n",
      "              learning_rate='invscaling', max_iter=150, power_t=1.0,\n",
      "              solver='sgd', verbose=True)\n",
      "\n",
      "paramters: {'activation': 'relu', 'alpha': 0.0001, 'batch_size': 'auto', 'beta_1': 0.9, 'beta_2': 0.999, 'early_stopping': True, 'epsilon': 1e-08, 'hidden_layer_sizes': (20, 20, 20), 'learning_rate': 'invscaling', 'learning_rate_init': 0.001, 'max_fun': 15000, 'max_iter': 150, 'momentum': 0.9, 'n_iter_no_change': 10, 'nesterovs_momentum': True, 'power_t': 1.0, 'random_state': None, 'shuffle': True, 'solver': 'sgd', 'tol': 0.0001, 'validation_fraction': 0.1, 'verbose': True, 'warm_start': False}\n",
      "\n",
      "last loss: 0.7793110100804442\n",
      "\n",
      "number of features seen during fit: 54\n",
      "\n",
      "number of layers: 5\n",
      "\n",
      "number of outputs: 7\n",
      "\n",
      "name of output activation function: softmax\n",
      "\n",
      "number of iterations: 13\n",
      "\n",
      "number training samples seen by the solver during fitting: 5098379\n",
      "****************************************************************************************\n",
      "MLPClassifier(early_stopping=True, hidden_layer_sizes=(20, 20, 20),\n",
      "              learning_rate='invscaling', max_iter=150, power_t=0.1,\n",
      "              solver='sgd', verbose=True)\n",
      "\n",
      "paramters: {'activation': 'relu', 'alpha': 0.0001, 'batch_size': 'auto', 'beta_1': 0.9, 'beta_2': 0.999, 'early_stopping': True, 'epsilon': 1e-08, 'hidden_layer_sizes': (20, 20, 20), 'learning_rate': 'invscaling', 'learning_rate_init': 0.001, 'max_fun': 15000, 'max_iter': 150, 'momentum': 0.9, 'n_iter_no_change': 10, 'nesterovs_momentum': True, 'power_t': 0.1, 'random_state': None, 'shuffle': True, 'solver': 'sgd', 'tol': 0.0001, 'validation_fraction': 0.1, 'verbose': True, 'warm_start': False}\n",
      "\n",
      "last loss: 0.4855541554977662\n",
      "\n",
      "number of features seen during fit: 54\n",
      "\n",
      "number of layers: 5\n",
      "\n",
      "number of outputs: 7\n",
      "\n",
      "name of output activation function: softmax\n",
      "\n",
      "number of iterations: 150\n",
      "\n",
      "number training samples seen by the solver during fitting: 58827450\n",
      "****************************************************************************************\n"
     ]
    }
   ],
   "source": [
    "comparison(classificationList)"
   ]
  },
  {
   "cell_type": "code",
   "execution_count": 28,
   "id": "daad5cc5-0f3e-416d-bf86-f53792ab7ba2",
   "metadata": {
    "tags": []
   },
   "outputs": [
    {
     "name": "stdout",
     "output_type": "stream",
     "text": [
      "default: hidden_layer = (100,), activation = relu, solver = adam, alpha = 0.0001, learning_rate = constant, learning_rate_init = 0.001, max_iter = 200, shuffle = true, early_stopping & warm_start = FALSE\n",
      "Alle Infos, die davon abweichen, werden in der Legende gelistet\n",
      "****************************************************************************************\n"
     ]
    },
    {
     "data": {
      "image/png": "[encoded data removed]",
      "text/plain": [
       "<Figure size 432x288 with 1 Axes>"
      ]
     },
     "metadata": {
      "needs_background": "light"
     },
     "output_type": "display_data"
    },
    {
     "data": {
      "image/png": "[encoded data removed]",
      "text/plain": [
       "<Figure size 432x288 with 1 Axes>"
      ]
     },
     "metadata": {
      "needs_background": "light"
     },
     "output_type": "display_data"
    }
   ],
   "source": [
    "curveValidateIteration(classificationList, curve, validation, iteration)\n",
    "plotCurvePerInteration(classificationList, curve, iteration)\n",
    "plotValidationPerInteration(classificationList, validation, iteration)"
   ]
  },
  {
   "cell_type": "code",
   "execution_count": 29,
   "id": "715808d2-3450-4561-b72a-fe134258b439",
   "metadata": {
    "tags": []
   },
   "outputs": [
    {
     "data": {
      "image/png": "[encoded data removed]",
      "text/plain": [
       "<Figure size 432x288 with 1 Axes>"
      ]
     },
     "metadata": {
      "needs_background": "light"
     },
     "output_type": "display_data"
    }
   ],
   "source": [
    "plotValidationPercurve(classificationList, validation, curve)"
   ]
  },
  {
   "cell_type": "markdown",
   "id": "cc09c0c7-abb7-44d0-bbe0-36da87b460e4",
   "metadata": {},
   "source": [
    "## Heatmaps"
   ]
  },
  {
   "cell_type": "code",
   "execution_count": 30,
   "id": "ef05d5a2-ac58-4035-aa6c-dfa6abd61000",
   "metadata": {
    "tags": []
   },
   "outputs": [
    {
     "name": "stdout",
     "output_type": "stream",
     "text": [
      "MLPClassifier(early_stopping=True, hidden_layer_sizes=(20, 20, 20),\n",
      "              learning_rate='invscaling', max_iter=150, solver='sgd',\n",
      "              verbose=True)\n"
     ]
    },
    {
     "data": {
      "image/png": "[encoded data removed]",
      "text/plain": [
       "<Figure size 432x288 with 2 Axes>"
      ]
     },
     "metadata": {
      "needs_background": "light"
     },
     "output_type": "display_data"
    },
    {
     "name": "stdout",
     "output_type": "stream",
     "text": [
      "MLPClassifier(early_stopping=True, hidden_layer_sizes=(20, 20, 20),\n",
      "              learning_rate='invscaling', max_iter=150, power_t=1.0,\n",
      "              solver='sgd', verbose=True)\n"
     ]
    },
    {
     "data": {
      "image/png": "[encoded data removed]",
      "text/plain": [
       "<Figure size 432x288 with 2 Axes>"
      ]
     },
     "metadata": {
      "needs_background": "light"
     },
     "output_type": "display_data"
    },
    {
     "name": "stdout",
     "output_type": "stream",
     "text": [
      "MLPClassifier(early_stopping=True, hidden_layer_sizes=(20, 20, 20),\n",
      "              learning_rate='invscaling', max_iter=150, power_t=0.1,\n",
      "              solver='sgd', verbose=True)\n"
     ]
    },
    {
     "data": {
      "image/png": "[encoded data removed]",
      "text/plain": [
       "<Figure size 432x288 with 2 Axes>"
      ]
     },
     "metadata": {
      "needs_background": "light"
     },
     "output_type": "display_data"
    }
   ],
   "source": [
    "heatmaping(classificationList)"
   ]
  },
  {
   "cell_type": "code",
   "execution_count": 31,
   "id": "6f083132-b371-422e-9d69-2489a9f2c6db",
   "metadata": {
    "tags": []
   },
   "outputs": [
    {
     "name": "stdout",
     "output_type": "stream",
     "text": [
      "MLPClassifier(early_stopping=True, hidden_layer_sizes=(20, 20, 20),\n",
      "              learning_rate='invscaling', max_iter=150, solver='sgd',\n",
      "              verbose=True)\n"
     ]
    },
    {
     "name": "stderr",
     "output_type": "stream",
     "text": [
      "/opt/jupyterhub/lib/python3.9/site-packages/sklearn/metrics/_classification.py:1308: UndefinedMetricWarning: Precision and F-score are ill-defined and being set to 0.0 in labels with no predicted samples. Use `zero_division` parameter to control this behavior.\n",
      "  _warn_prf(average, modifier, msg_start, len(result))\n",
      "/opt/jupyterhub/lib/python3.9/site-packages/sklearn/metrics/_classification.py:1308: UndefinedMetricWarning: Precision and F-score are ill-defined and being set to 0.0 in labels with no predicted samples. Use `zero_division` parameter to control this behavior.\n",
      "  _warn_prf(average, modifier, msg_start, len(result))\n",
      "/opt/jupyterhub/lib/python3.9/site-packages/sklearn/metrics/_classification.py:1308: UndefinedMetricWarning: Precision and F-score are ill-defined and being set to 0.0 in labels with no predicted samples. Use `zero_division` parameter to control this behavior.\n",
      "  _warn_prf(average, modifier, msg_start, len(result))\n"
     ]
    },
    {
     "name": "stdout",
     "output_type": "stream",
     "text": [
      "              precision    recall  f1-score   support\n",
      "\n",
      "           1       0.71      0.67      0.69     52927\n",
      "           2       0.73      0.81      0.77     70945\n",
      "           3       0.60      0.90      0.72      8995\n",
      "           4       0.00      0.00      0.00       677\n",
      "           5       0.00      0.00      0.00      2312\n",
      "           6       0.45      0.00      0.00      4323\n",
      "           7       0.67      0.46      0.54      5074\n",
      "\n",
      "    accuracy                           0.71    145253\n",
      "   macro avg       0.45      0.40      0.39    145253\n",
      "weighted avg       0.69      0.71      0.69    145253\n",
      "\n",
      "MLPClassifier(early_stopping=True, hidden_layer_sizes=(20, 20, 20),\n",
      "              learning_rate='invscaling', max_iter=150, power_t=1.0,\n",
      "              solver='sgd', verbose=True)\n"
     ]
    },
    {
     "name": "stderr",
     "output_type": "stream",
     "text": [
      "/opt/jupyterhub/lib/python3.9/site-packages/sklearn/metrics/_classification.py:1308: UndefinedMetricWarning: Precision and F-score are ill-defined and being set to 0.0 in labels with no predicted samples. Use `zero_division` parameter to control this behavior.\n",
      "  _warn_prf(average, modifier, msg_start, len(result))\n",
      "/opt/jupyterhub/lib/python3.9/site-packages/sklearn/metrics/_classification.py:1308: UndefinedMetricWarning: Precision and F-score are ill-defined and being set to 0.0 in labels with no predicted samples. Use `zero_division` parameter to control this behavior.\n",
      "  _warn_prf(average, modifier, msg_start, len(result))\n",
      "/opt/jupyterhub/lib/python3.9/site-packages/sklearn/metrics/_classification.py:1308: UndefinedMetricWarning: Precision and F-score are ill-defined and being set to 0.0 in labels with no predicted samples. Use `zero_division` parameter to control this behavior.\n",
      "  _warn_prf(average, modifier, msg_start, len(result))\n"
     ]
    },
    {
     "name": "stdout",
     "output_type": "stream",
     "text": [
      "              precision    recall  f1-score   support\n",
      "\n",
      "           1       0.65      0.62      0.64     52927\n",
      "           2       0.70      0.79      0.74     70945\n",
      "           3       0.60      0.89      0.72      8995\n",
      "           4       0.00      0.00      0.00       677\n",
      "           5       0.00      0.00      0.00      2312\n",
      "           6       0.45      0.05      0.08      4323\n",
      "           7       0.64      0.11      0.19      5074\n",
      "\n",
      "    accuracy                           0.67    145253\n",
      "   macro avg       0.43      0.35      0.34    145253\n",
      "weighted avg       0.65      0.67      0.65    145253\n",
      "\n",
      "MLPClassifier(early_stopping=True, hidden_layer_sizes=(20, 20, 20),\n",
      "              learning_rate='invscaling', max_iter=150, power_t=0.1,\n",
      "              solver='sgd', verbose=True)\n",
      "              precision    recall  f1-score   support\n",
      "\n",
      "           1       0.80      0.78      0.79     52927\n",
      "           2       0.81      0.85      0.83     70945\n",
      "           3       0.71      0.84      0.77      8995\n",
      "           4       0.55      0.39      0.46       677\n",
      "           5       0.72      0.20      0.31      2312\n",
      "           6       0.54      0.34      0.42      4323\n",
      "           7       0.81      0.76      0.79      5074\n",
      "\n",
      "    accuracy                           0.79    145253\n",
      "   macro avg       0.70      0.59      0.62    145253\n",
      "weighted avg       0.79      0.79      0.79    145253\n",
      "\n"
     ]
    }
   ],
   "source": [
    "reporting(classificationList)"
   ]
  },
  {
   "cell_type": "code",
   "execution_count": 32,
   "id": "74a399f7-9f58-4c18-9122-6cd52a869c2f",
   "metadata": {
    "tags": []
   },
   "outputs": [
    {
     "name": "stdout",
     "output_type": "stream",
     "text": [
      "MLPClassifier(early_stopping=True, hidden_layer_sizes=(20, 20, 20),\n",
      "              learning_rate='invscaling', max_iter=150, solver='sgd',\n",
      "              verbose=True)\n"
     ]
    },
    {
     "name": "stderr",
     "output_type": "stream",
     "text": [
      "/opt/jupyterhub/lib/python3.9/site-packages/sklearn/metrics/_classification.py:1308: UndefinedMetricWarning: Precision is ill-defined and being set to 0.0 in labels with no predicted samples. Use `zero_division` parameter to control this behavior.\n",
      "  _warn_prf(average, modifier, msg_start, len(result))\n"
     ]
    },
    {
     "name": "stdout",
     "output_type": "stream",
     "text": [
      "Accuracy: \t70.85\n",
      "Recall: \t70.85\n",
      "precision: \t68.81\n",
      "MLPClassifier(early_stopping=True, hidden_layer_sizes=(20, 20, 20),\n",
      "              learning_rate='invscaling', max_iter=150, power_t=1.0,\n",
      "              solver='sgd', verbose=True)\n"
     ]
    },
    {
     "name": "stderr",
     "output_type": "stream",
     "text": [
      "/opt/jupyterhub/lib/python3.9/site-packages/sklearn/metrics/_classification.py:1308: UndefinedMetricWarning: Precision is ill-defined and being set to 0.0 in labels with no predicted samples. Use `zero_division` parameter to control this behavior.\n",
      "  _warn_prf(average, modifier, msg_start, len(result))\n"
     ]
    },
    {
     "name": "stdout",
     "output_type": "stream",
     "text": [
      "Accuracy: \t67.28\n",
      "Recall: \t67.28\n",
      "precision: \t65.20\n",
      "MLPClassifier(early_stopping=True, hidden_layer_sizes=(20, 20, 20),\n",
      "              learning_rate='invscaling', max_iter=150, power_t=0.1,\n",
      "              solver='sgd', verbose=True)\n",
      "Accuracy: \t79.20\n",
      "Recall: \t79.20\n",
      "precision: \t78.87\n"
     ]
    }
   ],
   "source": [
    "accuracyPlotting(classificationList)"
   ]
  },
  {
   "cell_type": "markdown",
   "id": "ee3c878d-5a50-411d-9115-420c44627bf7",
   "metadata": {
    "tags": []
   },
   "source": [
    "## Fazit\n",
    "<li> Nur das Ergebnis mit Power_t = 0.1 hat ordentliche Ergebnisse geliefert. </li>\n",
    "<li> Nichtsdestotrotz sind die Ergebnisse insgesamt schlechter als mit anderen Parametern. </li>\n",
    "<li> es wird also von der Bearbeitung mit der learningrate invscaling, vor allem in der Kombination mit power_t und solver sgd, abgeraten </li>\n",
    "<li> die Nutzung von invscaling mit dem solver Adam war dagegen gewinnbringend </li>"
   ]
  }
 ],
 "metadata": {
  "kernelspec": {
   "display_name": "Python 3 (ipykernel)",
   "language": "python",
   "name": "python3"
  },
  "language_info": {
   "codemirror_mode": {
    "name": "ipython",
    "version": 3
   },
   "file_extension": ".py",
   "mimetype": "text/x-python",
   "name": "python",
   "nbconvert_exporter": "python",
   "pygments_lexer": "ipython3",
   "version": "3.9.7"
  }
 },
 "nbformat": 4,
 "nbformat_minor": 5
}
