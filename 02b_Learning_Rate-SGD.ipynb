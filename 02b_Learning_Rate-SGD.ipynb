{
 "cells": [
  {
   "cell_type": "markdown",
   "id": "6b0fd06a-f3cb-4732-bc7d-1c7ad2d39c0f",
   "metadata": {},
   "source": [
    "# Comparison Loss Function and Validation Score"
   ]
  },
  {
   "cell_type": "markdown",
   "id": "5bce52fe-8793-4ee5-8b75-1932fd4aa55d",
   "metadata": {},
   "source": [
    "1) Import der einzelnen Libraries. Sortieren der Daten nach der Zielkategorie für den ersten Überblick.\n",
    "2) Aufteilen der Trainings- und Testdaten. Erstellen von notwendigen Listen\n",
    "3) Erstellen von Funktionen \n",
    "4) initialisieren der einzelnen MLPClassifier Netze \n",
    "5) Ergebnisse: Textuelle Daten, geplottete Vergleiche, prozentuale Heatmaps und Reports"
   ]
  },
  {
   "cell_type": "markdown",
   "id": "e3990afb-733a-40a5-957e-451abceb2d5e",
   "metadata": {},
   "source": [
    "## imports and data"
   ]
  },
  {
   "cell_type": "code",
   "execution_count": 1,
   "id": "e9ce620e-67af-4fcb-8736-ead8893c3523",
   "metadata": {},
   "outputs": [
    {
     "data": {
      "text/plain": [
       "dict_keys(['data', 'target', 'frame', 'target_names', 'feature_names', 'DESCR'])"
      ]
     },
     "execution_count": 1,
     "metadata": {},
     "output_type": "execute_result"
    }
   ],
   "source": [
    "from sklearn.datasets import fetch_covtype\n",
    "from sklearn.preprocessing import StandardScaler\n",
    "from sklearn.neural_network import MLPClassifier\n",
    "from sklearn.model_selection import train_test_split\n",
    "from sklearn.metrics import classification_report,confusion_matrix, balanced_accuracy_score, roc_auc_score, top_k_accuracy_score, cohen_kappa_score, matthews_corrcoef, hinge_loss\n",
    "from sklearn.metrics import plot_confusion_matrix, multilabel_confusion_matrix\n",
    "from sklearn.metrics import RocCurveDisplay, accuracy_score, recall_score, precision_score, precision_recall_fscore_support\n",
    "import matplotlib.pyplot as plt\n",
    "import matplotlib.figure as fig\n",
    "from matplotlib.colors import ListedColormap\n",
    "from mpl_toolkits import mplot3d\n",
    "import seaborn as sns\n",
    "import numpy as np\n",
    "import pandas as pd\n",
    "covertype = fetch_covtype()\n",
    "forest = fetch_covtype(as_frame=True)\n",
    "covertype.keys()"
   ]
  },
  {
   "cell_type": "code",
   "execution_count": 2,
   "id": "a574498c-78cc-4eb5-9626-ea65dab5307e",
   "metadata": {
    "tags": []
   },
   "outputs": [
    {
     "data": {
      "text/plain": [
       "0         5\n",
       "1         5\n",
       "2         2\n",
       "3         2\n",
       "4         5\n",
       "         ..\n",
       "581007    3\n",
       "581008    3\n",
       "581009    3\n",
       "581010    3\n",
       "581011    3\n",
       "Name: Cover_Type, Length: 581012, dtype: int32"
      ]
     },
     "execution_count": 2,
     "metadata": {},
     "output_type": "execute_result"
    }
   ],
   "source": [
    "forest.target"
   ]
  },
  {
   "cell_type": "code",
   "execution_count": 3,
   "id": "3a19f2f3-1f0e-43f7-88fd-f3a9b3b7bdf9",
   "metadata": {},
   "outputs": [],
   "source": [
    "forestlist = forest.frame\n",
    "forestlistFiltered = forestlist.filter(items=['Elevation', 'Aspect', 'Slope', 'Horizontal_Distance_To_Hydrology', 'Vertical_Distance_To_Hydrology', 'Horizontal_Distance_To_Roadways', 'Hillshade_9am', 'Hillshade_Noon', 'Hillshade_3pm', 'Horizontal_Distance_To_Fire_Points', 'Wilderness_Area_0', 'Wilderness_Area_1', 'Wilderness_Area_2', 'Wilderness_Area_3', 'Cover_Type'])"
   ]
  },
  {
   "cell_type": "code",
   "execution_count": 4,
   "id": "4ec34c71-e117-44eb-a8bb-1d7acdd756f5",
   "metadata": {
    "tags": []
   },
   "outputs": [
    {
     "data": {
      "text/html": [
       "<div>\n",
       "<style scoped>\n",
       "    .dataframe tbody tr th:only-of-type {\n",
       "        vertical-align: middle;\n",
       "    }\n",
       "\n",
       "    .dataframe tbody tr th {\n",
       "        vertical-align: top;\n",
       "    }\n",
       "\n",
       "    .dataframe thead th {\n",
       "        text-align: right;\n",
       "    }\n",
       "</style>\n",
       "<table border=\"1\" class=\"dataframe\">\n",
       "  <thead>\n",
       "    <tr style=\"text-align: right;\">\n",
       "      <th></th>\n",
       "      <th>Elevation</th>\n",
       "      <th>Aspect</th>\n",
       "      <th>Slope</th>\n",
       "      <th>Horizontal_Distance_To_Hydrology</th>\n",
       "      <th>Vertical_Distance_To_Hydrology</th>\n",
       "      <th>Horizontal_Distance_To_Roadways</th>\n",
       "      <th>Hillshade_9am</th>\n",
       "      <th>Hillshade_Noon</th>\n",
       "      <th>Hillshade_3pm</th>\n",
       "      <th>Horizontal_Distance_To_Fire_Points</th>\n",
       "      <th>...</th>\n",
       "      <th>Soil_Type_31</th>\n",
       "      <th>Soil_Type_32</th>\n",
       "      <th>Soil_Type_33</th>\n",
       "      <th>Soil_Type_34</th>\n",
       "      <th>Soil_Type_35</th>\n",
       "      <th>Soil_Type_36</th>\n",
       "      <th>Soil_Type_37</th>\n",
       "      <th>Soil_Type_38</th>\n",
       "      <th>Soil_Type_39</th>\n",
       "      <th>Cover_Type</th>\n",
       "    </tr>\n",
       "  </thead>\n",
       "  <tbody>\n",
       "    <tr>\n",
       "      <th>290505</th>\n",
       "      <td>2928.0</td>\n",
       "      <td>58.0</td>\n",
       "      <td>7.0</td>\n",
       "      <td>150.0</td>\n",
       "      <td>-7.0</td>\n",
       "      <td>1836.0</td>\n",
       "      <td>226.0</td>\n",
       "      <td>225.0</td>\n",
       "      <td>133.0</td>\n",
       "      <td>190.0</td>\n",
       "      <td>...</td>\n",
       "      <td>1.0</td>\n",
       "      <td>0.0</td>\n",
       "      <td>0.0</td>\n",
       "      <td>0.0</td>\n",
       "      <td>0.0</td>\n",
       "      <td>0.0</td>\n",
       "      <td>0.0</td>\n",
       "      <td>0.0</td>\n",
       "      <td>0.0</td>\n",
       "      <td>1</td>\n",
       "    </tr>\n",
       "    <tr>\n",
       "      <th>532739</th>\n",
       "      <td>3015.0</td>\n",
       "      <td>343.0</td>\n",
       "      <td>18.0</td>\n",
       "      <td>376.0</td>\n",
       "      <td>50.0</td>\n",
       "      <td>3378.0</td>\n",
       "      <td>181.0</td>\n",
       "      <td>211.0</td>\n",
       "      <td>166.0</td>\n",
       "      <td>1982.0</td>\n",
       "      <td>...</td>\n",
       "      <td>0.0</td>\n",
       "      <td>0.0</td>\n",
       "      <td>0.0</td>\n",
       "      <td>0.0</td>\n",
       "      <td>0.0</td>\n",
       "      <td>0.0</td>\n",
       "      <td>0.0</td>\n",
       "      <td>0.0</td>\n",
       "      <td>0.0</td>\n",
       "      <td>1</td>\n",
       "    </tr>\n",
       "    <tr>\n",
       "      <th>532740</th>\n",
       "      <td>3018.0</td>\n",
       "      <td>341.0</td>\n",
       "      <td>18.0</td>\n",
       "      <td>350.0</td>\n",
       "      <td>53.0</td>\n",
       "      <td>3398.0</td>\n",
       "      <td>180.0</td>\n",
       "      <td>211.0</td>\n",
       "      <td>168.0</td>\n",
       "      <td>2005.0</td>\n",
       "      <td>...</td>\n",
       "      <td>0.0</td>\n",
       "      <td>0.0</td>\n",
       "      <td>0.0</td>\n",
       "      <td>0.0</td>\n",
       "      <td>0.0</td>\n",
       "      <td>0.0</td>\n",
       "      <td>0.0</td>\n",
       "      <td>0.0</td>\n",
       "      <td>0.0</td>\n",
       "      <td>1</td>\n",
       "    </tr>\n",
       "    <tr>\n",
       "      <th>532741</th>\n",
       "      <td>3021.0</td>\n",
       "      <td>345.0</td>\n",
       "      <td>18.0</td>\n",
       "      <td>324.0</td>\n",
       "      <td>45.0</td>\n",
       "      <td>3419.0</td>\n",
       "      <td>182.0</td>\n",
       "      <td>209.0</td>\n",
       "      <td>164.0</td>\n",
       "      <td>2029.0</td>\n",
       "      <td>...</td>\n",
       "      <td>0.0</td>\n",
       "      <td>0.0</td>\n",
       "      <td>0.0</td>\n",
       "      <td>0.0</td>\n",
       "      <td>0.0</td>\n",
       "      <td>0.0</td>\n",
       "      <td>0.0</td>\n",
       "      <td>0.0</td>\n",
       "      <td>0.0</td>\n",
       "      <td>1</td>\n",
       "    </tr>\n",
       "    <tr>\n",
       "      <th>532742</th>\n",
       "      <td>3023.0</td>\n",
       "      <td>349.0</td>\n",
       "      <td>19.0</td>\n",
       "      <td>300.0</td>\n",
       "      <td>47.0</td>\n",
       "      <td>3439.0</td>\n",
       "      <td>182.0</td>\n",
       "      <td>206.0</td>\n",
       "      <td>160.0</td>\n",
       "      <td>2052.0</td>\n",
       "      <td>...</td>\n",
       "      <td>0.0</td>\n",
       "      <td>0.0</td>\n",
       "      <td>0.0</td>\n",
       "      <td>0.0</td>\n",
       "      <td>0.0</td>\n",
       "      <td>0.0</td>\n",
       "      <td>0.0</td>\n",
       "      <td>0.0</td>\n",
       "      <td>0.0</td>\n",
       "      <td>1</td>\n",
       "    </tr>\n",
       "    <tr>\n",
       "      <th>...</th>\n",
       "      <td>...</td>\n",
       "      <td>...</td>\n",
       "      <td>...</td>\n",
       "      <td>...</td>\n",
       "      <td>...</td>\n",
       "      <td>...</td>\n",
       "      <td>...</td>\n",
       "      <td>...</td>\n",
       "      <td>...</td>\n",
       "      <td>...</td>\n",
       "      <td>...</td>\n",
       "      <td>...</td>\n",
       "      <td>...</td>\n",
       "      <td>...</td>\n",
       "      <td>...</td>\n",
       "      <td>...</td>\n",
       "      <td>...</td>\n",
       "      <td>...</td>\n",
       "      <td>...</td>\n",
       "      <td>...</td>\n",
       "      <td>...</td>\n",
       "    </tr>\n",
       "    <tr>\n",
       "      <th>399826</th>\n",
       "      <td>3334.0</td>\n",
       "      <td>356.0</td>\n",
       "      <td>10.0</td>\n",
       "      <td>558.0</td>\n",
       "      <td>100.0</td>\n",
       "      <td>765.0</td>\n",
       "      <td>204.0</td>\n",
       "      <td>223.0</td>\n",
       "      <td>156.0</td>\n",
       "      <td>1642.0</td>\n",
       "      <td>...</td>\n",
       "      <td>0.0</td>\n",
       "      <td>0.0</td>\n",
       "      <td>0.0</td>\n",
       "      <td>0.0</td>\n",
       "      <td>0.0</td>\n",
       "      <td>0.0</td>\n",
       "      <td>0.0</td>\n",
       "      <td>0.0</td>\n",
       "      <td>0.0</td>\n",
       "      <td>7</td>\n",
       "    </tr>\n",
       "    <tr>\n",
       "      <th>399825</th>\n",
       "      <td>3333.0</td>\n",
       "      <td>6.0</td>\n",
       "      <td>7.0</td>\n",
       "      <td>601.0</td>\n",
       "      <td>99.0</td>\n",
       "      <td>806.0</td>\n",
       "      <td>212.0</td>\n",
       "      <td>226.0</td>\n",
       "      <td>152.0</td>\n",
       "      <td>1583.0</td>\n",
       "      <td>...</td>\n",
       "      <td>1.0</td>\n",
       "      <td>0.0</td>\n",
       "      <td>0.0</td>\n",
       "      <td>0.0</td>\n",
       "      <td>0.0</td>\n",
       "      <td>0.0</td>\n",
       "      <td>0.0</td>\n",
       "      <td>0.0</td>\n",
       "      <td>0.0</td>\n",
       "      <td>7</td>\n",
       "    </tr>\n",
       "    <tr>\n",
       "      <th>399824</th>\n",
       "      <td>3334.0</td>\n",
       "      <td>3.0</td>\n",
       "      <td>5.0</td>\n",
       "      <td>601.0</td>\n",
       "      <td>39.0</td>\n",
       "      <td>845.0</td>\n",
       "      <td>214.0</td>\n",
       "      <td>231.0</td>\n",
       "      <td>155.0</td>\n",
       "      <td>1524.0</td>\n",
       "      <td>...</td>\n",
       "      <td>1.0</td>\n",
       "      <td>0.0</td>\n",
       "      <td>0.0</td>\n",
       "      <td>0.0</td>\n",
       "      <td>0.0</td>\n",
       "      <td>0.0</td>\n",
       "      <td>0.0</td>\n",
       "      <td>0.0</td>\n",
       "      <td>0.0</td>\n",
       "      <td>7</td>\n",
       "    </tr>\n",
       "    <tr>\n",
       "      <th>399812</th>\n",
       "      <td>3331.0</td>\n",
       "      <td>246.0</td>\n",
       "      <td>3.0</td>\n",
       "      <td>660.0</td>\n",
       "      <td>117.0</td>\n",
       "      <td>859.0</td>\n",
       "      <td>213.0</td>\n",
       "      <td>241.0</td>\n",
       "      <td>166.0</td>\n",
       "      <td>1113.0</td>\n",
       "      <td>...</td>\n",
       "      <td>1.0</td>\n",
       "      <td>0.0</td>\n",
       "      <td>0.0</td>\n",
       "      <td>0.0</td>\n",
       "      <td>0.0</td>\n",
       "      <td>0.0</td>\n",
       "      <td>0.0</td>\n",
       "      <td>0.0</td>\n",
       "      <td>0.0</td>\n",
       "      <td>7</td>\n",
       "    </tr>\n",
       "    <tr>\n",
       "      <th>293238</th>\n",
       "      <td>3284.0</td>\n",
       "      <td>307.0</td>\n",
       "      <td>18.0</td>\n",
       "      <td>60.0</td>\n",
       "      <td>22.0</td>\n",
       "      <td>3922.0</td>\n",
       "      <td>167.0</td>\n",
       "      <td>226.0</td>\n",
       "      <td>198.0</td>\n",
       "      <td>3999.0</td>\n",
       "      <td>...</td>\n",
       "      <td>0.0</td>\n",
       "      <td>0.0</td>\n",
       "      <td>0.0</td>\n",
       "      <td>0.0</td>\n",
       "      <td>0.0</td>\n",
       "      <td>0.0</td>\n",
       "      <td>1.0</td>\n",
       "      <td>0.0</td>\n",
       "      <td>0.0</td>\n",
       "      <td>7</td>\n",
       "    </tr>\n",
       "  </tbody>\n",
       "</table>\n",
       "<p>581012 rows × 55 columns</p>\n",
       "</div>"
      ],
      "text/plain": [
       "        Elevation  Aspect  Slope  Horizontal_Distance_To_Hydrology  \\\n",
       "290505     2928.0    58.0    7.0                             150.0   \n",
       "532739     3015.0   343.0   18.0                             376.0   \n",
       "532740     3018.0   341.0   18.0                             350.0   \n",
       "532741     3021.0   345.0   18.0                             324.0   \n",
       "532742     3023.0   349.0   19.0                             300.0   \n",
       "...           ...     ...    ...                               ...   \n",
       "399826     3334.0   356.0   10.0                             558.0   \n",
       "399825     3333.0     6.0    7.0                             601.0   \n",
       "399824     3334.0     3.0    5.0                             601.0   \n",
       "399812     3331.0   246.0    3.0                             660.0   \n",
       "293238     3284.0   307.0   18.0                              60.0   \n",
       "\n",
       "        Vertical_Distance_To_Hydrology  Horizontal_Distance_To_Roadways  \\\n",
       "290505                            -7.0                           1836.0   \n",
       "532739                            50.0                           3378.0   \n",
       "532740                            53.0                           3398.0   \n",
       "532741                            45.0                           3419.0   \n",
       "532742                            47.0                           3439.0   \n",
       "...                                ...                              ...   \n",
       "399826                           100.0                            765.0   \n",
       "399825                            99.0                            806.0   \n",
       "399824                            39.0                            845.0   \n",
       "399812                           117.0                            859.0   \n",
       "293238                            22.0                           3922.0   \n",
       "\n",
       "        Hillshade_9am  Hillshade_Noon  Hillshade_3pm  \\\n",
       "290505          226.0           225.0          133.0   \n",
       "532739          181.0           211.0          166.0   \n",
       "532740          180.0           211.0          168.0   \n",
       "532741          182.0           209.0          164.0   \n",
       "532742          182.0           206.0          160.0   \n",
       "...               ...             ...            ...   \n",
       "399826          204.0           223.0          156.0   \n",
       "399825          212.0           226.0          152.0   \n",
       "399824          214.0           231.0          155.0   \n",
       "399812          213.0           241.0          166.0   \n",
       "293238          167.0           226.0          198.0   \n",
       "\n",
       "        Horizontal_Distance_To_Fire_Points  ...  Soil_Type_31  Soil_Type_32  \\\n",
       "290505                               190.0  ...           1.0           0.0   \n",
       "532739                              1982.0  ...           0.0           0.0   \n",
       "532740                              2005.0  ...           0.0           0.0   \n",
       "532741                              2029.0  ...           0.0           0.0   \n",
       "532742                              2052.0  ...           0.0           0.0   \n",
       "...                                    ...  ...           ...           ...   \n",
       "399826                              1642.0  ...           0.0           0.0   \n",
       "399825                              1583.0  ...           1.0           0.0   \n",
       "399824                              1524.0  ...           1.0           0.0   \n",
       "399812                              1113.0  ...           1.0           0.0   \n",
       "293238                              3999.0  ...           0.0           0.0   \n",
       "\n",
       "        Soil_Type_33  Soil_Type_34  Soil_Type_35  Soil_Type_36  Soil_Type_37  \\\n",
       "290505           0.0           0.0           0.0           0.0           0.0   \n",
       "532739           0.0           0.0           0.0           0.0           0.0   \n",
       "532740           0.0           0.0           0.0           0.0           0.0   \n",
       "532741           0.0           0.0           0.0           0.0           0.0   \n",
       "532742           0.0           0.0           0.0           0.0           0.0   \n",
       "...              ...           ...           ...           ...           ...   \n",
       "399826           0.0           0.0           0.0           0.0           0.0   \n",
       "399825           0.0           0.0           0.0           0.0           0.0   \n",
       "399824           0.0           0.0           0.0           0.0           0.0   \n",
       "399812           0.0           0.0           0.0           0.0           0.0   \n",
       "293238           0.0           0.0           0.0           0.0           1.0   \n",
       "\n",
       "        Soil_Type_38  Soil_Type_39  Cover_Type  \n",
       "290505           0.0           0.0           1  \n",
       "532739           0.0           0.0           1  \n",
       "532740           0.0           0.0           1  \n",
       "532741           0.0           0.0           1  \n",
       "532742           0.0           0.0           1  \n",
       "...              ...           ...         ...  \n",
       "399826           0.0           0.0           7  \n",
       "399825           0.0           0.0           7  \n",
       "399824           0.0           0.0           7  \n",
       "399812           0.0           0.0           7  \n",
       "293238           0.0           0.0           7  \n",
       "\n",
       "[581012 rows x 55 columns]"
      ]
     },
     "execution_count": 4,
     "metadata": {},
     "output_type": "execute_result"
    }
   ],
   "source": [
    "forestlist = forest.frame\n",
    "forestlistSorted = forestlist.sort_values(by='Cover_Type')\n",
    "forestlistSorted"
   ]
  },
  {
   "cell_type": "markdown",
   "id": "ad685848-0852-40ec-9224-6479edcfbadf",
   "metadata": {
    "tags": []
   },
   "source": [
    "## training and test data"
   ]
  },
  {
   "cell_type": "code",
   "execution_count": 5,
   "id": "d7374455-6ab6-482b-914d-7d25c028307e",
   "metadata": {},
   "outputs": [
    {
     "data": {
      "text/plain": [
       "(581012, 54)"
      ]
     },
     "execution_count": 5,
     "metadata": {},
     "output_type": "execute_result"
    }
   ],
   "source": [
    "covertype['data'].shape"
   ]
  },
  {
   "cell_type": "code",
   "execution_count": 6,
   "id": "aa2226cd-ac5d-44b9-81d3-86e117c60d97",
   "metadata": {},
   "outputs": [],
   "source": [
    "X_c = covertype['data']\n",
    "y_c = covertype['target']"
   ]
  },
  {
   "cell_type": "code",
   "execution_count": 7,
   "id": "e95d3764-9b2c-4c58-a730-8b7167b298a5",
   "metadata": {},
   "outputs": [
    {
     "name": "stdout",
     "output_type": "stream",
     "text": [
      "(435759, 54)\n",
      "(145253, 54)\n"
     ]
    }
   ],
   "source": [
    "X_train_c, X_test_c, y_train_c, y_test_c = train_test_split(X_c, y_c)\n",
    "print(X_train_c.shape) \n",
    "print(X_test_c.shape)"
   ]
  },
  {
   "cell_type": "code",
   "execution_count": 8,
   "id": "1e55d24c-b370-4bec-95d4-52c00074d70c",
   "metadata": {},
   "outputs": [
    {
     "data": {
      "text/plain": [
       "StandardScaler()"
      ]
     },
     "execution_count": 8,
     "metadata": {},
     "output_type": "execute_result"
    }
   ],
   "source": [
    "scaler_c = StandardScaler()\n",
    "# Fit only to the training data\n",
    "scaler_c.fit(X_train_c)"
   ]
  },
  {
   "cell_type": "code",
   "execution_count": 9,
   "id": "2892e8de-0ce9-4e7a-aab7-6b188f2a8c0d",
   "metadata": {},
   "outputs": [],
   "source": [
    "X_train_c = scaler_c.transform(X_train_c)\n",
    "X_test_c = scaler_c.transform(X_test_c)"
   ]
  },
  {
   "cell_type": "code",
   "execution_count": 10,
   "id": "fbdcb1ab-db1f-4585-9d11-b7c56775370d",
   "metadata": {},
   "outputs": [],
   "source": [
    "classificationList = []\n",
    "curve = []\n",
    "validation = []\n",
    "iteration = []\n",
    "\n",
    "#validationList = []\n",
    "#curve_test = []\n",
    "#validation_test = []\n",
    "#iteration_test = []\n",
    "\n",
    "accuracyList = []\n",
    "recallList = []\n",
    "precisionList = []"
   ]
  },
  {
   "cell_type": "markdown",
   "id": "1ad8a3ff-1ec6-4b47-b833-497c31f505d7",
   "metadata": {
    "jp-MarkdownHeadingCollapsed": true,
    "tags": []
   },
   "source": [
    "## functions"
   ]
  },
  {
   "cell_type": "code",
   "execution_count": 11,
   "id": "00451c60-04e7-4cb1-85f2-cc748c4d0ba4",
   "metadata": {},
   "outputs": [],
   "source": [
    "def plotData():\n",
    "    fig, axes = plt.subplots(3,2)\n",
    "    sns.histplot(data=forestlistSorted, x=\"Elevation\", color=\"skyblue\", label=\"Elevation\", kde=True, ax=axes[0,0])\n",
    "    sns.histplot(data=forestlistSorted, x=\"Aspect\", color=\"red\", label=\"Aspect\", kde=True, ax=axes[0,0])\n",
    "    sns.histplot(data=forestlistSorted, x=\"Slope\", color=\"orange\", label=\"Slope\", kde=True, ax=axes[0,0])\n",
    "    plt.legend() \n",
    "\n",
    "    sns.histplot(data=forestlistSorted, x=\"Horizontal_Distance_To_Hydrology\", color=\"skyblue\", label=\"Horizontal_Distance_To_Hydrology\", kde=True, ax=axes[0,1])\n",
    "    sns.histplot(data=forestlistSorted, x=\"Vertical_Distance_To_Hydrology\", color=\"red\", label=\"Vertical_Distance_To_Hydrology\", kde=True, ax=axes[0,1])\n",
    "    sns.histplot(data=forestlistSorted, x=\"Horizontal_Distance_To_Roadways\", color=\"orange\", label=\"Horizontal_Distance_To_Roadways\", kde=True, ax=axes[0,1])\n",
    "    sns.histplot(data=forestlistSorted, x=\"Horizontal_Distance_To_Fire_Points\", color=\"green\", label=\"Horizontal_Distance_To_Fire_Points\", kde=True, ax=axes[0,1])\n",
    "    plt.legend() \n",
    "\n",
    "    sns.histplot(data=forestlistSorted, x=\"Hillshade_9am\", color=\"skyblue\", label=\"Hillshade_9am\", kde=True, ax=axes[1,0])\n",
    "    sns.histplot(data=forestlistSorted, x=\"Hillshade_Noon\", color=\"red\", label=\"Hillshade_Noon\", kde=True, ax=axes[1,0])\n",
    "    sns.histplot(data=forestlistSorted, x=\"Hillshade_3pm\", color=\"orange\", label=\"Hillshade_3pm\", kde=True, ax=axes[1,0])\n",
    "    plt.legend() \n",
    "\n",
    "    sns.histplot(data=forestlistSorted, x=\"Soil_Type_31\", color=\"skyblue\", label=\"Soil_Type_31\", kde=True, ax=axes[1,1])\n",
    "    sns.histplot(data=forestlistSorted, x=\"Soil_Type_32\", color=\"red\", label=\"Soil_Type_32\", kde=True, ax=axes[1,1])\n",
    "    sns.histplot(data=forestlistSorted, x=\"Soil_Type_33\", color=\"orange\", label=\"Soil_Type_33\", kde=True, ax=axes[1,1])\n",
    "    sns.histplot(data=forestlistSorted, x=\"Soil_Type_34\", color=\"cyan\", label=\"Soil_Type_34\", kde=True, ax=axes[1,1])\n",
    "    sns.histplot(data=forestlistSorted, x=\"Soil_Type_35\", color=\"darkgreen\", label=\"Soil_Type_35\", kde=True, ax=axes[1,1])\n",
    "    sns.histplot(data=forestlistSorted, x=\"Soil_Type_36\", color=\"gold\", label=\"Soil_Type_36\", kde=True, ax=axes[1,1])\n",
    "    sns.histplot(data=forestlistSorted, x=\"Soil_Type_37\", color=\"purple\", label=\"Soil_Type_37\", kde=True, ax=axes[1,1])\n",
    "    sns.histplot(data=forestlistSorted, x=\"Soil_Type_38\", color=\"silver\", label=\"Soil_Type_38\", kde=True, ax=axes[1,1])\n",
    "    sns.histplot(data=forestlistSorted, x=\"Soil_Type_39\", color=\"navy\", label=\"Soil_Type_39\", kde=True, ax=axes[1,1])\n",
    "    plt.legend() \n",
    "\n",
    "    sns.histplot(data=forestlistSorted, x=\"Cover_Type\", color=\"orange\", label=\"Cover_Type\",  ax=axes[2,1], discrete=True, kde=False)\n",
    "    plt.legend() \n",
    "    fig.tight_layout()"
   ]
  },
  {
   "cell_type": "code",
   "execution_count": 12,
   "id": "207ed85a-e659-4bb9-b533-fc3dc2a39ea1",
   "metadata": {},
   "outputs": [],
   "source": [
    "def addToList(mlp, liste):\n",
    "    liste.append(mlp)"
   ]
  },
  {
   "cell_type": "code",
   "execution_count": 13,
   "id": "2b80fe74-be82-444d-ac56-b6a8f4797089",
   "metadata": {},
   "outputs": [],
   "source": [
    "def removeFromList(mlp, liste):\n",
    "    liste.remove(mlp)"
   ]
  },
  {
   "cell_type": "code",
   "execution_count": 14,
   "id": "8384363b-3a23-4ea7-9ddf-e8e2fb0fcd49",
   "metadata": {},
   "outputs": [],
   "source": [
    "def comparison(List):\n",
    "    for mlp in List:\n",
    "        print(mlp)\n",
    "        print('\\nparamters: ' + str(mlp.get_params(deep=True)))\n",
    "        print('\\nlast loss: ' + str(mlp.loss_))\n",
    "        print('\\nnumber of features seen during fit: ' + str(mlp.n_features_in_))\n",
    "        print('\\nnumber of layers: ' + str(mlp.n_layers_))\n",
    "        print('\\nnumber of outputs: ' + str(mlp.n_outputs_))\n",
    "        print('\\nname of output activation function: ' + str(mlp.out_activation_) )\n",
    "        print('\\nnumber of iterations: ' +str(mlp.n_iter_) )\n",
    "        print('\\nnumber training samples seen by the solver during fitting: ' +str(mlp.t_) )\n",
    "        print('****************************************************************************************')"
   ]
  },
  {
   "cell_type": "code",
   "execution_count": 15,
   "id": "76d31667-65c3-4d58-89a5-0c8e333620a2",
   "metadata": {},
   "outputs": [],
   "source": [
    "def curveValidateIteration(List, c, v, i):\n",
    "    for mlp in List:\n",
    "        c.append(mlp.loss_curve_)\n",
    "        v.append(mlp.validation_scores_)\n",
    "        i.append(np.arange(1, mlp.n_iter_+1))"
   ]
  },
  {
   "cell_type": "markdown",
   "id": "ecba6578-cde2-4e01-970c-209a788ea8ed",
   "metadata": {},
   "source": [
    "__________________________________________________________________________________________________________________________________"
   ]
  },
  {
   "cell_type": "code",
   "execution_count": 16,
   "id": "4e8f31d2-0b07-4411-8bc6-1c2c68b140fa",
   "metadata": {},
   "outputs": [],
   "source": [
    "cmap = ListedColormap([\"coral\", \"azure\", \"indigo\", \"darkgreen\", \"lightblue\", \"crimson\", \"gold\", \"silver\", \"teal\"])\n",
    "def plotCurvePerInteration(List, curvy, iterate):\n",
    "    print('default: hidden_layer = (100,), activation = relu, solver = adam, alpha = 0.0001, learning_rate = constant, learning_rate_init = 0.001, max_iter = 200, shuffle = true, early_stopping & warm_start = FALSE')\n",
    "    print('Alle Infos, die davon abweichen, werden in der Legende gelistet')\n",
    "    print('****************************************************************************************')\n",
    "    for i,c,cl in zip(iterate, curvy, List):\n",
    "        plt.scatter(i,c, marker = '.', label = str(cl))\n",
    "    plt.title('Losscurve per iteration')\n",
    "    plt.xlabel(\"iteration\")\n",
    "    plt.ylabel(\"loss curve\")\n",
    "    plt.legend(bbox_to_anchor=(1.05, 1.0), loc='upper left')\n",
    "    plt.show()"
   ]
  },
  {
   "cell_type": "code",
   "execution_count": 17,
   "id": "a3ef3f87-42fb-46b9-96f7-7b363ec85fc4",
   "metadata": {},
   "outputs": [],
   "source": [
    "def plotValidationPerInteration(List, validate, iterate):\n",
    "    for i,v, cl in zip(iterate, validate, List):\n",
    "        plt.scatter(i,v, marker = '.', label = str(cl))\n",
    "    plt.title('Validation per iteration')\n",
    "    plt.xlabel(\"iteration\")\n",
    "    plt.ylabel(\"validation\")\n",
    "    plt.legend(bbox_to_anchor=(1.05, 1.0), loc='upper left')\n",
    "    plt.show()"
   ]
  },
  {
   "cell_type": "code",
   "execution_count": 18,
   "id": "25ada7f9-9a81-4a58-80ae-1bea09db70f0",
   "metadata": {},
   "outputs": [],
   "source": [
    "def plotValidationPercurve(List, validate, curvy):\n",
    "    for c,v,cl in zip(validate, curvy, List):\n",
    "        plt.scatter(c,v, marker = '.', label = str(cl))\n",
    "    plt.title('Validation per curve')\n",
    "    plt.xlabel(\"validation\")\n",
    "    plt.ylabel(\"curve\")\n",
    "    plt.legend(bbox_to_anchor=(1.05, 1.0), loc='upper left')\n",
    "    plt.show()\n"
   ]
  },
  {
   "cell_type": "markdown",
   "id": "9fcda0d6-d713-4584-ac38-41b1814e1eec",
   "metadata": {},
   "source": [
    "__________________________________________________________________________________________________________________________________"
   ]
  },
  {
   "cell_type": "code",
   "execution_count": 19,
   "id": "ad8cf6d8-5f4f-477f-9b18-8acb297611fa",
   "metadata": {},
   "outputs": [],
   "source": [
    "def heatmaping(List):\n",
    "    for mlp in List:\n",
    "        print(mlp)\n",
    "        predictions = mlp.predict(X_test_c)   \n",
    "        con_ma = confusion_matrix(y_test_c,predictions)\n",
    "        con_ma_perc = np.empty([7, 7], dtype=float)\n",
    "\n",
    "        for i in range(0, 7):\n",
    "            number = 0.0\n",
    "            for j in range(0, 7):\n",
    "                number += con_ma[i][j]\n",
    "            for j in range(0, 7):\n",
    "                con_ma_perc[i][j] = 100/number*con_ma[i][j]\n",
    "\n",
    "        tree = ['Spruce', 'Lodgepole Pine', 'PoderosaPine', 'Cottonwood/Willow', 'Aspen', 'Douglas-fir', 'Krummholz']\n",
    "\n",
    "        # ======== Plot confuse matrix prozentual ========\n",
    "\n",
    "        ay = sns.heatmap(con_ma_perc, annot=True, cmap='coolwarm', yticklabels=tree, xticklabels=tree, fmt='.2f', vmin=0, vmax=100)\n",
    "        ay.xaxis.tick_top()\n",
    "        ay.xaxis.set_label_position('top')\n",
    "        plt.xticks(rotation=90)\n",
    "        ay.set(title=\"Confusion Matrix - Recall\",\n",
    "              xlabel=\"- Predicted Tree -\",\n",
    "              ylabel=\"- Actual Tree -\")\n",
    "        plt.show()"
   ]
  },
  {
   "cell_type": "code",
   "execution_count": 20,
   "id": "633860b1-fd10-4b7a-b001-8bacfb1ce97c",
   "metadata": {},
   "outputs": [],
   "source": [
    "def reporting(List):\n",
    "    for mlp in List:\n",
    "        print(mlp)\n",
    "        predictions = mlp.predict(X_test_c)\n",
    "        print(classification_report(y_test_c,predictions))"
   ]
  },
  {
   "cell_type": "code",
   "execution_count": 21,
   "id": "1e4d2697-5eb8-4deb-a58a-a9cde3fc2599",
   "metadata": {},
   "outputs": [],
   "source": [
    "def accuracyPlotting(List):\n",
    "        for mlp in List:\n",
    "            print(mlp)\n",
    "            predictions = mlp.predict(X_test_c)\n",
    "            accuracy = accuracy_score(y_test_c, predictions)\n",
    "            recall = recall_score(y_test_c, predictions, average = 'weighted')\n",
    "            precision = precision_score(y_test_c, predictions, average = 'weighted')\n",
    "            \n",
    "            addToList(accuracy, accuracyList)\n",
    "            addToList(recall, recallList)\n",
    "            addToList(precision, precisionList)\n",
    "            \n",
    "            print('Accuracy: \\t{0:.2f}'.format(accuracy * 100.0))\n",
    "            print('Recall: \\t{0:.2f}'.format(recall * 100.0))\n",
    "            print('precision: \\t{0:.2f}'.format(precision * 100.0))"
   ]
  },
  {
   "cell_type": "markdown",
   "id": "3f628e5a-26a7-4774-8cbc-9913bb044787",
   "metadata": {},
   "source": [
    "## initializing nets\n",
    "### Learning Rates\n",
    "Gewichte updaten"
   ]
  },
  {
   "cell_type": "markdown",
   "id": "8aa91474-4585-43a0-8506-fd28bf269907",
   "metadata": {},
   "source": [
    "### Constant\n",
    "</li> konstante learningrate nach learing_rate_init </li>\n",
    "</li> learing_rate_init-Default Wert  = 0.001. Nur bei sgd oder adam </li>"
   ]
  },
  {
   "cell_type": "code",
   "execution_count": 22,
   "id": "2a21184a-dd71-4064-adad-44372e811ed5",
   "metadata": {
    "collapsed": true,
    "jupyter": {
     "outputs_hidden": true
    },
    "tags": []
   },
   "outputs": [
    {
     "name": "stdout",
     "output_type": "stream",
     "text": [
      "Iteration 1, loss = 0.90565625\n",
      "Validation score: 0.709519\n",
      "Iteration 2, loss = 0.68097181\n",
      "Validation score: 0.728543\n",
      "Iteration 3, loss = 0.64408364\n",
      "Validation score: 0.735198\n",
      "Iteration 4, loss = 0.62388527\n",
      "Validation score: 0.741647\n",
      "Iteration 5, loss = 0.60981223\n",
      "Validation score: 0.744515\n",
      "Iteration 6, loss = 0.59914948\n",
      "Validation score: 0.747476\n",
      "Iteration 7, loss = 0.59059036\n",
      "Validation score: 0.749954\n",
      "Iteration 8, loss = 0.58331149\n",
      "Validation score: 0.753328\n",
      "Iteration 9, loss = 0.57680690\n",
      "Validation score: 0.757458\n",
      "Iteration 10, loss = 0.57071721\n",
      "Validation score: 0.757848\n",
      "Iteration 11, loss = 0.56568264\n",
      "Validation score: 0.761222\n",
      "Iteration 12, loss = 0.56077832\n",
      "Validation score: 0.762966\n",
      "Iteration 13, loss = 0.55606490\n",
      "Validation score: 0.763769\n",
      "Iteration 14, loss = 0.55159339\n",
      "Validation score: 0.764572\n",
      "Iteration 15, loss = 0.54739960\n",
      "Validation score: 0.767739\n",
      "Iteration 16, loss = 0.54274245\n",
      "Validation score: 0.769919\n",
      "Iteration 17, loss = 0.53862060\n",
      "Validation score: 0.769667\n",
      "Iteration 18, loss = 0.53477328\n",
      "Validation score: 0.772627\n",
      "Iteration 19, loss = 0.53123090\n",
      "Validation score: 0.774234\n",
      "Iteration 20, loss = 0.52780333\n",
      "Validation score: 0.775610\n",
      "Iteration 21, loss = 0.52462900\n",
      "Validation score: 0.775656\n",
      "Iteration 22, loss = 0.52189482\n",
      "Validation score: 0.777607\n",
      "Iteration 23, loss = 0.51919369\n",
      "Validation score: 0.779076\n",
      "Iteration 24, loss = 0.51616599\n",
      "Validation score: 0.780980\n",
      "Iteration 25, loss = 0.51382639\n",
      "Validation score: 0.780613\n",
      "Iteration 26, loss = 0.51119291\n",
      "Validation score: 0.782541\n",
      "Iteration 27, loss = 0.50908415\n",
      "Validation score: 0.783780\n",
      "Iteration 28, loss = 0.50685423\n",
      "Validation score: 0.783803\n",
      "Iteration 29, loss = 0.50481624\n",
      "Validation score: 0.785960\n",
      "Iteration 30, loss = 0.50248799\n",
      "Validation score: 0.789035\n",
      "Iteration 31, loss = 0.50047205\n",
      "Validation score: 0.787934\n",
      "Iteration 32, loss = 0.49856502\n",
      "Validation score: 0.789563\n",
      "Iteration 33, loss = 0.49691348\n",
      "Validation score: 0.790756\n",
      "Iteration 34, loss = 0.49524733\n",
      "Validation score: 0.790917\n",
      "Iteration 35, loss = 0.49348202\n",
      "Validation score: 0.790022\n",
      "Iteration 36, loss = 0.49217606\n",
      "Validation score: 0.791169\n",
      "Iteration 37, loss = 0.49053309\n",
      "Validation score: 0.790710\n",
      "Iteration 38, loss = 0.48923623\n",
      "Validation score: 0.792271\n",
      "Iteration 39, loss = 0.48786257\n",
      "Validation score: 0.794038\n",
      "Iteration 40, loss = 0.48637210\n",
      "Validation score: 0.790596\n",
      "Iteration 41, loss = 0.48506917\n",
      "Validation score: 0.794474\n",
      "Iteration 42, loss = 0.48345053\n",
      "Validation score: 0.795644\n",
      "Iteration 43, loss = 0.48204633\n",
      "Validation score: 0.795943\n",
      "Iteration 44, loss = 0.48081738\n",
      "Validation score: 0.795438\n",
      "Iteration 45, loss = 0.47937875\n",
      "Validation score: 0.795667\n",
      "Iteration 46, loss = 0.47843194\n",
      "Validation score: 0.795438\n",
      "Iteration 47, loss = 0.47699311\n",
      "Validation score: 0.796425\n",
      "Iteration 48, loss = 0.47602143\n",
      "Validation score: 0.798559\n",
      "Iteration 49, loss = 0.47482305\n",
      "Validation score: 0.797205\n",
      "Iteration 50, loss = 0.47381143\n",
      "Validation score: 0.799867\n",
      "Iteration 51, loss = 0.47289008\n",
      "Validation score: 0.799867\n",
      "Iteration 52, loss = 0.47163345\n",
      "Validation score: 0.798605\n",
      "Iteration 53, loss = 0.47072711\n",
      "Validation score: 0.800831\n",
      "Iteration 54, loss = 0.46979872\n",
      "Validation score: 0.802070\n",
      "Iteration 55, loss = 0.46896636\n",
      "Validation score: 0.795346\n",
      "Iteration 56, loss = 0.46819534\n",
      "Validation score: 0.799913\n",
      "Iteration 57, loss = 0.46756784\n",
      "Validation score: 0.802070\n",
      "Iteration 58, loss = 0.46639234\n",
      "Validation score: 0.802231\n",
      "Iteration 59, loss = 0.46555708\n",
      "Validation score: 0.804066\n",
      "Iteration 60, loss = 0.46493275\n",
      "Validation score: 0.804273\n",
      "Iteration 61, loss = 0.46429003\n",
      "Validation score: 0.804411\n",
      "Iteration 62, loss = 0.46338454\n",
      "Validation score: 0.802024\n",
      "Iteration 63, loss = 0.46252750\n",
      "Validation score: 0.805811\n",
      "Iteration 64, loss = 0.46160959\n",
      "Validation score: 0.801404\n",
      "Iteration 65, loss = 0.46124237\n",
      "Validation score: 0.805558\n",
      "Iteration 66, loss = 0.46026263\n",
      "Validation score: 0.803722\n",
      "Iteration 67, loss = 0.45957441\n",
      "Validation score: 0.806751\n",
      "Iteration 68, loss = 0.45885669\n",
      "Validation score: 0.804411\n",
      "Iteration 69, loss = 0.45819684\n",
      "Validation score: 0.809184\n",
      "Iteration 70, loss = 0.45741093\n",
      "Validation score: 0.804594\n",
      "Iteration 71, loss = 0.45670566\n",
      "Validation score: 0.809827\n",
      "Iteration 72, loss = 0.45620000\n",
      "Validation score: 0.808266\n",
      "Iteration 73, loss = 0.45486506\n",
      "Validation score: 0.808450\n",
      "Iteration 74, loss = 0.45442382\n",
      "Validation score: 0.806935\n",
      "Iteration 75, loss = 0.45340245\n",
      "Validation score: 0.809184\n",
      "Iteration 76, loss = 0.45250188\n",
      "Validation score: 0.808679\n",
      "Iteration 77, loss = 0.45211450\n",
      "Validation score: 0.808518\n",
      "Iteration 78, loss = 0.45131484\n",
      "Validation score: 0.809482\n",
      "Iteration 79, loss = 0.45062095\n",
      "Validation score: 0.810630\n",
      "Iteration 80, loss = 0.45015098\n",
      "Validation score: 0.811387\n",
      "Iteration 81, loss = 0.44942935\n",
      "Validation score: 0.810492\n",
      "Iteration 82, loss = 0.44857030\n",
      "Validation score: 0.810721\n",
      "Iteration 83, loss = 0.44833614\n",
      "Validation score: 0.812466\n",
      "Iteration 84, loss = 0.44714439\n",
      "Validation score: 0.808335\n",
      "Iteration 85, loss = 0.44666273\n",
      "Validation score: 0.809230\n",
      "Iteration 86, loss = 0.44634101\n",
      "Validation score: 0.814049\n",
      "Iteration 87, loss = 0.44573026\n",
      "Validation score: 0.811456\n",
      "Iteration 88, loss = 0.44541154\n",
      "Validation score: 0.813246\n",
      "Iteration 89, loss = 0.44474622\n",
      "Validation score: 0.812879\n",
      "Iteration 90, loss = 0.44442038\n",
      "Validation score: 0.810721\n",
      "Iteration 91, loss = 0.44385301\n",
      "Validation score: 0.810767\n",
      "Iteration 92, loss = 0.44328722\n",
      "Validation score: 0.812947\n",
      "Iteration 93, loss = 0.44289770\n",
      "Validation score: 0.814072\n",
      "Iteration 94, loss = 0.44211369\n",
      "Validation score: 0.813269\n",
      "Iteration 95, loss = 0.44131522\n",
      "Validation score: 0.812947\n",
      "Iteration 96, loss = 0.44118854\n",
      "Validation score: 0.815770\n",
      "Iteration 97, loss = 0.44049282\n",
      "Validation score: 0.813108\n",
      "Iteration 98, loss = 0.44012945\n",
      "Validation score: 0.813406\n",
      "Iteration 99, loss = 0.43949939\n",
      "Validation score: 0.809184\n",
      "Iteration 100, loss = 0.43906232\n",
      "Validation score: 0.815564\n",
      "Iteration 101, loss = 0.43890353\n",
      "Validation score: 0.816114\n",
      "Iteration 102, loss = 0.43826119\n",
      "Validation score: 0.813980\n",
      "Iteration 103, loss = 0.43748313\n",
      "Validation score: 0.813544\n",
      "Iteration 104, loss = 0.43709447\n",
      "Validation score: 0.817193\n",
      "Iteration 105, loss = 0.43676006\n",
      "Validation score: 0.817399\n",
      "Iteration 106, loss = 0.43613204\n",
      "Validation score: 0.813728\n",
      "Iteration 107, loss = 0.43541895\n",
      "Validation score: 0.816091\n",
      "Iteration 108, loss = 0.43478063\n",
      "Validation score: 0.816160\n",
      "Iteration 109, loss = 0.43456696\n",
      "Validation score: 0.817124\n",
      "Iteration 110, loss = 0.43380761\n",
      "Validation score: 0.817858\n",
      "Iteration 111, loss = 0.43337743\n",
      "Validation score: 0.817193\n",
      "Iteration 112, loss = 0.43294640\n",
      "Validation score: 0.818409\n",
      "Iteration 113, loss = 0.43246647\n",
      "Validation score: 0.818570\n",
      "Iteration 114, loss = 0.43180199\n",
      "Validation score: 0.821255\n",
      "Iteration 115, loss = 0.43095933\n",
      "Validation score: 0.815816\n",
      "Iteration 116, loss = 0.43090522\n",
      "Validation score: 0.814164\n",
      "Iteration 117, loss = 0.43015819\n",
      "Validation score: 0.817698\n",
      "Iteration 118, loss = 0.43000157\n",
      "Validation score: 0.817973\n",
      "Iteration 119, loss = 0.42952160\n",
      "Validation score: 0.819970\n",
      "Iteration 120, loss = 0.42875632\n",
      "Validation score: 0.822724\n",
      "Iteration 121, loss = 0.42839112\n",
      "Validation score: 0.821209\n",
      "Iteration 122, loss = 0.42789739\n",
      "Validation score: 0.814554\n",
      "Iteration 123, loss = 0.42728934\n",
      "Validation score: 0.821760\n",
      "Iteration 124, loss = 0.42698510\n",
      "Validation score: 0.817836\n",
      "Iteration 125, loss = 0.42677295\n",
      "Validation score: 0.822012\n",
      "Iteration 126, loss = 0.42570343\n",
      "Validation score: 0.822632\n",
      "Iteration 127, loss = 0.42607754\n",
      "Validation score: 0.819580\n",
      "Iteration 128, loss = 0.42585610\n",
      "Validation score: 0.821232\n",
      "Iteration 129, loss = 0.42506268\n",
      "Validation score: 0.823274\n",
      "Iteration 130, loss = 0.42478349\n",
      "Validation score: 0.823114\n",
      "Iteration 131, loss = 0.42449175\n",
      "Validation score: 0.823848\n",
      "Iteration 132, loss = 0.42410535\n",
      "Validation score: 0.823091\n",
      "Iteration 133, loss = 0.42374579\n",
      "Validation score: 0.826189\n",
      "Iteration 134, loss = 0.42366606\n",
      "Validation score: 0.823114\n",
      "Iteration 135, loss = 0.42299852\n",
      "Validation score: 0.827198\n",
      "Iteration 136, loss = 0.42275720\n",
      "Validation score: 0.821829\n",
      "Iteration 137, loss = 0.42232495\n",
      "Validation score: 0.827061\n",
      "Iteration 138, loss = 0.42219676\n",
      "Validation score: 0.822425\n",
      "Iteration 139, loss = 0.42203892\n",
      "Validation score: 0.821553\n",
      "Iteration 140, loss = 0.42146153\n",
      "Validation score: 0.823091\n",
      "Iteration 141, loss = 0.42166554\n",
      "Validation score: 0.823251\n",
      "Iteration 142, loss = 0.42100784\n",
      "Validation score: 0.819993\n",
      "Iteration 143, loss = 0.42076588\n",
      "Validation score: 0.825730\n",
      "Iteration 144, loss = 0.42022611\n",
      "Validation score: 0.824536\n",
      "Iteration 145, loss = 0.42019343\n",
      "Validation score: 0.827198\n",
      "Iteration 146, loss = 0.41965112\n",
      "Validation score: 0.817950\n",
      "Validation score did not improve more than tol=0.000100 for 10 consecutive epochs. Stopping.\n"
     ]
    }
   ],
   "source": [
    "mlp_1 = MLPClassifier(hidden_layer_sizes=(20,20,20), max_iter = 150, early_stopping = True, verbose = True, learning_rate = \"constant\", solver = \"sgd\")\n",
    "mlp_1train = mlp_1.fit(X_train_c,y_train_c)"
   ]
  },
  {
   "cell_type": "markdown",
   "id": "ce68f314-0ae2-4f07-a799-73318f259c59",
   "metadata": {},
   "source": [
    "### invscaling\n",
    "</li> nutzt inverse scaling exponent: power_t </li>\n",
    "</li> power_t - default: 0.5; nur bei sgd </li>\n",
    "$effectiveLearningRate = \\frac{learning_rate_init}"
   ]
  },
  {
   "cell_type": "code",
   "execution_count": 23,
   "id": "d4f02a3f-d77b-4d44-81cb-b207614dd4e2",
   "metadata": {
    "collapsed": true,
    "jupyter": {
     "outputs_hidden": true
    },
    "tags": []
   },
   "outputs": [
    {
     "name": "stdout",
     "output_type": "stream",
     "text": [
      "Iteration 1, loss = 0.96340896\n",
      "Validation score: 0.698963\n",
      "Iteration 2, loss = 0.73380650\n",
      "Validation score: 0.698619\n",
      "Iteration 3, loss = 0.73358293\n",
      "Validation score: 0.698596\n",
      "Iteration 4, loss = 0.73342526\n",
      "Validation score: 0.698550\n",
      "Iteration 5, loss = 0.73329657\n",
      "Validation score: 0.698664\n",
      "Iteration 6, loss = 0.73318539\n",
      "Validation score: 0.698641\n",
      "Iteration 7, loss = 0.73308627\n",
      "Validation score: 0.698779\n",
      "Iteration 8, loss = 0.73299596\n",
      "Validation score: 0.698664\n",
      "Iteration 9, loss = 0.73291250\n",
      "Validation score: 0.698664\n",
      "Iteration 10, loss = 0.73283456\n",
      "Validation score: 0.698687\n",
      "Iteration 11, loss = 0.73276124\n",
      "Validation score: 0.698733\n",
      "Iteration 12, loss = 0.73269179\n",
      "Validation score: 0.698825\n",
      "Validation score did not improve more than tol=0.000100 for 10 consecutive epochs. Stopping.\n"
     ]
    }
   ],
   "source": [
    "mlp_2 = MLPClassifier(hidden_layer_sizes=(20,20,20),  max_iter = 150, early_stopping = True, verbose = True, learning_rate = \"invscaling\", solver = \"sgd\")\n",
    "mlp_2train = mlp_2.fit(X_train_c,y_train_c)"
   ]
  },
  {
   "cell_type": "markdown",
   "id": "0530faff-8bc6-4be7-b876-7108acd7e694",
   "metadata": {},
   "source": [
    "### adaptive\n",
    "</li> constant, solange learningrate fällt. </li>\n",
    "</li> Wenn learningrate zweimal nicht fällt um tol, dann  $\\frac{learningrate}{5}$</li>"
   ]
  },
  {
   "cell_type": "code",
   "execution_count": 24,
   "id": "e0a4874c-1d2a-4cd8-bce9-17f0a2a68efd",
   "metadata": {
    "collapsed": true,
    "jupyter": {
     "outputs_hidden": true
    },
    "tags": []
   },
   "outputs": [
    {
     "name": "stdout",
     "output_type": "stream",
     "text": [
      "Iteration 1, loss = 0.86003142\n",
      "Validation score: 0.717436\n",
      "Iteration 2, loss = 0.67238721\n",
      "Validation score: 0.730815\n",
      "Iteration 3, loss = 0.64379381\n",
      "Validation score: 0.735520\n",
      "Iteration 4, loss = 0.62790428\n",
      "Validation score: 0.738755\n",
      "Iteration 5, loss = 0.61649920\n",
      "Validation score: 0.741762\n",
      "Iteration 6, loss = 0.60712373\n",
      "Validation score: 0.745341\n",
      "Iteration 7, loss = 0.59924021\n",
      "Validation score: 0.748210\n",
      "Iteration 8, loss = 0.59212563\n",
      "Validation score: 0.749771\n",
      "Iteration 9, loss = 0.58548119\n",
      "Validation score: 0.751974\n",
      "Iteration 10, loss = 0.57874882\n",
      "Validation score: 0.754796\n",
      "Iteration 11, loss = 0.57263146\n",
      "Validation score: 0.758147\n",
      "Iteration 12, loss = 0.56634497\n",
      "Validation score: 0.760304\n",
      "Iteration 13, loss = 0.56002370\n",
      "Validation score: 0.764021\n",
      "Iteration 14, loss = 0.55375005\n",
      "Validation score: 0.767923\n",
      "Iteration 15, loss = 0.54735315\n",
      "Validation score: 0.771090\n",
      "Iteration 16, loss = 0.54181143\n",
      "Validation score: 0.773224\n",
      "Iteration 17, loss = 0.53626788\n",
      "Validation score: 0.772696\n",
      "Iteration 18, loss = 0.53115499\n",
      "Validation score: 0.776758\n",
      "Iteration 19, loss = 0.52634708\n",
      "Validation score: 0.778731\n",
      "Iteration 20, loss = 0.52207716\n",
      "Validation score: 0.783298\n",
      "Iteration 21, loss = 0.51816575\n",
      "Validation score: 0.777791\n",
      "Iteration 22, loss = 0.51464916\n",
      "Validation score: 0.783069\n",
      "Iteration 23, loss = 0.51135720\n",
      "Validation score: 0.785019\n",
      "Iteration 24, loss = 0.50849778\n",
      "Validation score: 0.786281\n",
      "Iteration 25, loss = 0.50583942\n",
      "Validation score: 0.787383\n",
      "Iteration 26, loss = 0.50311623\n",
      "Validation score: 0.779879\n",
      "Iteration 27, loss = 0.50045794\n",
      "Validation score: 0.789311\n",
      "Iteration 28, loss = 0.49796923\n",
      "Validation score: 0.791628\n",
      "Iteration 29, loss = 0.49556162\n",
      "Validation score: 0.794107\n",
      "Iteration 30, loss = 0.49327060\n",
      "Validation score: 0.794704\n",
      "Iteration 31, loss = 0.49098730\n",
      "Validation score: 0.795621\n",
      "Iteration 32, loss = 0.48857672\n",
      "Validation score: 0.796654\n",
      "Iteration 33, loss = 0.48630680\n",
      "Validation score: 0.795323\n",
      "Iteration 34, loss = 0.48463856\n",
      "Validation score: 0.794084\n",
      "Iteration 35, loss = 0.48262794\n",
      "Validation score: 0.797595\n",
      "Iteration 36, loss = 0.48056666\n",
      "Validation score: 0.801244\n",
      "Iteration 37, loss = 0.47882794\n",
      "Validation score: 0.801244\n",
      "Iteration 38, loss = 0.47703523\n",
      "Validation score: 0.801772\n",
      "Iteration 39, loss = 0.47513877\n",
      "Validation score: 0.801749\n",
      "Iteration 40, loss = 0.47317231\n",
      "Validation score: 0.802368\n",
      "Iteration 41, loss = 0.47188679\n",
      "Validation score: 0.802506\n",
      "Iteration 42, loss = 0.47077564\n",
      "Validation score: 0.804916\n",
      "Iteration 43, loss = 0.46913103\n",
      "Validation score: 0.801795\n",
      "Iteration 44, loss = 0.46760260\n",
      "Validation score: 0.805191\n",
      "Iteration 45, loss = 0.46640746\n",
      "Validation score: 0.808014\n",
      "Iteration 46, loss = 0.46525253\n",
      "Validation score: 0.806889\n",
      "Iteration 47, loss = 0.46408344\n",
      "Validation score: 0.809207\n",
      "Iteration 48, loss = 0.46267396\n",
      "Validation score: 0.809941\n",
      "Iteration 49, loss = 0.46189318\n",
      "Validation score: 0.807394\n",
      "Iteration 50, loss = 0.46078167\n",
      "Validation score: 0.810744\n",
      "Iteration 51, loss = 0.45959953\n",
      "Validation score: 0.811249\n",
      "Iteration 52, loss = 0.45842832\n",
      "Validation score: 0.810469\n",
      "Iteration 53, loss = 0.45724573\n",
      "Validation score: 0.807830\n",
      "Iteration 54, loss = 0.45640665\n",
      "Validation score: 0.813177\n",
      "Iteration 55, loss = 0.45546893\n",
      "Validation score: 0.810859\n",
      "Iteration 56, loss = 0.45459717\n",
      "Validation score: 0.814347\n",
      "Iteration 57, loss = 0.45351470\n",
      "Validation score: 0.815564\n",
      "Iteration 58, loss = 0.45304281\n",
      "Validation score: 0.813590\n",
      "Iteration 59, loss = 0.45227381\n",
      "Validation score: 0.809987\n",
      "Iteration 60, loss = 0.45145874\n",
      "Validation score: 0.816275\n",
      "Iteration 61, loss = 0.45090821\n",
      "Validation score: 0.813498\n",
      "Iteration 62, loss = 0.45011916\n",
      "Validation score: 0.816527\n",
      "Iteration 63, loss = 0.44929031\n",
      "Validation score: 0.813820\n",
      "Iteration 64, loss = 0.44887295\n",
      "Validation score: 0.816046\n",
      "Iteration 65, loss = 0.44778155\n",
      "Validation score: 0.813934\n",
      "Iteration 66, loss = 0.44691035\n",
      "Validation score: 0.812053\n",
      "Iteration 67, loss = 0.44627618\n",
      "Validation score: 0.808656\n",
      "Iteration 68, loss = 0.44537823\n",
      "Validation score: 0.815128\n",
      "Iteration 69, loss = 0.44481216\n",
      "Validation score: 0.818340\n",
      "Iteration 70, loss = 0.44383019\n",
      "Validation score: 0.817308\n",
      "Iteration 71, loss = 0.44319584\n",
      "Validation score: 0.817101\n",
      "Iteration 72, loss = 0.44229597\n",
      "Validation score: 0.817629\n",
      "Iteration 73, loss = 0.44239935\n",
      "Validation score: 0.817790\n",
      "Iteration 74, loss = 0.44146943\n",
      "Validation score: 0.816206\n",
      "Iteration 75, loss = 0.44078531\n",
      "Validation score: 0.816344\n",
      "Iteration 76, loss = 0.44036847\n",
      "Validation score: 0.814095\n",
      "Iteration 77, loss = 0.43976981\n",
      "Validation score: 0.809712\n",
      "Iteration 78, loss = 0.43942339\n",
      "Validation score: 0.819717\n",
      "Iteration 79, loss = 0.43878909\n",
      "Validation score: 0.817193\n",
      "Iteration 80, loss = 0.43839612\n",
      "Validation score: 0.818203\n",
      "Iteration 81, loss = 0.43824794\n",
      "Validation score: 0.821461\n",
      "Iteration 82, loss = 0.43761222\n",
      "Validation score: 0.816642\n",
      "Iteration 83, loss = 0.43751691\n",
      "Validation score: 0.819786\n",
      "Iteration 84, loss = 0.43708437\n",
      "Validation score: 0.821645\n",
      "Iteration 85, loss = 0.43655189\n",
      "Validation score: 0.820750\n",
      "Iteration 86, loss = 0.43623787\n",
      "Validation score: 0.818363\n",
      "Iteration 87, loss = 0.43592987\n",
      "Validation score: 0.821851\n",
      "Iteration 88, loss = 0.43548423\n",
      "Validation score: 0.819671\n",
      "Iteration 89, loss = 0.43512738\n",
      "Validation score: 0.819511\n",
      "Iteration 90, loss = 0.43475783\n",
      "Validation score: 0.820314\n",
      "Iteration 91, loss = 0.43443321\n",
      "Validation score: 0.822356\n",
      "Iteration 92, loss = 0.43389538\n",
      "Validation score: 0.820176\n",
      "Iteration 93, loss = 0.43360776\n",
      "Validation score: 0.820222\n",
      "Iteration 94, loss = 0.43318184\n",
      "Validation score: 0.823871\n",
      "Iteration 95, loss = 0.43245790\n",
      "Validation score: 0.816665\n",
      "Iteration 96, loss = 0.43193803\n",
      "Validation score: 0.817285\n",
      "Iteration 97, loss = 0.43167389\n",
      "Validation score: 0.821760\n",
      "Iteration 98, loss = 0.43136675\n",
      "Validation score: 0.821691\n",
      "Iteration 99, loss = 0.43115519\n",
      "Validation score: 0.822494\n",
      "Iteration 100, loss = 0.43086948\n",
      "Validation score: 0.823504\n",
      "Iteration 101, loss = 0.43030930\n",
      "Validation score: 0.820245\n",
      "Iteration 102, loss = 0.43027509\n",
      "Validation score: 0.823205\n",
      "Iteration 103, loss = 0.42950346\n",
      "Validation score: 0.823068\n",
      "Iteration 104, loss = 0.42947939\n",
      "Validation score: 0.824491\n",
      "Iteration 105, loss = 0.42913782\n",
      "Validation score: 0.823664\n",
      "Iteration 106, loss = 0.42842604\n",
      "Validation score: 0.824697\n",
      "Iteration 107, loss = 0.42819738\n",
      "Validation score: 0.822333\n",
      "Iteration 108, loss = 0.42826905\n",
      "Validation score: 0.822746\n",
      "Iteration 109, loss = 0.42755295\n",
      "Validation score: 0.820107\n",
      "Iteration 110, loss = 0.42729426\n",
      "Validation score: 0.819258\n",
      "Iteration 111, loss = 0.42718478\n",
      "Validation score: 0.824628\n",
      "Iteration 112, loss = 0.42677397\n",
      "Validation score: 0.820842\n",
      "Iteration 113, loss = 0.42628382\n",
      "Validation score: 0.824284\n",
      "Iteration 114, loss = 0.42622712\n",
      "Validation score: 0.818730\n",
      "Iteration 115, loss = 0.42603177\n",
      "Validation score: 0.820452\n",
      "Iteration 116, loss = 0.42572982\n",
      "Validation score: 0.823641\n",
      "Iteration 117, loss = 0.42541098\n",
      "Validation score: 0.826097\n",
      "Iteration 118, loss = 0.42507463\n",
      "Validation score: 0.813200\n",
      "Iteration 119, loss = 0.42505923\n",
      "Validation score: 0.825982\n",
      "Iteration 120, loss = 0.42460688\n",
      "Validation score: 0.820934\n",
      "Iteration 121, loss = 0.42462891\n",
      "Validation score: 0.822907\n",
      "Iteration 122, loss = 0.42396853\n",
      "Validation score: 0.823825\n",
      "Iteration 123, loss = 0.42398632\n",
      "Validation score: 0.824330\n",
      "Iteration 124, loss = 0.42378802\n",
      "Validation score: 0.822701\n",
      "Iteration 125, loss = 0.42317859\n",
      "Validation score: 0.826028\n",
      "Iteration 126, loss = 0.42285554\n",
      "Validation score: 0.826281\n",
      "Iteration 127, loss = 0.42251531\n",
      "Validation score: 0.822930\n",
      "Iteration 128, loss = 0.42222635\n",
      "Validation score: 0.827749\n",
      "Iteration 129, loss = 0.42200053\n",
      "Validation score: 0.826464\n",
      "Iteration 130, loss = 0.42201902\n",
      "Validation score: 0.823068\n",
      "Iteration 131, loss = 0.42146380\n",
      "Validation score: 0.826717\n",
      "Iteration 132, loss = 0.42112264\n",
      "Validation score: 0.826097\n",
      "Iteration 133, loss = 0.42076732\n",
      "Validation score: 0.822769\n",
      "Iteration 134, loss = 0.42062749\n",
      "Validation score: 0.823825\n",
      "Iteration 135, loss = 0.42003854\n",
      "Validation score: 0.825294\n",
      "Iteration 136, loss = 0.42011072\n",
      "Validation score: 0.825615\n",
      "Iteration 137, loss = 0.41953156\n",
      "Validation score: 0.826281\n",
      "Iteration 138, loss = 0.41959274\n",
      "Validation score: 0.825890\n",
      "Iteration 139, loss = 0.41931115\n",
      "Validation score: 0.825867\n",
      "Validation score did not improve more than tol=0.000100 for 10 consecutive epochs. Setting learning rate to 0.000200\n",
      "Iteration 140, loss = 0.40996782\n",
      "Validation score: 0.831719\n",
      "Iteration 141, loss = 0.40926175\n",
      "Validation score: 0.830733\n",
      "Iteration 142, loss = 0.40920091\n",
      "Validation score: 0.830205\n",
      "Iteration 143, loss = 0.40914828\n",
      "Validation score: 0.831306\n",
      "Iteration 144, loss = 0.40883874\n",
      "Validation score: 0.831398\n",
      "Iteration 145, loss = 0.40878816\n",
      "Validation score: 0.831949\n",
      "Iteration 146, loss = 0.40872617\n",
      "Validation score: 0.832086\n",
      "Iteration 147, loss = 0.40866105\n",
      "Validation score: 0.831926\n",
      "Iteration 148, loss = 0.40867656\n",
      "Validation score: 0.830755\n",
      "Iteration 149, loss = 0.40856297\n",
      "Validation score: 0.832132\n",
      "Iteration 150, loss = 0.40844862\n",
      "Validation score: 0.831467\n"
     ]
    },
    {
     "name": "stderr",
     "output_type": "stream",
     "text": [
      "/opt/jupyterhub/lib/python3.9/site-packages/sklearn/neural_network/_multilayer_perceptron.py:692: ConvergenceWarning: Stochastic Optimizer: Maximum iterations (150) reached and the optimization hasn't converged yet.\n",
      "  warnings.warn(\n"
     ]
    }
   ],
   "source": [
    "mlp_3 = MLPClassifier(hidden_layer_sizes=(20,20,20), max_iter = 150, early_stopping = True, verbose = True, learning_rate = \"adaptive\", solver = \"sgd\")\n",
    "mlp_3train = mlp_3.fit(X_train_c,y_train_c)"
   ]
  },
  {
   "cell_type": "markdown",
   "id": "f4b323c8-2457-480e-958d-2acc38eec75b",
   "metadata": {},
   "source": [
    "__________________________________________________________________________________________________________________________________"
   ]
  },
  {
   "cell_type": "code",
   "execution_count": 25,
   "id": "4ac5986c-d3f6-4858-8305-52a9e57b4518",
   "metadata": {},
   "outputs": [],
   "source": [
    "addToList(mlp_1train, classificationList)\n",
    "addToList(mlp_2train, classificationList)\n",
    "addToList(mlp_3train, classificationList)"
   ]
  },
  {
   "cell_type": "code",
   "execution_count": 26,
   "id": "56044537-957c-4290-a83a-73c02e499a82",
   "metadata": {
    "tags": []
   },
   "outputs": [
    {
     "data": {
      "text/plain": [
       "[MLPClassifier(early_stopping=True, hidden_layer_sizes=(20, 20, 20),\n",
       "               max_iter=150, solver='sgd', verbose=True),\n",
       " MLPClassifier(early_stopping=True, hidden_layer_sizes=(20, 20, 20),\n",
       "               learning_rate='invscaling', max_iter=150, solver='sgd',\n",
       "               verbose=True),\n",
       " MLPClassifier(early_stopping=True, hidden_layer_sizes=(20, 20, 20),\n",
       "               learning_rate='adaptive', max_iter=150, solver='sgd',\n",
       "               verbose=True)]"
      ]
     },
     "execution_count": 26,
     "metadata": {},
     "output_type": "execute_result"
    }
   ],
   "source": [
    "classificationList"
   ]
  },
  {
   "cell_type": "markdown",
   "id": "6d98e013-6397-47bf-9663-2415ad6c92f8",
   "metadata": {},
   "source": [
    "## Results"
   ]
  },
  {
   "cell_type": "code",
   "execution_count": 27,
   "id": "2ad41f1b-5588-42f7-8797-cd2f50093c01",
   "metadata": {
    "collapsed": true,
    "jupyter": {
     "outputs_hidden": true
    },
    "tags": []
   },
   "outputs": [
    {
     "name": "stdout",
     "output_type": "stream",
     "text": [
      "MLPClassifier(early_stopping=True, hidden_layer_sizes=(20, 20, 20),\n",
      "              max_iter=150, solver='sgd', verbose=True)\n",
      "\n",
      "paramters: {'activation': 'relu', 'alpha': 0.0001, 'batch_size': 'auto', 'beta_1': 0.9, 'beta_2': 0.999, 'early_stopping': True, 'epsilon': 1e-08, 'hidden_layer_sizes': (20, 20, 20), 'learning_rate': 'constant', 'learning_rate_init': 0.001, 'max_fun': 15000, 'max_iter': 150, 'momentum': 0.9, 'n_iter_no_change': 10, 'nesterovs_momentum': True, 'power_t': 0.5, 'random_state': None, 'shuffle': True, 'solver': 'sgd', 'tol': 0.0001, 'validation_fraction': 0.1, 'verbose': True, 'warm_start': False}\n",
      "\n",
      "last loss: 4.196511191259779e-01\n",
      "\n",
      "number of features seen during fit: 54\n",
      "\n",
      "number of layers: 5\n",
      "\n",
      "number of outputs: 7\n",
      "\n",
      "name of output activation function: softmax\n",
      "\n",
      "number of iterations: 146\n",
      "\n",
      "number training samples seen by the solver during fitting: 57258718\n",
      "****************************************************************************************\n",
      "MLPClassifier(early_stopping=True, hidden_layer_sizes=(20, 20, 20),\n",
      "              learning_rate='invscaling', max_iter=150, solver='sgd',\n",
      "              verbose=True)\n",
      "\n",
      "paramters: {'activation': 'relu', 'alpha': 0.0001, 'batch_size': 'auto', 'beta_1': 0.9, 'beta_2': 0.999, 'early_stopping': True, 'epsilon': 1e-08, 'hidden_layer_sizes': (20, 20, 20), 'learning_rate': 'invscaling', 'learning_rate_init': 0.001, 'max_fun': 15000, 'max_iter': 150, 'momentum': 0.9, 'n_iter_no_change': 10, 'nesterovs_momentum': True, 'power_t': 0.5, 'random_state': None, 'shuffle': True, 'solver': 'sgd', 'tol': 0.0001, 'validation_fraction': 0.1, 'verbose': True, 'warm_start': False}\n",
      "\n",
      "last loss: 0.7326917919951089\n",
      "\n",
      "number of features seen during fit: 54\n",
      "\n",
      "number of layers: 5\n",
      "\n",
      "number of outputs: 7\n",
      "\n",
      "name of output activation function: softmax\n",
      "\n",
      "number of iterations: 12\n",
      "\n",
      "number training samples seen by the solver during fitting: 4706196\n",
      "****************************************************************************************\n",
      "MLPClassifier(early_stopping=True, hidden_layer_sizes=(20, 20, 20),\n",
      "              learning_rate='adaptive', max_iter=150, solver='sgd',\n",
      "              verbose=True)\n",
      "\n",
      "paramters: {'activation': 'relu', 'alpha': 0.0001, 'batch_size': 'auto', 'beta_1': 0.9, 'beta_2': 0.999, 'early_stopping': True, 'epsilon': 1e-08, 'hidden_layer_sizes': (20, 20, 20), 'learning_rate': 'adaptive', 'learning_rate_init': 0.001, 'max_fun': 15000, 'max_iter': 150, 'momentum': 0.9, 'n_iter_no_change': 10, 'nesterovs_momentum': True, 'power_t': 0.5, 'random_state': None, 'shuffle': True, 'solver': 'sgd', 'tol': 0.0001, 'validation_fraction': 0.1, 'verbose': True, 'warm_start': False}\n",
      "\n",
      "last loss: 0.40844862417406114\n",
      "\n",
      "number of features seen during fit: 54\n",
      "\n",
      "number of layers: 5\n",
      "\n",
      "number of outputs: 7\n",
      "\n",
      "name of output activation function: softmax\n",
      "\n",
      "number of iterations: 150\n",
      "\n",
      "number training samples seen by the solver during fitting: 58827450\n",
      "****************************************************************************************\n"
     ]
    }
   ],
   "source": [
    "comparison(classificationList)"
   ]
  },
  {
   "cell_type": "code",
   "execution_count": 28,
   "id": "daad5cc5-0f3e-416d-bf86-f53792ab7ba2",
   "metadata": {
    "tags": []
   },
   "outputs": [
    {
     "name": "stdout",
     "output_type": "stream",
     "text": [
      "default: hidden_layer = (100,), activation = relu, solver = adam, alpha = 0.0001, learning_rate = constant, learning_rate_init = 0.001, max_iter = 200, shuffle = true, early_stopping & warm_start = FALSE\n",
      "Alle Infos, die davon abweichen, werden in der Legende gelistet\n",
      "****************************************************************************************\n"
     ]
    },
    {
     "data": {
      "image/png": "[encoded data removed]",
      "text/plain": [
       "<Figure size 432x288 with 1 Axes>"
      ]
     },
     "metadata": {
      "needs_background": "light"
     },
     "output_type": "display_data"
    },
    {
     "data": {
      "image/png": "[encoded data removed]",
      "text/plain": [
       "<Figure size 432x288 with 1 Axes>"
      ]
     },
     "metadata": {
      "needs_background": "light"
     },
     "output_type": "display_data"
    }
   ],
   "source": [
    "curveValidateIteration(classificationList, curve, validation, iteration)\n",
    "plotCurvePerInteration(classificationList, curve, iteration)\n",
    "plotValidationPerInteration(classificationList, validation, iteration)"
   ]
  },
  {
   "cell_type": "code",
   "execution_count": 29,
   "id": "715808d2-3450-4561-b72a-fe134258b439",
   "metadata": {
    "tags": []
   },
   "outputs": [
    {
     "data": {
      "image/png": "[encoded data removed]",
      "text/plain": [
       "<Figure size 432x288 with 1 Axes>"
      ]
     },
     "metadata": {
      "needs_background": "light"
     },
     "output_type": "display_data"
    }
   ],
   "source": [
    "plotValidationPercurve(classificationList, validation, curve)"
   ]
  },
  {
   "cell_type": "markdown",
   "id": "cc09c0c7-abb7-44d0-bbe0-36da87b460e4",
   "metadata": {},
   "source": [
    "## Heatmaps"
   ]
  },
  {
   "cell_type": "code",
   "execution_count": 30,
   "id": "ef05d5a2-ac58-4035-aa6c-dfa6abd61000",
   "metadata": {
    "tags": []
   },
   "outputs": [
    {
     "name": "stdout",
     "output_type": "stream",
     "text": [
      "MLPClassifier(early_stopping=True, hidden_layer_sizes=(20, 20, 20),\n",
      "              max_iter=150, solver='sgd', verbose=True)\n"
     ]
    },
    {
     "data": {
      "image/png": "[encoded data removed]",
      "text/plain": [
       "<Figure size 432x288 with 2 Axes>"
      ]
     },
     "metadata": {
      "needs_background": "light"
     },
     "output_type": "display_data"
    },
    {
     "name": "stdout",
     "output_type": "stream",
     "text": [
      "MLPClassifier(early_stopping=True, hidden_layer_sizes=(20, 20, 20),\n",
      "              learning_rate='invscaling', max_iter=150, solver='sgd',\n",
      "              verbose=True)\n"
     ]
    },
    {
     "data": {
      "image/png": "[encoded data removed]",
      "text/plain": [
       "<Figure size 432x288 with 2 Axes>"
      ]
     },
     "metadata": {
      "needs_background": "light"
     },
     "output_type": "display_data"
    },
    {
     "name": "stdout",
     "output_type": "stream",
     "text": [
      "MLPClassifier(early_stopping=True, hidden_layer_sizes=(20, 20, 20),\n",
      "              learning_rate='adaptive', max_iter=150, solver='sgd',\n",
      "              verbose=True)\n"
     ]
    },
    {
     "data": {
      "image/png": "[encoded data removed]",
      "text/plain": [
       "<Figure size 432x288 with 2 Axes>"
      ]
     },
     "metadata": {
      "needs_background": "light"
     },
     "output_type": "display_data"
    }
   ],
   "source": [
    "heatmaping(classificationList)"
   ]
  },
  {
   "cell_type": "code",
   "execution_count": 31,
   "id": "6f083132-b371-422e-9d69-2489a9f2c6db",
   "metadata": {
    "tags": []
   },
   "outputs": [
    {
     "name": "stdout",
     "output_type": "stream",
     "text": [
      "MLPClassifier(early_stopping=True, hidden_layer_sizes=(20, 20, 20),\n",
      "              max_iter=150, solver='sgd', verbose=True)\n",
      "              precision    recall  f1-score   support\n",
      "\n",
      "           1       0.83      0.82      0.83     53102\n",
      "           2       0.84      0.88      0.86     70613\n",
      "           3       0.77      0.86      0.81      9046\n",
      "           4       0.74      0.56      0.64       669\n",
      "           5       0.75      0.30      0.43      2337\n",
      "           6       0.60      0.50      0.55      4342\n",
      "           7       0.85      0.76      0.80      5144\n",
      "\n",
      "    accuracy                           0.83    145253\n",
      "   macro avg       0.77      0.67      0.70    145253\n",
      "weighted avg       0.83      0.83      0.83    145253\n",
      "\n",
      "MLPClassifier(early_stopping=True, hidden_layer_sizes=(20, 20, 20),\n",
      "              learning_rate='invscaling', max_iter=150, solver='sgd',\n",
      "              verbose=True)\n"
     ]
    },
    {
     "name": "stderr",
     "output_type": "stream",
     "text": [
      "/opt/jupyterhub/lib/python3.9/site-packages/sklearn/metrics/_classification.py:1308: UndefinedMetricWarning: Precision and F-score are ill-defined and being set to 0.0 in labels with no predicted samples. Use `zero_division` parameter to control this behavior.\n",
      "  _warn_prf(average, modifier, msg_start, len(result))\n",
      "/opt/jupyterhub/lib/python3.9/site-packages/sklearn/metrics/_classification.py:1308: UndefinedMetricWarning: Precision and F-score are ill-defined and being set to 0.0 in labels with no predicted samples. Use `zero_division` parameter to control this behavior.\n",
      "  _warn_prf(average, modifier, msg_start, len(result))\n",
      "/opt/jupyterhub/lib/python3.9/site-packages/sklearn/metrics/_classification.py:1308: UndefinedMetricWarning: Precision and F-score are ill-defined and being set to 0.0 in labels with no predicted samples. Use `zero_division` parameter to control this behavior.\n",
      "  _warn_prf(average, modifier, msg_start, len(result))\n"
     ]
    },
    {
     "name": "stdout",
     "output_type": "stream",
     "text": [
      "              precision    recall  f1-score   support\n",
      "\n",
      "           1       0.70      0.64      0.67     53102\n",
      "           2       0.72      0.81      0.76     70613\n",
      "           3       0.61      0.89      0.73      9046\n",
      "           4       0.00      0.00      0.00       669\n",
      "           5       0.00      0.00      0.00      2337\n",
      "           6       0.21      0.00      0.01      4342\n",
      "           7       0.66      0.47      0.55      5144\n",
      "\n",
      "    accuracy                           0.70    145253\n",
      "   macro avg       0.42      0.40      0.39    145253\n",
      "weighted avg       0.67      0.70      0.68    145253\n",
      "\n",
      "MLPClassifier(early_stopping=True, hidden_layer_sizes=(20, 20, 20),\n",
      "              learning_rate='adaptive', max_iter=150, solver='sgd',\n",
      "              verbose=True)\n",
      "              precision    recall  f1-score   support\n",
      "\n",
      "           1       0.85      0.80      0.83     53102\n",
      "           2       0.83      0.89      0.86     70613\n",
      "           3       0.78      0.85      0.81      9046\n",
      "           4       0.78      0.52      0.63       669\n",
      "           5       0.73      0.32      0.44      2337\n",
      "           6       0.63      0.51      0.57      4342\n",
      "           7       0.88      0.78      0.83      5144\n",
      "\n",
      "    accuracy                           0.83    145253\n",
      "   macro avg       0.78      0.67      0.71    145253\n",
      "weighted avg       0.83      0.83      0.83    145253\n",
      "\n"
     ]
    }
   ],
   "source": [
    "reporting(classificationList)"
   ]
  },
  {
   "cell_type": "code",
   "execution_count": 32,
   "id": "74a399f7-9f58-4c18-9122-6cd52a869c2f",
   "metadata": {
    "tags": []
   },
   "outputs": [
    {
     "name": "stdout",
     "output_type": "stream",
     "text": [
      "MLPClassifier(early_stopping=True, hidden_layer_sizes=(20, 20, 20),\n",
      "              max_iter=150, solver='sgd', verbose=True)\n",
      "Accuracy: \t82.85\n",
      "Recall: \t82.85\n",
      "precision: \t82.68\n",
      "MLPClassifier(early_stopping=True, hidden_layer_sizes=(20, 20, 20),\n",
      "              learning_rate='invscaling', max_iter=150, solver='sgd',\n",
      "              verbose=True)\n"
     ]
    },
    {
     "name": "stderr",
     "output_type": "stream",
     "text": [
      "/opt/jupyterhub/lib/python3.9/site-packages/sklearn/metrics/_classification.py:1308: UndefinedMetricWarning: Precision is ill-defined and being set to 0.0 in labels with no predicted samples. Use `zero_division` parameter to control this behavior.\n",
      "  _warn_prf(average, modifier, msg_start, len(result))\n"
     ]
    },
    {
     "name": "stdout",
     "output_type": "stream",
     "text": [
      "Accuracy: \t70.03\n",
      "Recall: \t70.03\n",
      "precision: \t67.26\n",
      "MLPClassifier(early_stopping=True, hidden_layer_sizes=(20, 20, 20),\n",
      "              learning_rate='adaptive', max_iter=150, solver='sgd',\n",
      "              verbose=True)\n",
      "Accuracy: \t83.18\n",
      "Recall: \t83.18\n",
      "precision: \t83.04\n"
     ]
    }
   ],
   "source": [
    "accuracyPlotting(classificationList)"
   ]
  },
  {
   "cell_type": "markdown",
   "id": "254cdfe5-bcc2-4d94-94d9-e4977915308d",
   "metadata": {
    "tags": []
   },
   "source": [
    "## Fazit\n",
    "<li> Das zweite Netz mit der invscaling learningrate braucht einen weiteren weiteren Parameter (zerodevision), um besser zu performen.</li>\n",
    "<li> Das dritte Netz miz der adaptive learning-rate schnitt am besten ab  </li>\n",
    "<li> Das steht im Unterschied zu den Learningrates mit dem Adam-Solver </li>"
   ]
  }
 ],
 "metadata": {
  "kernelspec": {
   "display_name": "Python 3 (ipykernel)",
   "language": "python",
   "name": "python3"
  },
  "language_info": {
   "codemirror_mode": {
    "name": "ipython",
    "version": 3
   },
   "file_extension": ".py",
   "mimetype": "text/x-python",
   "name": "python",
   "nbconvert_exporter": "python",
   "pygments_lexer": "ipython3",
   "version": "3.9.7"
  }
 },
 "nbformat": 4,
 "nbformat_minor": 5
}
